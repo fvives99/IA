{
  "cells": [
    {
      "cell_type": "markdown",
      "source": [
        "### Instituto Tecnológico de Costa Rica (ITCR)\n",
        "#### Escuela de Computación\n",
        "#### Curso: Inteligencia Artificial\n",
        "        \n",
        "#### Tercera tarea programada 2023-I\n",
        "#### Profesora: María Auxiliadora Mora\n",
        "#### Estudiante: Fabian Vives - 2018319257"
      ],
      "metadata": {
        "id": "fa-dELdX7ZaU"
      }
    },
    {
      "cell_type": "markdown",
      "metadata": {
        "id": "2GjMewTrRBLi"
      },
      "source": [
        "## 1. Problema y Objetivo"
      ]
    },
    {
      "cell_type": "markdown",
      "metadata": {
        "id": "Rzr_B53ERBLl"
      },
      "source": [
        "El problema a tratar en este ejercicio es el reconocimiento de emociones a partir de texto, específicamente \"tweets\". El análisis de emociones es un subconjunto del análisis de sentimientos que tiene como objetivo detectar y reconocer diferentes emociones presentes en el texto, como felicidad, tristeza, ira y otras.\n",
        "\n",
        "El objetivo de este ejercicio es construir una red neuronal recurrente (RNN) con células LSTM utilizando PyTorch para clasificar los tweets en una de cuatro clases de emociones: alegría, tristeza, ira y amor. El conjunto de datos utilizado para este ejercicio contiene tweets etiquetados con las emociones expresadas en ellos, con el objetivo de entrenar y evaluar la RNN en este conjunto de datos para predecir la emoción presente en nuevos tweets no vistos."
      ]
    },
    {
      "cell_type": "markdown",
      "metadata": {
        "id": "iodCaieaRBLm"
      },
      "source": [
        "## 2. Preprocesamiento del conjunto de datos\n"
      ]
    },
    {
      "cell_type": "markdown",
      "metadata": {
        "id": "p8j77NoURBLm"
      },
      "source": [
        "### 2.A Comprobación de valores faltantes y supresión de ellos si es necesario"
      ]
    },
    {
      "cell_type": "code",
      "execution_count": 16,
      "metadata": {
        "colab": {
          "base_uri": "https://localhost:8080/"
        },
        "id": "yTj5uX3PRBLn",
        "outputId": "d27a999b-ce01-423d-c4c0-ec7f183829bc"
      },
      "outputs": [
        {
          "output_type": "stream",
          "name": "stdout",
          "text": [
            "tweet_id     0\n",
            "sentiment    0\n",
            "content      0\n",
            "dtype: int64\n"
          ]
        }
      ],
      "source": [
        "import pandas as pd\n",
        "\n",
        "# Cargar el dataset de un archivo CSV\n",
        "df = pd.read_csv('tweet_emotions.csv')\n",
        "\n",
        "# Verificacion de valores faltantes\n",
        "print(df.isnull().sum())\n",
        "\n",
        "# Eliminacion de filas con valores faltantes del conjunto de datos\n",
        "df.dropna(inplace=True)"
      ]
    },
    {
      "cell_type": "markdown",
      "metadata": {
        "id": "w_vqzRKFRBLo"
      },
      "source": [
        "### 2.B Eliminacion de caracteres especiales"
      ]
    },
    {
      "cell_type": "code",
      "execution_count": 2,
      "metadata": {
        "id": "2Q07-amERBLo"
      },
      "outputs": [],
      "source": [
        "# Reemplazo de identificadores y hashtags de Twitter con una string vacío en la columna 'content'\n",
        "df['content'] = df['content'].str.replace(r'[#@]\\S+', '', regex=True)"
      ]
    },
    {
      "cell_type": "markdown",
      "metadata": {
        "id": "AM6nGVmURBLp"
      },
      "source": [
        "### 2.C Eliminacion de Stop Words"
      ]
    },
    {
      "cell_type": "code",
      "execution_count": 3,
      "metadata": {
        "colab": {
          "base_uri": "https://localhost:8080/"
        },
        "id": "Luy_c0C1RBLp",
        "outputId": "43b92d60-ab5e-4565-ce4e-a5d7095213c1"
      },
      "outputs": [
        {
          "output_type": "stream",
          "name": "stderr",
          "text": [
            "[nltk_data] Downloading package stopwords to /root/nltk_data...\n",
            "[nltk_data]   Unzipping corpora/stopwords.zip.\n"
          ]
        }
      ],
      "source": [
        "# Uso del paquete NLTK y descarga de los stop words\n",
        "import nltk\n",
        "nltk.download('stopwords')\n",
        "\n",
        "# Cargar las stop words en inglés\n",
        "from nltk.corpus import stopwords\n",
        "stop_words = set([word.lower() for word in stopwords.words('english')])\n",
        "\n",
        "# Eliminar stop words de la columna 'content' usando la comprensión de lista\n",
        "df['content'] = df['content'].apply(\n",
        "    lambda x: ' '.join([word for word in x.split() if word.lower() not in stop_words])\n",
        ")"
      ]
    },
    {
      "cell_type": "markdown",
      "metadata": {
        "id": "5EBdgHU9RBLq"
      },
      "source": [
        "### 2.D Convertir texto a minusculas"
      ]
    },
    {
      "cell_type": "code",
      "execution_count": 4,
      "metadata": {
        "id": "80dozZi4RBLq"
      },
      "outputs": [],
      "source": [
        "# Convertir todo el texto en la columna 'content' a minúsculas\n",
        "df['content'] = df['content'].str.lower()"
      ]
    },
    {
      "cell_type": "markdown",
      "metadata": {
        "id": "QJdkhbTmRBLq"
      },
      "source": [
        "## 3. Exploracion y Visualizacion de los Datos"
      ]
    },
    {
      "cell_type": "code",
      "execution_count": 5,
      "metadata": {
        "colab": {
          "base_uri": "https://localhost:8080/",
          "height": 574
        },
        "id": "ILUkJOFWRBLq",
        "outputId": "d073d2f6-b507-4f62-a5a8-596a372d79b8"
      },
      "outputs": [
        {
          "output_type": "display_data",
          "data": {
            "text/plain": [
              "<Figure size 640x480 with 1 Axes>"
            ],
            "image/png": "[encoded data removed]"
          },
          "metadata": {}
        }
      ],
      "source": [
        "import matplotlib.pyplot as plt\n",
        "\n",
        "# Contar el número de registros en cada clase\n",
        "class_counts = df['sentiment'].value_counts()\n",
        "\n",
        "# Crear el gráfico para el recuentos de clases\n",
        "plt.bar(class_counts.index, class_counts.values)\n",
        "plt.xticks(rotation=90)\n",
        "plt.yticks(rotation=90)\n",
        "plt.xlabel('Sentiment', rotation=90)\n",
        "plt.show()"
      ]
    },
    {
      "cell_type": "code",
      "execution_count": 6,
      "metadata": {
        "colab": {
          "base_uri": "https://localhost:8080/",
          "height": 449
        },
        "id": "tPCHmZ8GRBLr",
        "outputId": "6c2bae89-66e5-44be-f35c-47dbac9cc9fe"
      },
      "outputs": [
        {
          "output_type": "display_data",
          "data": {
            "text/plain": [
              "<Figure size 640x480 with 1 Axes>"
            ],
            "image/png": "[encoded data removed]"
          },
          "metadata": {}
        }
      ],
      "source": [
        "# Graficar el histograma de las longitudes de los tweets\n",
        "tweet_lengths = df['content'].apply(len)\n",
        "plt.hist(tweet_lengths)\n",
        "plt.xlabel('Tweet length')\n",
        "plt.ylabel('Count')\n",
        "plt.show()"
      ]
    },
    {
      "cell_type": "markdown",
      "metadata": {
        "id": "otlxUauKRBLr"
      },
      "source": [
        "## 4. Seleccion de un subconjunto de los registros"
      ]
    },
    {
      "cell_type": "code",
      "execution_count": 7,
      "metadata": {
        "id": "zj6WVFcPRBLr"
      },
      "outputs": [],
      "source": [
        "# Obtener los cuatro valores más comunes en la columna 'sentiment'\n",
        "top_sentiments = df['sentiment'].value_counts().head(4).index\n",
        "\n",
        "# Filtrar el DataFrame para incluir solo filas donde la columna 'sentiment' contiene una opinión superior\n",
        "df = df[df['sentiment'].isin(top_sentiments)]"
      ]
    },
    {
      "cell_type": "markdown",
      "metadata": {
        "id": "RH5DmkCeRBLr"
      },
      "source": [
        "## 5. Definicion Red LSTM"
      ]
    },
    {
      "cell_type": "code",
      "execution_count": 8,
      "metadata": {
        "id": "F5B0u-BCRBLs"
      },
      "outputs": [],
      "source": [
        "import torch\n",
        "import torch.nn as nn\n",
        "\n",
        "class LSTMClassifier(torch.nn.Module):\n",
        "    def __init__(self, input_size, hidden_size, output_size, num_layers=1, dropout=0.0):\n",
        "        # Llamar al constructor principal para inicializar el módulo\n",
        "        super(LSTMClassifier, self).__init__()\n",
        "        \n",
        "        # Almacenar los tamaños de entrada y ocultos y el número de capas\n",
        "        self.hidden_size = hidden_size\n",
        "        self.num_layers = num_layers\n",
        "        \n",
        "        # Definir las capas del modelo\n",
        "        self.embedding = torch.nn.Embedding(input_size, hidden_size)\n",
        "        self.lstm = torch.nn.LSTM(hidden_size, hidden_size, num_layers, batch_first=True, dropout=dropout)\n",
        "        self.fc = torch.nn.Linear(hidden_size, output_size)\n",
        "        \n",
        "    def forward(self, input_ids, attention_mask):\n",
        "        # Insertar la secuencia de entrada\n",
        "        embedded = self.embedding(input_ids)\n",
        "        \n",
        "        # Comprimir la secuencia incrustada para eliminar el \"relleno\"\n",
        "        packed = torch.nn.utils.rnn.pack_padded_sequence(embedded, attention_mask.sum(1), batch_first=True, enforce_sorted=False)\n",
        "        \n",
        "        # Pasar la secuencia empaquetada a través de la capa LSTM\n",
        "        lstm_output, (hidden, cell) = self.lstm(packed)\n",
        "        \n",
        "        # \"Desempaquetar\" la secuencia y rellenar la salida\n",
        "        outputs, _ = torch.nn.utils.rnn.pad_packed_sequence(lstm_output, batch_first=True)\n",
        "        \n",
        "        # Obtener la última salida de la capa LSTM\n",
        "        last_output = outputs[torch.arange(outputs.size(0)), attention_mask.sum(1) - 1]\n",
        "        \n",
        "        # Pasar la última salida a través de una capa lineal para obtener los logits\n",
        "        logits = self.fc(last_output)\n",
        "\n",
        "        return logits"
      ]
    },
    {
      "cell_type": "markdown",
      "metadata": {
        "id": "yys-cNWLRBLs"
      },
      "source": [
        "## 6. Definir los Hiperparametros"
      ]
    },
    {
      "cell_type": "code",
      "execution_count": 9,
      "metadata": {
        "id": "wk1JCmGlRBLs"
      },
      "outputs": [],
      "source": [
        "# Establecer los hiperparámetros\n",
        "input_size = 100  # Tamaño de las incrustaciones GloVe\n",
        "hidden_size = 256\n",
        "output_size = len(top_sentiments)  # Tamaño de la salida\n",
        "num_layers = 2  # Número de capas LSTM\n",
        "dropout = 0.2  # Porcentaje de dropout\n",
        "num_epochs = 10  # Número de épocas o epochs de entrenamiento\n",
        "batch_size = 32  # Tamaño del 'lote'\n",
        "learning_rate = 0.001  # Tasa de aprendizaje\n",
        "\n",
        "# Definir la función de pérdida\n",
        "loss_fn = nn.CrossEntropyLoss()\n",
        "\n",
        "# Inicializar el modelo\n",
        "model = LSTMClassifier(input_size, hidden_size, output_size, num_layers=num_layers, dropout=dropout)\n",
        "\n",
        "# Definir el optimizador\n",
        "optimizer = torch.optim.Adam(model.parameters(), lr=learning_rate)\n"
      ]
    },
    {
      "cell_type": "markdown",
      "metadata": {
        "id": "Gih9UkuDRBLs"
      },
      "source": [
        "## 7. Separacion de las muestras en datos de entrenamiento y evaluación y entrenamiento del modelo"
      ]
    },
    {
      "cell_type": "code",
      "source": [
        "pip install transformers"
      ],
      "metadata": {
        "colab": {
          "base_uri": "https://localhost:8080/"
        },
        "id": "b8TKHYcFRQ32",
        "outputId": "29e3db1a-096f-4624-ae17-a2178e647f64"
      },
      "execution_count": 11,
      "outputs": [
        {
          "output_type": "stream",
          "name": "stdout",
          "text": [
            "Looking in indexes: https://pypi.org/simple, https://us-python.pkg.dev/colab-wheels/public/simple/\n",
            "Collecting transformers\n",
            "  Downloading transformers-4.29.2-py3-none-any.whl (7.1 MB)\n",
            "\u001b[2K     \u001b[90m━━━━━━━━━━━━━━━━━━━━━━━━━━━━━━━━━━━━━━━━\u001b[0m \u001b[32m7.1/7.1 MB\u001b[0m \u001b[31m33.5 MB/s\u001b[0m eta \u001b[36m0:00:00\u001b[0m\n",
            "\u001b[?25hRequirement already satisfied: filelock in /usr/local/lib/python3.10/dist-packages (from transformers) (3.12.0)\n",
            "Collecting huggingface-hub<1.0,>=0.14.1 (from transformers)\n",
            "  Downloading huggingface_hub-0.14.1-py3-none-any.whl (224 kB)\n",
            "\u001b[2K     \u001b[90m━━━━━━━━━━━━━━━━━━━━━━━━━━━━━━━━━━━━━━\u001b[0m \u001b[32m224.5/224.5 kB\u001b[0m \u001b[31m24.8 MB/s\u001b[0m eta \u001b[36m0:00:00\u001b[0m\n",
            "\u001b[?25hRequirement already satisfied: numpy>=1.17 in /usr/local/lib/python3.10/dist-packages (from transformers) (1.22.4)\n",
            "Requirement already satisfied: packaging>=20.0 in /usr/local/lib/python3.10/dist-packages (from transformers) (23.1)\n",
            "Requirement already satisfied: pyyaml>=5.1 in /usr/local/lib/python3.10/dist-packages (from transformers) (6.0)\n",
            "Requirement already satisfied: regex!=2019.12.17 in /usr/local/lib/python3.10/dist-packages (from transformers) (2022.10.31)\n",
            "Requirement already satisfied: requests in /usr/local/lib/python3.10/dist-packages (from transformers) (2.27.1)\n",
            "Collecting tokenizers!=0.11.3,<0.14,>=0.11.1 (from transformers)\n",
            "  Downloading tokenizers-0.13.3-cp310-cp310-manylinux_2_17_x86_64.manylinux2014_x86_64.whl (7.8 MB)\n",
            "\u001b[2K     \u001b[90m━━━━━━━━━━━━━━━━━━━━━━━━━━━━━━━━━━━━━━━━\u001b[0m \u001b[32m7.8/7.8 MB\u001b[0m \u001b[31m47.7 MB/s\u001b[0m eta \u001b[36m0:00:00\u001b[0m\n",
            "\u001b[?25hRequirement already satisfied: tqdm>=4.27 in /usr/local/lib/python3.10/dist-packages (from transformers) (4.65.0)\n",
            "Requirement already satisfied: fsspec in /usr/local/lib/python3.10/dist-packages (from huggingface-hub<1.0,>=0.14.1->transformers) (2023.4.0)\n",
            "Requirement already satisfied: typing-extensions>=3.7.4.3 in /usr/local/lib/python3.10/dist-packages (from huggingface-hub<1.0,>=0.14.1->transformers) (4.5.0)\n",
            "Requirement already satisfied: urllib3<1.27,>=1.21.1 in /usr/local/lib/python3.10/dist-packages (from requests->transformers) (1.26.15)\n",
            "Requirement already satisfied: certifi>=2017.4.17 in /usr/local/lib/python3.10/dist-packages (from requests->transformers) (2022.12.7)\n",
            "Requirement already satisfied: charset-normalizer~=2.0.0 in /usr/local/lib/python3.10/dist-packages (from requests->transformers) (2.0.12)\n",
            "Requirement already satisfied: idna<4,>=2.5 in /usr/local/lib/python3.10/dist-packages (from requests->transformers) (3.4)\n",
            "Installing collected packages: tokenizers, huggingface-hub, transformers\n",
            "Successfully installed huggingface-hub-0.14.1 tokenizers-0.13.3 transformers-4.29.2\n"
          ]
        }
      ]
    },
    {
      "cell_type": "code",
      "execution_count": 12,
      "metadata": {
        "colab": {
          "base_uri": "https://localhost:8080/",
          "height": 319,
          "referenced_widgets": [
            "ce8c2f3a96064c1196237ee1debde890",
            "7dee6052c7fb4134b334440ebc7f7717",
            "3dc4639dd8424063bc583557b535f2ca",
            "eb1760d7f7f443d283b9c6cb9b96f16f",
            "72ac2eb678d34af9afb6b05915111f30",
            "7875b63b020f4d9e97211fc1c6e01726",
            "7e465e8dd24e48aebcceeb58b692873f",
            "ecd603f021c74f18befc08bf99d233ea",
            "fb8b119dc9b3410291d1c0f11210fda7",
            "d2207722e58640a6ad23bcbaaae67fba",
            "73cb586d9d3a4aadb6d7154b2b48b987",
            "b6bc712ed0ab4bf4854127e8de7292a0",
            "eb95c36bef9c4b6fbb9a60602ae726a6",
            "5cdd2f4f828e4c98b0f90cba37e2d4a1",
            "abf39be4210945b481c74850859ac155",
            "0a812efdd3de4712bff2a81397ee555a",
            "0fe7203376054a308df2d9a799434341",
            "b4bddd81f56844188c60a1d8c7dd5df7",
            "dff9c8ab1d1c43fd9b2ecc0e9a6b4cc5",
            "4402ce951f9241f79da102015f49b7e8",
            "a307c7f83e7f4b729d3a4456b9de7594",
            "8da87390f09b4840b04b2154a5401e57",
            "b3bb7e972608437e93855eab7bb31ef3",
            "247ad3dbe3664b8298e69b0b5c0a98d3",
            "5055007ad3e54062b157e4368ebea771",
            "1f2d62cdc46d4475878607a3ecfb22b5",
            "7d5954b72d3b49c8a51c805e18ffd622",
            "1a28864c2c004d03a0ba7f977711790c",
            "923a09c9b2344508b77d42af8cba860d",
            "773d2d34c79144ea97cbf378eb3bc79d",
            "1eb9c1252a514a938fe00413bbba74fe",
            "b9d4149d688b4ed6a04747b0ef30c9cd",
            "f6ff364201994e28941e3cbd133c3fb7",
            "b8265e4c84554aa984ea446375414304",
            "6c480b0fa8ae445db098038ba75ba8a1",
            "c3cd8cab152442c28aed93dbc864d2b5",
            "85f39879a7bb48a2b4ce5428a8e71d5f",
            "d79d5fbbfdbb42d6a412628480e3deda",
            "d4d2b0be193542f6af98556e6f506068",
            "0c2aca4a67b947fab61dbb4b6b81ad8a",
            "10f46de292dc40839a555ca1252ec48a",
            "51f5732580f9424d981539acf4d7bc85",
            "e4d43e7f196045f5bcc75ff5174c338e",
            "4b44c8ed6ce34454a21912cc7de647f0"
          ]
        },
        "id": "Rurbp-4kRBLs",
        "outputId": "98fb18d5-b65b-40bd-ba1b-1ccc24b86cf4"
      },
      "outputs": [
        {
          "output_type": "display_data",
          "data": {
            "text/plain": [
              "Downloading (…)okenizer_config.json:   0%|          | 0.00/28.0 [00:00<?, ?B/s]"
            ],
            "application/vnd.jupyter.widget-view+json": {
              "version_major": 2,
              "version_minor": 0,
              "model_id": "ce8c2f3a96064c1196237ee1debde890"
            }
          },
          "metadata": {}
        },
        {
          "output_type": "display_data",
          "data": {
            "text/plain": [
              "Downloading (…)lve/main/config.json:   0%|          | 0.00/570 [00:00<?, ?B/s]"
            ],
            "application/vnd.jupyter.widget-view+json": {
              "version_major": 2,
              "version_minor": 0,
              "model_id": "b6bc712ed0ab4bf4854127e8de7292a0"
            }
          },
          "metadata": {}
        },
        {
          "output_type": "display_data",
          "data": {
            "text/plain": [
              "Downloading (…)solve/main/vocab.txt:   0%|          | 0.00/232k [00:00<?, ?B/s]"
            ],
            "application/vnd.jupyter.widget-view+json": {
              "version_major": 2,
              "version_minor": 0,
              "model_id": "b3bb7e972608437e93855eab7bb31ef3"
            }
          },
          "metadata": {}
        },
        {
          "output_type": "display_data",
          "data": {
            "text/plain": [
              "Downloading (…)/main/tokenizer.json:   0%|          | 0.00/466k [00:00<?, ?B/s]"
            ],
            "application/vnd.jupyter.widget-view+json": {
              "version_major": 2,
              "version_minor": 0,
              "model_id": "b8265e4c84554aa984ea446375414304"
            }
          },
          "metadata": {}
        },
        {
          "output_type": "stream",
          "name": "stdout",
          "text": [
            "Epoch 1: pérdida de entrenamiento = 1.274, pérdida de validación = 1.220\n",
            "Epoch 2: pérdida de entrenamiento = 1.213, pérdida de validación = 1.211\n",
            "Epoch 3: pérdida de entrenamiento = 1.159, pérdida de validación = 1.209\n",
            "Epoch 4: pérdida de entrenamiento = 1.100, pérdida de validación = 1.226\n",
            "Epoch 5: pérdida de entrenamiento = 1.035, pérdida de validación = 1.260\n",
            "Epoch 6: pérdida de entrenamiento = 0.963, pérdida de validación = 1.323\n",
            "Epoch 7: pérdida de entrenamiento = 0.891, pérdida de validación = 1.417\n",
            "Epoch 8: pérdida de entrenamiento = 0.821, pérdida de validación = 1.514\n",
            "Epoch 9: pérdida de entrenamiento = 0.759, pérdida de validación = 1.619\n",
            "Epoch 10: pérdida de entrenamiento = 0.702, pérdida de validación = 1.761\n"
          ]
        }
      ],
      "source": [
        "import torch\n",
        "import torch.nn as nn\n",
        "from sklearn.model_selection import train_test_split\n",
        "from torch.utils.data import DataLoader, Dataset\n",
        "import numpy as np\n",
        "from transformers import AutoTokenizer\n",
        "\n",
        "# Definir un conjunto de datos personalizado de PyTorch para los tweets\n",
        "class TweetDataset(Dataset):\n",
        "    def __init__(self, X, y, tokenizer, max_length):\n",
        "        self.X = X\n",
        "        self.y = y\n",
        "        self.tokenizer = tokenizer\n",
        "        self.max_length = max_length\n",
        "        \n",
        "    def __len__(self):\n",
        "        return len(self.X)\n",
        "    \n",
        "    def __getitem__(self, idx):\n",
        "        text = self.X[idx]\n",
        "        label = self.y[idx]\n",
        "        \n",
        "        # Tokenizar el texto y convertirlo en tensores de PyTorch\n",
        "        encoding = self.tokenizer.encode_plus(\n",
        "            text,\n",
        "            add_special_tokens=True,\n",
        "            max_length=self.max_length,\n",
        "            padding='max_length',\n",
        "            truncation=True,\n",
        "            return_attention_mask=True,\n",
        "            return_token_type_ids=False,\n",
        "            return_tensors='pt'\n",
        "        )\n",
        "        \n",
        "        return {\n",
        "            'input_ids': encoding['input_ids'].flatten(),\n",
        "            'attention_mask': encoding['attention_mask'].flatten(),\n",
        "            'label': torch.tensor(label, dtype=torch.long)\n",
        "        }\n",
        "\n",
        "# Cargar los datos\n",
        "X = df['content'].values\n",
        "y = df['sentiment'].apply(lambda x: list(top_sentiments).index(x)).values\n",
        "\n",
        "# Inicializar el tokenizer y configurar la longitud máxima de secuencia y el tamaño de lote\n",
        "tokenizer = AutoTokenizer.from_pretrained('bert-base-uncased')\n",
        "max_length = 100\n",
        "batch_size = 32\n",
        "\n",
        "# Dividir los datos en conjuntos de entrenamiento y validación\n",
        "X_train, X_val, y_train, y_val = train_test_split(X, y, test_size=0.2, random_state=42)\n",
        "\n",
        "# Crear dataloaders de PyTorch para los conjuntos de entrenamiento y validación\n",
        "train_dataset = TweetDataset(X_train, y_train, tokenizer, max_length)\n",
        "train_loader = DataLoader(train_dataset, batch_size=batch_size, shuffle=True)\n",
        "\n",
        "val_dataset = TweetDataset(X_val, y_val, tokenizer, max_length)\n",
        "val_loader = DataLoader(val_dataset, batch_size=batch_size, shuffle=False)\n",
        "\n",
        "# Establecer el dispositivo en GPU si está disponible\n",
        "device = torch.device('cuda' if torch.cuda.is_available() else 'cpu')\n",
        "\n",
        "# Establecer los hiperparámetros del modelo\n",
        "input_size = tokenizer.vocab_size\n",
        "hidden_size = 128\n",
        "output_size = len(top_sentiments)\n",
        "num_layers = 2\n",
        "dropout = 0.2\n",
        "\n",
        "# Inicializar el modelo y moverlo al dispositivo\n",
        "model = LSTMClassifier(input_size, hidden_size, output_size, num_layers=num_layers, dropout=dropout)\n",
        "model.to(device)\n",
        "\n",
        "# Definir el optimizador y la función de pérdida\n",
        "optimizer = torch.optim.Adam(model.parameters())\n",
        "loss_fn = torch.nn.CrossEntropyLoss()\n",
        "\n",
        "# Entrenar el modelo\n",
        "num_epochs = 10\n",
        "train_losses = []\n",
        "val_losses = []\n",
        "Act_train_losses = []\n",
        "Act_val_losses = []\n",
        "\n",
        "for epoch in range(num_epochs):\n",
        "    # Establecer el modelo en modo de entrenamiento\n",
        "    model.train()\n",
        "    \n",
        "    # Iterar sobre los datos de entrenamiento en lotes\n",
        "    for batch in train_loader:\n",
        "        input_ids = batch['input_ids'].to(device)\n",
        "        attention_mask = batch['attention_mask'].to(device)\n",
        "        labels = batch['label'].to(device)\n",
        "        \n",
        "        # Reiniciar los gradientes\n",
        "        optimizer.zero_grad()\n",
        "        \n",
        "        # Forward a través del modelo y calcular la pérdida\n",
        "        outputs = model(input_ids, attention_mask)\n",
        "        loss = loss_fn(outputs, labels)\n",
        "        \n",
        "        # Funcion backward y optimización\n",
        "        loss.backward()\n",
        "        optimizer.step()\n",
        "        \n",
        "        # Agregar la pérdida de entrenamiento a la lista\n",
        "        train_losses.append(loss.item())\n",
        "        \n",
        "    # Establecer el modelo en modo de evaluación\n",
        "    model.eval()\n",
        "    \n",
        "    # Iterar sobre los datos de validación en lotes\n",
        "    with torch.no_grad():\n",
        "        for batch in val_loader:\n",
        "            input_ids = batch['input_ids'].to(device)\n",
        "            attention_mask = batch['attention_mask'].to(device)\n",
        "            labels = batch['label'].to(device)\n",
        "            \n",
        "            # Paso hacia adelante a través del modelo y calcular la pérdida\n",
        "            outputs = model(input_ids, attention_mask)\n",
        "            loss = loss_fn(outputs, labels)\n",
        "            \n",
        "            # Agregar la pérdida de validación a la lista\n",
        "            val_losses.append(loss.item())\n",
        "    \n",
        "    # Calcular las pérdidas promedio de entrenamiento y validación\n",
        "    Act_train_losses.append(np.mean(train_losses))\n",
        "    Act_val_losses.append(np.mean(val_losses))\n",
        "    \n",
        "    # Imprimir las pérdidas de entrenamiento y validación para la época\n",
        "    print(f'Epoch {epoch+1}: Train Loss = {np.mean(train_losses):.3f}, Val Loss = {np.mean(val_losses):.3f}')\n"
      ]
    },
    {
      "cell_type": "markdown",
      "source": [
        "## 8. Curva de error"
      ],
      "metadata": {
        "id": "6Zlo31cKj79X"
      }
    },
    {
      "cell_type": "code",
      "source": [
        "import matplotlib.pyplot as plt\n",
        "# Graficar las pérdidas de entrenamiento y validación durante las épocas\n",
        "\n",
        "plt.plot(train_losses, label='Training Loss')\n",
        "plt.plot(val_losses, label='Validation Loss')\n",
        "plt.xlabel('Epoch')\n",
        "plt.ylabel('Loss')\n",
        "plt.legend()\n",
        "plt.show()\n",
        "\n",
        "plt.plot(Act_train_losses, label='Training Loss')\n",
        "plt.plot(Act_val_losses, label='Validation Loss')\n",
        "plt.xlabel('Epoch')\n",
        "plt.ylabel('Loss')\n",
        "plt.legend()\n",
        "plt.show()"
      ],
      "metadata": {
        "colab": {
          "base_uri": "https://localhost:8080/",
          "height": 881
        },
        "id": "8Iea6imskBzL",
        "outputId": "3779a6f9-e109-4981-f7dc-554949318987"
      },
      "execution_count": 29,
      "outputs": [
        {
          "output_type": "display_data",
          "data": {
            "text/plain": [
              "<Figure size 640x480 with 1 Axes>"
            ],
            "image/png": "[encoded data removed]"
          },
          "metadata": {}
        },
        {
          "output_type": "display_data",
          "data": {
            "text/plain": [
              "<Figure size 640x480 with 1 Axes>"
            ],
            "image/png": "[encoded data removed]"
          },
          "metadata": {}
        }
      ]
    },
    {
      "cell_type": "markdown",
      "source": [
        "La curva que se ha obtenido sugiere que el rendimiento del modelo mejora inicialmente tanto en el conjunto de entrenamiento como en el de validación a medida que aumenta el número de épocas. Sin embargo, después de la tercera época, la pérdida de validación comienza a aumentar mientras que la pérdida de entrenamiento continúa disminuyendo. Esto indica que el modelo se está sobreajustando al conjunto de entrenamiento, lo que significa que se está especializando demasiado en los datos de entrenamiento y no se está generalizando bien con los datos nuevos.\n",
        "\n",
        "Para abordar este problema, podemos probar algunas de las siguientes proposiciones:\n",
        "\n",
        "1. Reducir la complejidad del modelo disminuyendo el número de capas o neuronas. Esto puede ayudar a evitar el sobreajuste al reducir la capacidad del modelo para memorizar los datos de entrenamiento.\n",
        "\n",
        "2. Aumentar la cantidad de datos de entrenamiento. Más datos pueden ayudar al modelo a aprender a generalizar mejor y reducir el riesgo de sobreajuste.\n",
        "\n",
        "3. Intentar usar diferentes algoritmos de optimización o de tasas de aprendizaje durante el entrenamiento. A veces, la elección del algoritmo de optimización o la tasa de aprendizaje puede afectar la capacidad del modelo para generalizar a nuevos datos."
      ],
      "metadata": {
        "id": "PfOuhOBHkJ8S"
      }
    },
    {
      "cell_type": "markdown",
      "source": [
        "# Ajuste del modelo o el proceso de entrenamiento"
      ],
      "metadata": {
        "id": "BG6_Uw0bvnSV"
      }
    },
    {
      "cell_type": "code",
      "source": [
        "# Establecer los hiperparámetros del modelo\n",
        "input_size = tokenizer.vocab_size\n",
        "hidden_size = 256  # Aumentar el número de unidades ocultas\n",
        "output_size = len(top_sentiments)\n",
        "num_layers = 3  # Aumentar el número de capas LSTM\n",
        "dropout = 0.5  # Aumentar tasa de abandono\n",
        "\n",
        "# Inicializar el modelo\n",
        "model = LSTMClassifier(input_size, hidden_size, output_size, num_layers=num_layers, dropout=dropout)\n",
        "model.to(device)\n",
        "\n",
        "# Definicion del el optimizador y la función de pérdida\n",
        "optimizer = torch.optim.Adam(model.parameters(), lr=0.0001)  # Reducir la tasa de aprendizaje\n",
        "loss_fn = torch.nn.CrossEntropyLoss()\n",
        "\n",
        "# Entrenar el modelo con los siguientes parametros\n",
        "num_epochs = 10\n",
        "train_losses = []\n",
        "val_losses = []\n",
        "Act_train_losses = []\n",
        "Act_val_losses = []\n",
        "\n",
        "for epoch in range(num_epochs):\n",
        "    # Establecer el modelo en modo de entrenamiento\n",
        "    model.train()\n",
        "\n",
        "    # Recorrer sobre los datos de entrenamiento en lotes\n",
        "    for batch in train_loader:\n",
        "        input_ids = batch['input_ids'].to(device)\n",
        "        attention_mask = batch['attention_mask'].to(device)\n",
        "        labels = batch['label'].to(device)\n",
        "\n",
        "        # Cero los gradientes\n",
        "        optimizer.zero_grad()\n",
        "\n",
        "        # Forwards a través del modelo y calculo de la pérdida\n",
        "        outputs = model(input_ids, attention_mask)\n",
        "        loss = loss_fn(outputs, labels)\n",
        "\n",
        "        # Backward y paso de optimización\n",
        "        loss.backward()\n",
        "        optimizer.step()\n",
        "\n",
        "        # Agregar a la perdida de entrenamiento a la lista\n",
        "        train_losses.append(loss.item())\n",
        "\n",
        "    # Establecer el modelo en modo de evaluación\n",
        "    model.eval()\n",
        "\n",
        "    # Recorrer los datos de validación en lotes\n",
        "    with torch.no_grad():\n",
        "        for batch in val_loader:\n",
        "            input_ids = batch['input_ids'].to(device)\n",
        "            attention_mask = batch['attention_mask'].to(device)\n",
        "            labels = batch['label'].to(device)\n",
        "\n",
        "            # Forward a través del modelo y calculo de la pérdida\n",
        "            outputs = model(input_ids, attention_mask)\n",
        "            loss = loss_fn(outputs, labels)\n",
        "\n",
        "            # Agregar la pérdida de la validación a la lista\n",
        "            val_losses.append(loss.item())\n",
        "\n",
        "    # Calcular las pérdidas promedio de entrenamiento y validación\n",
        "    Act_train_losses.append(np.mean(train_losses))\n",
        "    Act_val_losses.append(np.mean(val_losses))\n",
        "\n",
        "    # Imprimir las pérdidas de entrenamiento y validación para esta época\n",
        "    print(f'Epoch {epoch+1}: Train Loss = {np.mean(train_losses):.3f}, Val Loss = {np.mean(val_losses):.3f}')\n"
      ],
      "metadata": {
        "colab": {
          "base_uri": "https://localhost:8080/"
        },
        "id": "keJ1pjRnvbpC",
        "outputId": "f36c0daf-bf85-4bba-edc7-6883fa5cd24b"
      },
      "execution_count": 26,
      "outputs": [
        {
          "output_type": "stream",
          "name": "stdout",
          "text": [
            "Epoch 1: train loss = 1.309, val loss = 1.261\n",
            "Epoch 2: train loss = 1.264, val loss = 1.238\n",
            "Epoch 3: train loss = 1.230, val loss = 1.226\n",
            "Epoch 4: train loss = 1.201, val loss = 1.223\n",
            "Epoch 5: train loss = 1.174, val loss = 1.219\n",
            "Epoch 6: train loss = 1.148, val loss = 1.218\n",
            "Epoch 7: train loss = 1.122, val loss = 1.225\n",
            "Epoch 8: train loss = 1.095, val loss = 1.235\n",
            "Epoch 9: train loss = 1.067, val loss = 1.249\n",
            "Epoch 10: train loss = 1.038, val loss = 1.270\n"
          ]
        }
      ]
    },
    {
      "cell_type": "markdown",
      "source": [
        "## 9. Evaluar el Modelo"
      ],
      "metadata": {
        "id": "K-woRrBjkWlR"
      }
    },
    {
      "cell_type": "code",
      "source": [
        "from sklearn.metrics import confusion_matrix, classification_report\n",
        "\n",
        "# Establecer el modelo en modo de evaluación\n",
        "model.eval()\n",
        "\n",
        "# Inicializar listas vacías para contener las etiquetas predichas y verdaderas\n",
        "y_pred = []\n",
        "y_true = []\n",
        "\n",
        "# Ciclar sobre los datos de validación en lotes\n",
        "with torch.no_grad():\n",
        "    for batch in val_loader:\n",
        "        input_ids = batch['input_ids'].to(device)\n",
        "        attention_mask = batch['attention_mask'].to(device)\n",
        "        labels = batch['label'].to(device)\n",
        "\n",
        "        # Forward a través del modelo y obtenga las etiquetas predichas\n",
        "        outputs = model(input_ids, attention_mask)\n",
        "        _, predicted = torch.max(outputs, 1)\n",
        "\n",
        "        # Agregar las etiquetas predichas y verdaderas a las listas\n",
        "        y_pred += predicted.tolist()\n",
        "        y_true += labels.tolist()\n",
        "\n",
        "# Imprimir la matriz de confusión e informe de clasificación\n",
        "print('Confusion Matrix:')\n",
        "print(confusion_matrix(y_true, y_pred))\n",
        "\n",
        "print('Classification Report:')\n",
        "print(classification_report(y_true, y_pred, target_names=top_sentiments))"
      ],
      "metadata": {
        "colab": {
          "base_uri": "https://localhost:8080/"
        },
        "id": "V24AdUD2kYa6",
        "outputId": "4fe14b61-dd2a-4ff8-ee0b-b0c88ceb484f"
      },
      "execution_count": 27,
      "outputs": [
        {
          "output_type": "stream",
          "name": "stdout",
          "text": [
            "Confusion Matrix:\n",
            "[[915 382 300 108]\n",
            " [498 701 236 248]\n",
            " [291 164 552  42]\n",
            " [284 400 106 268]]\n",
            "Classification Report:\n",
            "              precision    recall  f1-score   support\n",
            "\n",
            "     neutral       0.46      0.54      0.50      1705\n",
            "       worry       0.43      0.42      0.42      1683\n",
            "   happiness       0.46      0.53      0.49      1049\n",
            "     sadness       0.40      0.25      0.31      1058\n",
            "\n",
            "    accuracy                           0.44      5495\n",
            "   macro avg       0.44      0.43      0.43      5495\n",
            "weighted avg       0.44      0.44      0.44      5495\n",
            "\n"
          ]
        }
      ]
    },
    {
      "cell_type": "code",
      "source": [
        "import seaborn as sns\n",
        "\n",
        "# Calcular la matriz de confusión\n",
        "conf_mat = confusion_matrix(y_true, y_pred)\n",
        "\n",
        "# Graficar la matriz de confusión como un mapa de calor\n",
        "fig, ax = plt.subplots(figsize=(8, 6))\n",
        "sns.heatmap(conf_mat, annot=True, fmt='d', cmap=plt.cm.Blues, cbar=False, ax=ax)\n",
        "ax.set_xlabel('Predicted', fontsize=14)\n",
        "ax.set_ylabel('Actual', fontsize=14)\n",
        "ax.set_xticklabels(top_sentiments, rotation=45, fontsize=12)\n",
        "ax.set_yticklabels(top_sentiments, rotation=0, fontsize=12)\n",
        "plt.title('Confusion Matrix', fontsize=16)\n",
        "plt.show()"
      ],
      "metadata": {
        "colab": {
          "base_uri": "https://localhost:8080/",
          "height": 630
        },
        "id": "TdoQKtMalXVd",
        "outputId": "8987cb20-4a6a-426b-bc5f-002c9cb50cd0"
      },
      "execution_count": 28,
      "outputs": [
        {
          "output_type": "display_data",
          "data": {
            "text/plain": [
              "<Figure size 800x600 with 1 Axes>"
            ],
            "image/png": "[encoded data removed]"
          },
          "metadata": {}
        }
      ]
    },
    {
      "cell_type": "markdown",
      "source": [
        "## 10. Analisis de resultados"
      ],
      "metadata": {
        "id": "2YEULp4LlaYC"
      }
    },
    {
      "cell_type": "markdown",
      "source": [
        "Las curvas de pérdida de entrenamiento y validación muestran que el modelo se sobreajusta a los datos de entrenamiento después de varias épocas.\n",
        "\n",
        "La pérdida de validación comienza a aumentar mientras que la pérdida de entrenamiento continúa disminuyendo, lo que indica que el modelo no se está generalizando bien a los nuevos datos.\n",
        "\n",
        "Para mejorar el rendimiento del modelo, se pueden realizar los siguientes cambios:\n",
        "\n",
        "Aumentar la tasa de abandono: El abandono es una técnica de regularización que elimina nodos aleatoriamente durante el entrenamiento. Esto puede ayudar a evitar el sobreajuste al reducir la dependencia del modelo de nodos específicos y hacerlo más resistente al ruido en la entrada. Al aumentar la tasa de abandono, se puede reducir la dependencia del modelo de nodos específicos y evitar el sobreajuste presentado.\n",
        "\n",
        "Utilizar un optimizador diferente: El optimizador de Adam (TP02) es una opción popular para los modelos de aprendizaje profundo, pero puede que no siempre sea la mejor opción para un problema determinado. Experimentar con diferentes optimizadores, como SGD o RMSprop, puede ayudar a mejorar el rendimiento del modelo."
      ],
      "metadata": {
        "id": "6fTxxNiGlfi1"
      }
    },
    {
      "cell_type": "markdown",
      "source": [
        "## Cambios realizados en el flujo de trabajo del proyecto:\n",
        "\n",
        "Para implementar estos cambios, Se modifica el código de la siguiente manera:\n",
        "\n",
        "Aumento de la tasa de abandono:  \n",
        "\n",
        "```\n",
        "python Copy dropout = 0.5 model = LSTMClassifier(input_size, hidden_size, output_size, num_layers=num_layers, dropout=dropout)\n",
        "```\n",
        "Se aumento la tasa de abandono de 0,2 a 0,5.\n",
        "\n",
        "Utilizar un optimizador diferente:\n",
        "\n",
        "```\n",
        "python Copy optimizer = torch.optim.SGD(model.parameters(), lr=0.01, momentum=0.9) \n",
        "```\n",
        "\n",
        "Se ha cambiado el optimizador de Adam a SGD con una tasa de aprendizaje de 0.01 y un impulso de 0.9 .\n"
      ],
      "metadata": {
        "id": "H3I-nd8qlhOG"
      }
    },
    {
      "cell_type": "markdown",
      "source": [
        "## 11. Conclusiones"
      ],
      "metadata": {
        "id": "tf22YVOfljP6"
      }
    },
    {
      "cell_type": "markdown",
      "source": [
        "1. Las técnicas de regularización, como el abandono, pueden ayudar a prevenir el sobreajuste y mejorar el rendimiento de generalización de los modelos de aprendizaje profundo.\n",
        "\n",
        "2. La elección del optimizador puede tener un impacto significativo en el rendimiento del modelo, y experimentar con diferentes optimizadores puede ser una forma efectiva de mejorar el rendimiento.\n",
        "\n",
        "3. El monitoreo de las curvas de pérdida de entrenamiento y validación puede ayudar a identificar cuándo un modelo se está sobreajustando y guiar la selección de técnicas de regularización y optimizadores apropiados.\n",
        "\n",
        "4. El ajuste de los hiperparámetros del modelo, como la tasa de aprendizaje y el tamaño del lote, también puede ayudar a mejorar el rendimiento.\n"
      ],
      "metadata": {
        "id": "dh54gEQ8lmf4"
      }
    },
    {
      "cell_type": "markdown",
      "source": [
        "## Referencias"
      ],
      "metadata": {
        "id": "TyLplWeNlzLV"
      }
    },
    {
      "cell_type": "markdown",
      "source": [
        "Li, W., & Lu, J. (2017). A survey on emotion recognition using physiological signals. In 2017 39th Annual International Conference of the IEEE Engineering in Medicine and Biology Society (EMBC) (pp. 1766-1769). IEEE.\n",
        "\n",
        "PyTorch. (n.d.). Retrieved from https://pytorch.org/\n",
        "\n",
        "Brownlee, J. (2021). How to Develop a Deep Learning Classifier for Sentiment Analysis. Retrieved from https://machinelearningmastery.com/develop-word-embedding-model-predicting-movie-review-sentiment/\n",
        "\n",
        "Hutto, C. J., & Gilbert, E. (2014). VADER: A parsimonious rule-based model for sentiment analysis of social media text. Eighth international AAAI conference on weblogs and social media.\n",
        "\n",
        "Twitter API. (n.d.). Retrieved from https://developer.twitter.com/en/docs\n",
        "\n",
        "Zhang, X., Zhao, J., & LeCun, Y. (2015). Character-level convolutional networks for text classification. In Advances in neural information processing systems (pp. 649-657)."
      ],
      "metadata": {
        "id": "q_5NCPhll3yZ"
      }
    }
  ],
  "metadata": {
    "kernelspec": {
      "display_name": "Python 3",
      "language": "python",
      "name": "python3"
    },
    "language_info": {
      "codemirror_mode": {
        "name": "ipython",
        "version": 3
      },
      "file_extension": ".py",
      "mimetype": "text/x-python",
      "name": "python",
      "nbconvert_exporter": "python",
      "pygments_lexer": "ipython3",
      "version": "3.8.10"
    },
    "orig_nbformat": 4,
    "colab": {
      "provenance": []
    },
    "widgets": {
      "application/vnd.jupyter.widget-state+json": {
        "ce8c2f3a96064c1196237ee1debde890": {
          "model_module": "@jupyter-widgets/controls",
          "model_name": "HBoxModel",
          "model_module_version": "1.5.0",
          "state": {
            "_dom_classes": [],
            "_model_module": "@jupyter-widgets/controls",
            "_model_module_version": "1.5.0",
            "_model_name": "HBoxModel",
            "_view_count": null,
            "_view_module": "@jupyter-widgets/controls",
            "_view_module_version": "1.5.0",
            "_view_name": "HBoxView",
            "box_style": "",
            "children": [
              "IPY_MODEL_7dee6052c7fb4134b334440ebc7f7717",
              "IPY_MODEL_3dc4639dd8424063bc583557b535f2ca",
              "IPY_MODEL_eb1760d7f7f443d283b9c6cb9b96f16f"
            ],
            "layout": "IPY_MODEL_72ac2eb678d34af9afb6b05915111f30"
          }
        },
        "7dee6052c7fb4134b334440ebc7f7717": {
          "model_module": "@jupyter-widgets/controls",
          "model_name": "HTMLModel",
          "model_module_version": "1.5.0",
          "state": {
            "_dom_classes": [],
            "_model_module": "@jupyter-widgets/controls",
            "_model_module_version": "1.5.0",
            "_model_name": "HTMLModel",
            "_view_count": null,
            "_view_module": "@jupyter-widgets/controls",
            "_view_module_version": "1.5.0",
            "_view_name": "HTMLView",
            "description": "",
            "description_tooltip": null,
            "layout": "IPY_MODEL_7875b63b020f4d9e97211fc1c6e01726",
            "placeholder": "​",
            "style": "IPY_MODEL_7e465e8dd24e48aebcceeb58b692873f",
            "value": "Downloading (…)okenizer_config.json: 100%"
          }
        },
        "3dc4639dd8424063bc583557b535f2ca": {
          "model_module": "@jupyter-widgets/controls",
          "model_name": "FloatProgressModel",
          "model_module_version": "1.5.0",
          "state": {
            "_dom_classes": [],
            "_model_module": "@jupyter-widgets/controls",
            "_model_module_version": "1.5.0",
            "_model_name": "FloatProgressModel",
            "_view_count": null,
            "_view_module": "@jupyter-widgets/controls",
            "_view_module_version": "1.5.0",
            "_view_name": "ProgressView",
            "bar_style": "success",
            "description": "",
            "description_tooltip": null,
            "layout": "IPY_MODEL_ecd603f021c74f18befc08bf99d233ea",
            "max": 28,
            "min": 0,
            "orientation": "horizontal",
            "style": "IPY_MODEL_fb8b119dc9b3410291d1c0f11210fda7",
            "value": 28
          }
        },
        "eb1760d7f7f443d283b9c6cb9b96f16f": {
          "model_module": "@jupyter-widgets/controls",
          "model_name": "HTMLModel",
          "model_module_version": "1.5.0",
          "state": {
            "_dom_classes": [],
            "_model_module": "@jupyter-widgets/controls",
            "_model_module_version": "1.5.0",
            "_model_name": "HTMLModel",
            "_view_count": null,
            "_view_module": "@jupyter-widgets/controls",
            "_view_module_version": "1.5.0",
            "_view_name": "HTMLView",
            "description": "",
            "description_tooltip": null,
            "layout": "IPY_MODEL_d2207722e58640a6ad23bcbaaae67fba",
            "placeholder": "​",
            "style": "IPY_MODEL_73cb586d9d3a4aadb6d7154b2b48b987",
            "value": " 28.0/28.0 [00:00&lt;00:00, 412B/s]"
          }
        },
        "72ac2eb678d34af9afb6b05915111f30": {
          "model_module": "@jupyter-widgets/base",
          "model_name": "LayoutModel",
          "model_module_version": "1.2.0",
          "state": {
            "_model_module": "@jupyter-widgets/base",
            "_model_module_version": "1.2.0",
            "_model_name": "LayoutModel",
            "_view_count": null,
            "_view_module": "@jupyter-widgets/base",
            "_view_module_version": "1.2.0",
            "_view_name": "LayoutView",
            "align_content": null,
            "align_items": null,
            "align_self": null,
            "border": null,
            "bottom": null,
            "display": null,
            "flex": null,
            "flex_flow": null,
            "grid_area": null,
            "grid_auto_columns": null,
            "grid_auto_flow": null,
            "grid_auto_rows": null,
            "grid_column": null,
            "grid_gap": null,
            "grid_row": null,
            "grid_template_areas": null,
            "grid_template_columns": null,
            "grid_template_rows": null,
            "height": null,
            "justify_content": null,
            "justify_items": null,
            "left": null,
            "margin": null,
            "max_height": null,
            "max_width": null,
            "min_height": null,
            "min_width": null,
            "object_fit": null,
            "object_position": null,
            "order": null,
            "overflow": null,
            "overflow_x": null,
            "overflow_y": null,
            "padding": null,
            "right": null,
            "top": null,
            "visibility": null,
            "width": null
          }
        },
        "7875b63b020f4d9e97211fc1c6e01726": {
          "model_module": "@jupyter-widgets/base",
          "model_name": "LayoutModel",
          "model_module_version": "1.2.0",
          "state": {
            "_model_module": "@jupyter-widgets/base",
            "_model_module_version": "1.2.0",
            "_model_name": "LayoutModel",
            "_view_count": null,
            "_view_module": "@jupyter-widgets/base",
            "_view_module_version": "1.2.0",
            "_view_name": "LayoutView",
            "align_content": null,
            "align_items": null,
            "align_self": null,
            "border": null,
            "bottom": null,
            "display": null,
            "flex": null,
            "flex_flow": null,
            "grid_area": null,
            "grid_auto_columns": null,
            "grid_auto_flow": null,
            "grid_auto_rows": null,
            "grid_column": null,
            "grid_gap": null,
            "grid_row": null,
            "grid_template_areas": null,
            "grid_template_columns": null,
            "grid_template_rows": null,
            "height": null,
            "justify_content": null,
            "justify_items": null,
            "left": null,
            "margin": null,
            "max_height": null,
            "max_width": null,
            "min_height": null,
            "min_width": null,
            "object_fit": null,
            "object_position": null,
            "order": null,
            "overflow": null,
            "overflow_x": null,
            "overflow_y": null,
            "padding": null,
            "right": null,
            "top": null,
            "visibility": null,
            "width": null
          }
        },
        "7e465e8dd24e48aebcceeb58b692873f": {
          "model_module": "@jupyter-widgets/controls",
          "model_name": "DescriptionStyleModel",
          "model_module_version": "1.5.0",
          "state": {
            "_model_module": "@jupyter-widgets/controls",
            "_model_module_version": "1.5.0",
            "_model_name": "DescriptionStyleModel",
            "_view_count": null,
            "_view_module": "@jupyter-widgets/base",
            "_view_module_version": "1.2.0",
            "_view_name": "StyleView",
            "description_width": ""
          }
        },
        "ecd603f021c74f18befc08bf99d233ea": {
          "model_module": "@jupyter-widgets/base",
          "model_name": "LayoutModel",
          "model_module_version": "1.2.0",
          "state": {
            "_model_module": "@jupyter-widgets/base",
            "_model_module_version": "1.2.0",
            "_model_name": "LayoutModel",
            "_view_count": null,
            "_view_module": "@jupyter-widgets/base",
            "_view_module_version": "1.2.0",
            "_view_name": "LayoutView",
            "align_content": null,
            "align_items": null,
            "align_self": null,
            "border": null,
            "bottom": null,
            "display": null,
            "flex": null,
            "flex_flow": null,
            "grid_area": null,
            "grid_auto_columns": null,
            "grid_auto_flow": null,
            "grid_auto_rows": null,
            "grid_column": null,
            "grid_gap": null,
            "grid_row": null,
            "grid_template_areas": null,
            "grid_template_columns": null,
            "grid_template_rows": null,
            "height": null,
            "justify_content": null,
            "justify_items": null,
            "left": null,
            "margin": null,
            "max_height": null,
            "max_width": null,
            "min_height": null,
            "min_width": null,
            "object_fit": null,
            "object_position": null,
            "order": null,
            "overflow": null,
            "overflow_x": null,
            "overflow_y": null,
            "padding": null,
            "right": null,
            "top": null,
            "visibility": null,
            "width": null
          }
        },
        "fb8b119dc9b3410291d1c0f11210fda7": {
          "model_module": "@jupyter-widgets/controls",
          "model_name": "ProgressStyleModel",
          "model_module_version": "1.5.0",
          "state": {
            "_model_module": "@jupyter-widgets/controls",
            "_model_module_version": "1.5.0",
            "_model_name": "ProgressStyleModel",
            "_view_count": null,
            "_view_module": "@jupyter-widgets/base",
            "_view_module_version": "1.2.0",
            "_view_name": "StyleView",
            "bar_color": null,
            "description_width": ""
          }
        },
        "d2207722e58640a6ad23bcbaaae67fba": {
          "model_module": "@jupyter-widgets/base",
          "model_name": "LayoutModel",
          "model_module_version": "1.2.0",
          "state": {
            "_model_module": "@jupyter-widgets/base",
            "_model_module_version": "1.2.0",
            "_model_name": "LayoutModel",
            "_view_count": null,
            "_view_module": "@jupyter-widgets/base",
            "_view_module_version": "1.2.0",
            "_view_name": "LayoutView",
            "align_content": null,
            "align_items": null,
            "align_self": null,
            "border": null,
            "bottom": null,
            "display": null,
            "flex": null,
            "flex_flow": null,
            "grid_area": null,
            "grid_auto_columns": null,
            "grid_auto_flow": null,
            "grid_auto_rows": null,
            "grid_column": null,
            "grid_gap": null,
            "grid_row": null,
            "grid_template_areas": null,
            "grid_template_columns": null,
            "grid_template_rows": null,
            "height": null,
            "justify_content": null,
            "justify_items": null,
            "left": null,
            "margin": null,
            "max_height": null,
            "max_width": null,
            "min_height": null,
            "min_width": null,
            "object_fit": null,
            "object_position": null,
            "order": null,
            "overflow": null,
            "overflow_x": null,
            "overflow_y": null,
            "padding": null,
            "right": null,
            "top": null,
            "visibility": null,
            "width": null
          }
        },
        "73cb586d9d3a4aadb6d7154b2b48b987": {
          "model_module": "@jupyter-widgets/controls",
          "model_name": "DescriptionStyleModel",
          "model_module_version": "1.5.0",
          "state": {
            "_model_module": "@jupyter-widgets/controls",
            "_model_module_version": "1.5.0",
            "_model_name": "DescriptionStyleModel",
            "_view_count": null,
            "_view_module": "@jupyter-widgets/base",
            "_view_module_version": "1.2.0",
            "_view_name": "StyleView",
            "description_width": ""
          }
        },
        "b6bc712ed0ab4bf4854127e8de7292a0": {
          "model_module": "@jupyter-widgets/controls",
          "model_name": "HBoxModel",
          "model_module_version": "1.5.0",
          "state": {
            "_dom_classes": [],
            "_model_module": "@jupyter-widgets/controls",
            "_model_module_version": "1.5.0",
            "_model_name": "HBoxModel",
            "_view_count": null,
            "_view_module": "@jupyter-widgets/controls",
            "_view_module_version": "1.5.0",
            "_view_name": "HBoxView",
            "box_style": "",
            "children": [
              "IPY_MODEL_eb95c36bef9c4b6fbb9a60602ae726a6",
              "IPY_MODEL_5cdd2f4f828e4c98b0f90cba37e2d4a1",
              "IPY_MODEL_abf39be4210945b481c74850859ac155"
            ],
            "layout": "IPY_MODEL_0a812efdd3de4712bff2a81397ee555a"
          }
        },
        "eb95c36bef9c4b6fbb9a60602ae726a6": {
          "model_module": "@jupyter-widgets/controls",
          "model_name": "HTMLModel",
          "model_module_version": "1.5.0",
          "state": {
            "_dom_classes": [],
            "_model_module": "@jupyter-widgets/controls",
            "_model_module_version": "1.5.0",
            "_model_name": "HTMLModel",
            "_view_count": null,
            "_view_module": "@jupyter-widgets/controls",
            "_view_module_version": "1.5.0",
            "_view_name": "HTMLView",
            "description": "",
            "description_tooltip": null,
            "layout": "IPY_MODEL_0fe7203376054a308df2d9a799434341",
            "placeholder": "​",
            "style": "IPY_MODEL_b4bddd81f56844188c60a1d8c7dd5df7",
            "value": "Downloading (…)lve/main/config.json: 100%"
          }
        },
        "5cdd2f4f828e4c98b0f90cba37e2d4a1": {
          "model_module": "@jupyter-widgets/controls",
          "model_name": "FloatProgressModel",
          "model_module_version": "1.5.0",
          "state": {
            "_dom_classes": [],
            "_model_module": "@jupyter-widgets/controls",
            "_model_module_version": "1.5.0",
            "_model_name": "FloatProgressModel",
            "_view_count": null,
            "_view_module": "@jupyter-widgets/controls",
            "_view_module_version": "1.5.0",
            "_view_name": "ProgressView",
            "bar_style": "success",
            "description": "",
            "description_tooltip": null,
            "layout": "IPY_MODEL_dff9c8ab1d1c43fd9b2ecc0e9a6b4cc5",
            "max": 570,
            "min": 0,
            "orientation": "horizontal",
            "style": "IPY_MODEL_4402ce951f9241f79da102015f49b7e8",
            "value": 570
          }
        },
        "abf39be4210945b481c74850859ac155": {
          "model_module": "@jupyter-widgets/controls",
          "model_name": "HTMLModel",
          "model_module_version": "1.5.0",
          "state": {
            "_dom_classes": [],
            "_model_module": "@jupyter-widgets/controls",
            "_model_module_version": "1.5.0",
            "_model_name": "HTMLModel",
            "_view_count": null,
            "_view_module": "@jupyter-widgets/controls",
            "_view_module_version": "1.5.0",
            "_view_name": "HTMLView",
            "description": "",
            "description_tooltip": null,
            "layout": "IPY_MODEL_a307c7f83e7f4b729d3a4456b9de7594",
            "placeholder": "​",
            "style": "IPY_MODEL_8da87390f09b4840b04b2154a5401e57",
            "value": " 570/570 [00:00&lt;00:00, 9.72kB/s]"
          }
        },
        "0a812efdd3de4712bff2a81397ee555a": {
          "model_module": "@jupyter-widgets/base",
          "model_name": "LayoutModel",
          "model_module_version": "1.2.0",
          "state": {
            "_model_module": "@jupyter-widgets/base",
            "_model_module_version": "1.2.0",
            "_model_name": "LayoutModel",
            "_view_count": null,
            "_view_module": "@jupyter-widgets/base",
            "_view_module_version": "1.2.0",
            "_view_name": "LayoutView",
            "align_content": null,
            "align_items": null,
            "align_self": null,
            "border": null,
            "bottom": null,
            "display": null,
            "flex": null,
            "flex_flow": null,
            "grid_area": null,
            "grid_auto_columns": null,
            "grid_auto_flow": null,
            "grid_auto_rows": null,
            "grid_column": null,
            "grid_gap": null,
            "grid_row": null,
            "grid_template_areas": null,
            "grid_template_columns": null,
            "grid_template_rows": null,
            "height": null,
            "justify_content": null,
            "justify_items": null,
            "left": null,
            "margin": null,
            "max_height": null,
            "max_width": null,
            "min_height": null,
            "min_width": null,
            "object_fit": null,
            "object_position": null,
            "order": null,
            "overflow": null,
            "overflow_x": null,
            "overflow_y": null,
            "padding": null,
            "right": null,
            "top": null,
            "visibility": null,
            "width": null
          }
        },
        "0fe7203376054a308df2d9a799434341": {
          "model_module": "@jupyter-widgets/base",
          "model_name": "LayoutModel",
          "model_module_version": "1.2.0",
          "state": {
            "_model_module": "@jupyter-widgets/base",
            "_model_module_version": "1.2.0",
            "_model_name": "LayoutModel",
            "_view_count": null,
            "_view_module": "@jupyter-widgets/base",
            "_view_module_version": "1.2.0",
            "_view_name": "LayoutView",
            "align_content": null,
            "align_items": null,
            "align_self": null,
            "border": null,
            "bottom": null,
            "display": null,
            "flex": null,
            "flex_flow": null,
            "grid_area": null,
            "grid_auto_columns": null,
            "grid_auto_flow": null,
            "grid_auto_rows": null,
            "grid_column": null,
            "grid_gap": null,
            "grid_row": null,
            "grid_template_areas": null,
            "grid_template_columns": null,
            "grid_template_rows": null,
            "height": null,
            "justify_content": null,
            "justify_items": null,
            "left": null,
            "margin": null,
            "max_height": null,
            "max_width": null,
            "min_height": null,
            "min_width": null,
            "object_fit": null,
            "object_position": null,
            "order": null,
            "overflow": null,
            "overflow_x": null,
            "overflow_y": null,
            "padding": null,
            "right": null,
            "top": null,
            "visibility": null,
            "width": null
          }
        },
        "b4bddd81f56844188c60a1d8c7dd5df7": {
          "model_module": "@jupyter-widgets/controls",
          "model_name": "DescriptionStyleModel",
          "model_module_version": "1.5.0",
          "state": {
            "_model_module": "@jupyter-widgets/controls",
            "_model_module_version": "1.5.0",
            "_model_name": "DescriptionStyleModel",
            "_view_count": null,
            "_view_module": "@jupyter-widgets/base",
            "_view_module_version": "1.2.0",
            "_view_name": "StyleView",
            "description_width": ""
          }
        },
        "dff9c8ab1d1c43fd9b2ecc0e9a6b4cc5": {
          "model_module": "@jupyter-widgets/base",
          "model_name": "LayoutModel",
          "model_module_version": "1.2.0",
          "state": {
            "_model_module": "@jupyter-widgets/base",
            "_model_module_version": "1.2.0",
            "_model_name": "LayoutModel",
            "_view_count": null,
            "_view_module": "@jupyter-widgets/base",
            "_view_module_version": "1.2.0",
            "_view_name": "LayoutView",
            "align_content": null,
            "align_items": null,
            "align_self": null,
            "border": null,
            "bottom": null,
            "display": null,
            "flex": null,
            "flex_flow": null,
            "grid_area": null,
            "grid_auto_columns": null,
            "grid_auto_flow": null,
            "grid_auto_rows": null,
            "grid_column": null,
            "grid_gap": null,
            "grid_row": null,
            "grid_template_areas": null,
            "grid_template_columns": null,
            "grid_template_rows": null,
            "height": null,
            "justify_content": null,
            "justify_items": null,
            "left": null,
            "margin": null,
            "max_height": null,
            "max_width": null,
            "min_height": null,
            "min_width": null,
            "object_fit": null,
            "object_position": null,
            "order": null,
            "overflow": null,
            "overflow_x": null,
            "overflow_y": null,
            "padding": null,
            "right": null,
            "top": null,
            "visibility": null,
            "width": null
          }
        },
        "4402ce951f9241f79da102015f49b7e8": {
          "model_module": "@jupyter-widgets/controls",
          "model_name": "ProgressStyleModel",
          "model_module_version": "1.5.0",
          "state": {
            "_model_module": "@jupyter-widgets/controls",
            "_model_module_version": "1.5.0",
            "_model_name": "ProgressStyleModel",
            "_view_count": null,
            "_view_module": "@jupyter-widgets/base",
            "_view_module_version": "1.2.0",
            "_view_name": "StyleView",
            "bar_color": null,
            "description_width": ""
          }
        },
        "a307c7f83e7f4b729d3a4456b9de7594": {
          "model_module": "@jupyter-widgets/base",
          "model_name": "LayoutModel",
          "model_module_version": "1.2.0",
          "state": {
            "_model_module": "@jupyter-widgets/base",
            "_model_module_version": "1.2.0",
            "_model_name": "LayoutModel",
            "_view_count": null,
            "_view_module": "@jupyter-widgets/base",
            "_view_module_version": "1.2.0",
            "_view_name": "LayoutView",
            "align_content": null,
            "align_items": null,
            "align_self": null,
            "border": null,
            "bottom": null,
            "display": null,
            "flex": null,
            "flex_flow": null,
            "grid_area": null,
            "grid_auto_columns": null,
            "grid_auto_flow": null,
            "grid_auto_rows": null,
            "grid_column": null,
            "grid_gap": null,
            "grid_row": null,
            "grid_template_areas": null,
            "grid_template_columns": null,
            "grid_template_rows": null,
            "height": null,
            "justify_content": null,
            "justify_items": null,
            "left": null,
            "margin": null,
            "max_height": null,
            "max_width": null,
            "min_height": null,
            "min_width": null,
            "object_fit": null,
            "object_position": null,
            "order": null,
            "overflow": null,
            "overflow_x": null,
            "overflow_y": null,
            "padding": null,
            "right": null,
            "top": null,
            "visibility": null,
            "width": null
          }
        },
        "8da87390f09b4840b04b2154a5401e57": {
          "model_module": "@jupyter-widgets/controls",
          "model_name": "DescriptionStyleModel",
          "model_module_version": "1.5.0",
          "state": {
            "_model_module": "@jupyter-widgets/controls",
            "_model_module_version": "1.5.0",
            "_model_name": "DescriptionStyleModel",
            "_view_count": null,
            "_view_module": "@jupyter-widgets/base",
            "_view_module_version": "1.2.0",
            "_view_name": "StyleView",
            "description_width": ""
          }
        },
        "b3bb7e972608437e93855eab7bb31ef3": {
          "model_module": "@jupyter-widgets/controls",
          "model_name": "HBoxModel",
          "model_module_version": "1.5.0",
          "state": {
            "_dom_classes": [],
            "_model_module": "@jupyter-widgets/controls",
            "_model_module_version": "1.5.0",
            "_model_name": "HBoxModel",
            "_view_count": null,
            "_view_module": "@jupyter-widgets/controls",
            "_view_module_version": "1.5.0",
            "_view_name": "HBoxView",
            "box_style": "",
            "children": [
              "IPY_MODEL_247ad3dbe3664b8298e69b0b5c0a98d3",
              "IPY_MODEL_5055007ad3e54062b157e4368ebea771",
              "IPY_MODEL_1f2d62cdc46d4475878607a3ecfb22b5"
            ],
            "layout": "IPY_MODEL_7d5954b72d3b49c8a51c805e18ffd622"
          }
        },
        "247ad3dbe3664b8298e69b0b5c0a98d3": {
          "model_module": "@jupyter-widgets/controls",
          "model_name": "HTMLModel",
          "model_module_version": "1.5.0",
          "state": {
            "_dom_classes": [],
            "_model_module": "@jupyter-widgets/controls",
            "_model_module_version": "1.5.0",
            "_model_name": "HTMLModel",
            "_view_count": null,
            "_view_module": "@jupyter-widgets/controls",
            "_view_module_version": "1.5.0",
            "_view_name": "HTMLView",
            "description": "",
            "description_tooltip": null,
            "layout": "IPY_MODEL_1a28864c2c004d03a0ba7f977711790c",
            "placeholder": "​",
            "style": "IPY_MODEL_923a09c9b2344508b77d42af8cba860d",
            "value": "Downloading (…)solve/main/vocab.txt: 100%"
          }
        },
        "5055007ad3e54062b157e4368ebea771": {
          "model_module": "@jupyter-widgets/controls",
          "model_name": "FloatProgressModel",
          "model_module_version": "1.5.0",
          "state": {
            "_dom_classes": [],
            "_model_module": "@jupyter-widgets/controls",
            "_model_module_version": "1.5.0",
            "_model_name": "FloatProgressModel",
            "_view_count": null,
            "_view_module": "@jupyter-widgets/controls",
            "_view_module_version": "1.5.0",
            "_view_name": "ProgressView",
            "bar_style": "success",
            "description": "",
            "description_tooltip": null,
            "layout": "IPY_MODEL_773d2d34c79144ea97cbf378eb3bc79d",
            "max": 231508,
            "min": 0,
            "orientation": "horizontal",
            "style": "IPY_MODEL_1eb9c1252a514a938fe00413bbba74fe",
            "value": 231508
          }
        },
        "1f2d62cdc46d4475878607a3ecfb22b5": {
          "model_module": "@jupyter-widgets/controls",
          "model_name": "HTMLModel",
          "model_module_version": "1.5.0",
          "state": {
            "_dom_classes": [],
            "_model_module": "@jupyter-widgets/controls",
            "_model_module_version": "1.5.0",
            "_model_name": "HTMLModel",
            "_view_count": null,
            "_view_module": "@jupyter-widgets/controls",
            "_view_module_version": "1.5.0",
            "_view_name": "HTMLView",
            "description": "",
            "description_tooltip": null,
            "layout": "IPY_MODEL_b9d4149d688b4ed6a04747b0ef30c9cd",
            "placeholder": "​",
            "style": "IPY_MODEL_f6ff364201994e28941e3cbd133c3fb7",
            "value": " 232k/232k [00:00&lt;00:00, 1.66MB/s]"
          }
        },
        "7d5954b72d3b49c8a51c805e18ffd622": {
          "model_module": "@jupyter-widgets/base",
          "model_name": "LayoutModel",
          "model_module_version": "1.2.0",
          "state": {
            "_model_module": "@jupyter-widgets/base",
            "_model_module_version": "1.2.0",
            "_model_name": "LayoutModel",
            "_view_count": null,
            "_view_module": "@jupyter-widgets/base",
            "_view_module_version": "1.2.0",
            "_view_name": "LayoutView",
            "align_content": null,
            "align_items": null,
            "align_self": null,
            "border": null,
            "bottom": null,
            "display": null,
            "flex": null,
            "flex_flow": null,
            "grid_area": null,
            "grid_auto_columns": null,
            "grid_auto_flow": null,
            "grid_auto_rows": null,
            "grid_column": null,
            "grid_gap": null,
            "grid_row": null,
            "grid_template_areas": null,
            "grid_template_columns": null,
            "grid_template_rows": null,
            "height": null,
            "justify_content": null,
            "justify_items": null,
            "left": null,
            "margin": null,
            "max_height": null,
            "max_width": null,
            "min_height": null,
            "min_width": null,
            "object_fit": null,
            "object_position": null,
            "order": null,
            "overflow": null,
            "overflow_x": null,
            "overflow_y": null,
            "padding": null,
            "right": null,
            "top": null,
            "visibility": null,
            "width": null
          }
        },
        "1a28864c2c004d03a0ba7f977711790c": {
          "model_module": "@jupyter-widgets/base",
          "model_name": "LayoutModel",
          "model_module_version": "1.2.0",
          "state": {
            "_model_module": "@jupyter-widgets/base",
            "_model_module_version": "1.2.0",
            "_model_name": "LayoutModel",
            "_view_count": null,
            "_view_module": "@jupyter-widgets/base",
            "_view_module_version": "1.2.0",
            "_view_name": "LayoutView",
            "align_content": null,
            "align_items": null,
            "align_self": null,
            "border": null,
            "bottom": null,
            "display": null,
            "flex": null,
            "flex_flow": null,
            "grid_area": null,
            "grid_auto_columns": null,
            "grid_auto_flow": null,
            "grid_auto_rows": null,
            "grid_column": null,
            "grid_gap": null,
            "grid_row": null,
            "grid_template_areas": null,
            "grid_template_columns": null,
            "grid_template_rows": null,
            "height": null,
            "justify_content": null,
            "justify_items": null,
            "left": null,
            "margin": null,
            "max_height": null,
            "max_width": null,
            "min_height": null,
            "min_width": null,
            "object_fit": null,
            "object_position": null,
            "order": null,
            "overflow": null,
            "overflow_x": null,
            "overflow_y": null,
            "padding": null,
            "right": null,
            "top": null,
            "visibility": null,
            "width": null
          }
        },
        "923a09c9b2344508b77d42af8cba860d": {
          "model_module": "@jupyter-widgets/controls",
          "model_name": "DescriptionStyleModel",
          "model_module_version": "1.5.0",
          "state": {
            "_model_module": "@jupyter-widgets/controls",
            "_model_module_version": "1.5.0",
            "_model_name": "DescriptionStyleModel",
            "_view_count": null,
            "_view_module": "@jupyter-widgets/base",
            "_view_module_version": "1.2.0",
            "_view_name": "StyleView",
            "description_width": ""
          }
        },
        "773d2d34c79144ea97cbf378eb3bc79d": {
          "model_module": "@jupyter-widgets/base",
          "model_name": "LayoutModel",
          "model_module_version": "1.2.0",
          "state": {
            "_model_module": "@jupyter-widgets/base",
            "_model_module_version": "1.2.0",
            "_model_name": "LayoutModel",
            "_view_count": null,
            "_view_module": "@jupyter-widgets/base",
            "_view_module_version": "1.2.0",
            "_view_name": "LayoutView",
            "align_content": null,
            "align_items": null,
            "align_self": null,
            "border": null,
            "bottom": null,
            "display": null,
            "flex": null,
            "flex_flow": null,
            "grid_area": null,
            "grid_auto_columns": null,
            "grid_auto_flow": null,
            "grid_auto_rows": null,
            "grid_column": null,
            "grid_gap": null,
            "grid_row": null,
            "grid_template_areas": null,
            "grid_template_columns": null,
            "grid_template_rows": null,
            "height": null,
            "justify_content": null,
            "justify_items": null,
            "left": null,
            "margin": null,
            "max_height": null,
            "max_width": null,
            "min_height": null,
            "min_width": null,
            "object_fit": null,
            "object_position": null,
            "order": null,
            "overflow": null,
            "overflow_x": null,
            "overflow_y": null,
            "padding": null,
            "right": null,
            "top": null,
            "visibility": null,
            "width": null
          }
        },
        "1eb9c1252a514a938fe00413bbba74fe": {
          "model_module": "@jupyter-widgets/controls",
          "model_name": "ProgressStyleModel",
          "model_module_version": "1.5.0",
          "state": {
            "_model_module": "@jupyter-widgets/controls",
            "_model_module_version": "1.5.0",
            "_model_name": "ProgressStyleModel",
            "_view_count": null,
            "_view_module": "@jupyter-widgets/base",
            "_view_module_version": "1.2.0",
            "_view_name": "StyleView",
            "bar_color": null,
            "description_width": ""
          }
        },
        "b9d4149d688b4ed6a04747b0ef30c9cd": {
          "model_module": "@jupyter-widgets/base",
          "model_name": "LayoutModel",
          "model_module_version": "1.2.0",
          "state": {
            "_model_module": "@jupyter-widgets/base",
            "_model_module_version": "1.2.0",
            "_model_name": "LayoutModel",
            "_view_count": null,
            "_view_module": "@jupyter-widgets/base",
            "_view_module_version": "1.2.0",
            "_view_name": "LayoutView",
            "align_content": null,
            "align_items": null,
            "align_self": null,
            "border": null,
            "bottom": null,
            "display": null,
            "flex": null,
            "flex_flow": null,
            "grid_area": null,
            "grid_auto_columns": null,
            "grid_auto_flow": null,
            "grid_auto_rows": null,
            "grid_column": null,
            "grid_gap": null,
            "grid_row": null,
            "grid_template_areas": null,
            "grid_template_columns": null,
            "grid_template_rows": null,
            "height": null,
            "justify_content": null,
            "justify_items": null,
            "left": null,
            "margin": null,
            "max_height": null,
            "max_width": null,
            "min_height": null,
            "min_width": null,
            "object_fit": null,
            "object_position": null,
            "order": null,
            "overflow": null,
            "overflow_x": null,
            "overflow_y": null,
            "padding": null,
            "right": null,
            "top": null,
            "visibility": null,
            "width": null
          }
        },
        "f6ff364201994e28941e3cbd133c3fb7": {
          "model_module": "@jupyter-widgets/controls",
          "model_name": "DescriptionStyleModel",
          "model_module_version": "1.5.0",
          "state": {
            "_model_module": "@jupyter-widgets/controls",
            "_model_module_version": "1.5.0",
            "_model_name": "DescriptionStyleModel",
            "_view_count": null,
            "_view_module": "@jupyter-widgets/base",
            "_view_module_version": "1.2.0",
            "_view_name": "StyleView",
            "description_width": ""
          }
        },
        "b8265e4c84554aa984ea446375414304": {
          "model_module": "@jupyter-widgets/controls",
          "model_name": "HBoxModel",
          "model_module_version": "1.5.0",
          "state": {
            "_dom_classes": [],
            "_model_module": "@jupyter-widgets/controls",
            "_model_module_version": "1.5.0",
            "_model_name": "HBoxModel",
            "_view_count": null,
            "_view_module": "@jupyter-widgets/controls",
            "_view_module_version": "1.5.0",
            "_view_name": "HBoxView",
            "box_style": "",
            "children": [
              "IPY_MODEL_6c480b0fa8ae445db098038ba75ba8a1",
              "IPY_MODEL_c3cd8cab152442c28aed93dbc864d2b5",
              "IPY_MODEL_85f39879a7bb48a2b4ce5428a8e71d5f"
            ],
            "layout": "IPY_MODEL_d79d5fbbfdbb42d6a412628480e3deda"
          }
        },
        "6c480b0fa8ae445db098038ba75ba8a1": {
          "model_module": "@jupyter-widgets/controls",
          "model_name": "HTMLModel",
          "model_module_version": "1.5.0",
          "state": {
            "_dom_classes": [],
            "_model_module": "@jupyter-widgets/controls",
            "_model_module_version": "1.5.0",
            "_model_name": "HTMLModel",
            "_view_count": null,
            "_view_module": "@jupyter-widgets/controls",
            "_view_module_version": "1.5.0",
            "_view_name": "HTMLView",
            "description": "",
            "description_tooltip": null,
            "layout": "IPY_MODEL_d4d2b0be193542f6af98556e6f506068",
            "placeholder": "​",
            "style": "IPY_MODEL_0c2aca4a67b947fab61dbb4b6b81ad8a",
            "value": "Downloading (…)/main/tokenizer.json: 100%"
          }
        },
        "c3cd8cab152442c28aed93dbc864d2b5": {
          "model_module": "@jupyter-widgets/controls",
          "model_name": "FloatProgressModel",
          "model_module_version": "1.5.0",
          "state": {
            "_dom_classes": [],
            "_model_module": "@jupyter-widgets/controls",
            "_model_module_version": "1.5.0",
            "_model_name": "FloatProgressModel",
            "_view_count": null,
            "_view_module": "@jupyter-widgets/controls",
            "_view_module_version": "1.5.0",
            "_view_name": "ProgressView",
            "bar_style": "success",
            "description": "",
            "description_tooltip": null,
            "layout": "IPY_MODEL_10f46de292dc40839a555ca1252ec48a",
            "max": 466062,
            "min": 0,
            "orientation": "horizontal",
            "style": "IPY_MODEL_51f5732580f9424d981539acf4d7bc85",
            "value": 466062
          }
        },
        "85f39879a7bb48a2b4ce5428a8e71d5f": {
          "model_module": "@jupyter-widgets/controls",
          "model_name": "HTMLModel",
          "model_module_version": "1.5.0",
          "state": {
            "_dom_classes": [],
            "_model_module": "@jupyter-widgets/controls",
            "_model_module_version": "1.5.0",
            "_model_name": "HTMLModel",
            "_view_count": null,
            "_view_module": "@jupyter-widgets/controls",
            "_view_module_version": "1.5.0",
            "_view_name": "HTMLView",
            "description": "",
            "description_tooltip": null,
            "layout": "IPY_MODEL_e4d43e7f196045f5bcc75ff5174c338e",
            "placeholder": "​",
            "style": "IPY_MODEL_4b44c8ed6ce34454a21912cc7de647f0",
            "value": " 466k/466k [00:00&lt;00:00, 2.34MB/s]"
          }
        },
        "d79d5fbbfdbb42d6a412628480e3deda": {
          "model_module": "@jupyter-widgets/base",
          "model_name": "LayoutModel",
          "model_module_version": "1.2.0",
          "state": {
            "_model_module": "@jupyter-widgets/base",
            "_model_module_version": "1.2.0",
            "_model_name": "LayoutModel",
            "_view_count": null,
            "_view_module": "@jupyter-widgets/base",
            "_view_module_version": "1.2.0",
            "_view_name": "LayoutView",
            "align_content": null,
            "align_items": null,
            "align_self": null,
            "border": null,
            "bottom": null,
            "display": null,
            "flex": null,
            "flex_flow": null,
            "grid_area": null,
            "grid_auto_columns": null,
            "grid_auto_flow": null,
            "grid_auto_rows": null,
            "grid_column": null,
            "grid_gap": null,
            "grid_row": null,
            "grid_template_areas": null,
            "grid_template_columns": null,
            "grid_template_rows": null,
            "height": null,
            "justify_content": null,
            "justify_items": null,
            "left": null,
            "margin": null,
            "max_height": null,
            "max_width": null,
            "min_height": null,
            "min_width": null,
            "object_fit": null,
            "object_position": null,
            "order": null,
            "overflow": null,
            "overflow_x": null,
            "overflow_y": null,
            "padding": null,
            "right": null,
            "top": null,
            "visibility": null,
            "width": null
          }
        },
        "d4d2b0be193542f6af98556e6f506068": {
          "model_module": "@jupyter-widgets/base",
          "model_name": "LayoutModel",
          "model_module_version": "1.2.0",
          "state": {
            "_model_module": "@jupyter-widgets/base",
            "_model_module_version": "1.2.0",
            "_model_name": "LayoutModel",
            "_view_count": null,
            "_view_module": "@jupyter-widgets/base",
            "_view_module_version": "1.2.0",
            "_view_name": "LayoutView",
            "align_content": null,
            "align_items": null,
            "align_self": null,
            "border": null,
            "bottom": null,
            "display": null,
            "flex": null,
            "flex_flow": null,
            "grid_area": null,
            "grid_auto_columns": null,
            "grid_auto_flow": null,
            "grid_auto_rows": null,
            "grid_column": null,
            "grid_gap": null,
            "grid_row": null,
            "grid_template_areas": null,
            "grid_template_columns": null,
            "grid_template_rows": null,
            "height": null,
            "justify_content": null,
            "justify_items": null,
            "left": null,
            "margin": null,
            "max_height": null,
            "max_width": null,
            "min_height": null,
            "min_width": null,
            "object_fit": null,
            "object_position": null,
            "order": null,
            "overflow": null,
            "overflow_x": null,
            "overflow_y": null,
            "padding": null,
            "right": null,
            "top": null,
            "visibility": null,
            "width": null
          }
        },
        "0c2aca4a67b947fab61dbb4b6b81ad8a": {
          "model_module": "@jupyter-widgets/controls",
          "model_name": "DescriptionStyleModel",
          "model_module_version": "1.5.0",
          "state": {
            "_model_module": "@jupyter-widgets/controls",
            "_model_module_version": "1.5.0",
            "_model_name": "DescriptionStyleModel",
            "_view_count": null,
            "_view_module": "@jupyter-widgets/base",
            "_view_module_version": "1.2.0",
            "_view_name": "StyleView",
            "description_width": ""
          }
        },
        "10f46de292dc40839a555ca1252ec48a": {
          "model_module": "@jupyter-widgets/base",
          "model_name": "LayoutModel",
          "model_module_version": "1.2.0",
          "state": {
            "_model_module": "@jupyter-widgets/base",
            "_model_module_version": "1.2.0",
            "_model_name": "LayoutModel",
            "_view_count": null,
            "_view_module": "@jupyter-widgets/base",
            "_view_module_version": "1.2.0",
            "_view_name": "LayoutView",
            "align_content": null,
            "align_items": null,
            "align_self": null,
            "border": null,
            "bottom": null,
            "display": null,
            "flex": null,
            "flex_flow": null,
            "grid_area": null,
            "grid_auto_columns": null,
            "grid_auto_flow": null,
            "grid_auto_rows": null,
            "grid_column": null,
            "grid_gap": null,
            "grid_row": null,
            "grid_template_areas": null,
            "grid_template_columns": null,
            "grid_template_rows": null,
            "height": null,
            "justify_content": null,
            "justify_items": null,
            "left": null,
            "margin": null,
            "max_height": null,
            "max_width": null,
            "min_height": null,
            "min_width": null,
            "object_fit": null,
            "object_position": null,
            "order": null,
            "overflow": null,
            "overflow_x": null,
            "overflow_y": null,
            "padding": null,
            "right": null,
            "top": null,
            "visibility": null,
            "width": null
          }
        },
        "51f5732580f9424d981539acf4d7bc85": {
          "model_module": "@jupyter-widgets/controls",
          "model_name": "ProgressStyleModel",
          "model_module_version": "1.5.0",
          "state": {
            "_model_module": "@jupyter-widgets/controls",
            "_model_module_version": "1.5.0",
            "_model_name": "ProgressStyleModel",
            "_view_count": null,
            "_view_module": "@jupyter-widgets/base",
            "_view_module_version": "1.2.0",
            "_view_name": "StyleView",
            "bar_color": null,
            "description_width": ""
          }
        },
        "e4d43e7f196045f5bcc75ff5174c338e": {
          "model_module": "@jupyter-widgets/base",
          "model_name": "LayoutModel",
          "model_module_version": "1.2.0",
          "state": {
            "_model_module": "@jupyter-widgets/base",
            "_model_module_version": "1.2.0",
            "_model_name": "LayoutModel",
            "_view_count": null,
            "_view_module": "@jupyter-widgets/base",
            "_view_module_version": "1.2.0",
            "_view_name": "LayoutView",
            "align_content": null,
            "align_items": null,
            "align_self": null,
            "border": null,
            "bottom": null,
            "display": null,
            "flex": null,
            "flex_flow": null,
            "grid_area": null,
            "grid_auto_columns": null,
            "grid_auto_flow": null,
            "grid_auto_rows": null,
            "grid_column": null,
            "grid_gap": null,
            "grid_row": null,
            "grid_template_areas": null,
            "grid_template_columns": null,
            "grid_template_rows": null,
            "height": null,
            "justify_content": null,
            "justify_items": null,
            "left": null,
            "margin": null,
            "max_height": null,
            "max_width": null,
            "min_height": null,
            "min_width": null,
            "object_fit": null,
            "object_position": null,
            "order": null,
            "overflow": null,
            "overflow_x": null,
            "overflow_y": null,
            "padding": null,
            "right": null,
            "top": null,
            "visibility": null,
            "width": null
          }
        },
        "4b44c8ed6ce34454a21912cc7de647f0": {
          "model_module": "@jupyter-widgets/controls",
          "model_name": "DescriptionStyleModel",
          "model_module_version": "1.5.0",
          "state": {
            "_model_module": "@jupyter-widgets/controls",
            "_model_module_version": "1.5.0",
            "_model_name": "DescriptionStyleModel",
            "_view_count": null,
            "_view_module": "@jupyter-widgets/base",
            "_view_module_version": "1.2.0",
            "_view_name": "StyleView",
            "description_width": ""
          }
        }
      }
    }
  },
  "nbformat": 4,
  "nbformat_minor": 0
}
{
  "cells": [
    {
      "attachments": {},
      "cell_type": "markdown",
      "metadata": {
        "id": "fa-dELdX7ZaU"
      },
      "source": [
        "### Instituto Tecnológico de Costa Rica (ITCR)\n",
        "#### Escuela de Computación\n",
        "#### Curso: Inteligencia Artificial\n",
        "        \n",
        "#### Tercera tarea programada 2023-I\n",
        "#### Profesora: María Auxiliadora Mora\n",
        "#### Estudiante: Fabian Vives - 2018319257"
      ]
    },
    {
      "attachments": {},
      "cell_type": "markdown",
      "metadata": {
        "id": "2GjMewTrRBLi"
      },
      "source": [
        "## 1. Problema y Objetivo"
      ]
    },
    {
      "attachments": {},
      "cell_type": "markdown",
      "metadata": {
        "id": "Rzr_B53ERBLl"
      },
      "source": [
        "El problema a tratar en este ejercicio es el reconocimiento de emociones a partir de texto, específicamente \"tweets\". El análisis de emociones es un subconjunto del análisis de sentimientos que tiene como objetivo detectar y reconocer diferentes emociones presentes en el texto, como felicidad, tristeza, ira y otras.\n",
        "\n",
        "El objetivo de este ejercicio es construir una red neuronal recurrente (RNN) con células LSTM utilizando PyTorch para clasificar los tweets en una de cuatro clases de emociones: alegría, tristeza, ira y amor. El conjunto de datos utilizado para este ejercicio contiene tweets etiquetados con las emociones expresadas en ellos, con el objetivo de entrenar y evaluar la RNN en este conjunto de datos para predecir la emoción presente en los tweets creados por los usuarios."
      ]
    },
    {
      "attachments": {},
      "cell_type": "markdown",
      "metadata": {
        "id": "iodCaieaRBLm"
      },
      "source": [
        "## 2. Preprocesamiento del conjunto de datos\n"
      ]
    },
    {
      "attachments": {},
      "cell_type": "markdown",
      "metadata": {
        "id": "p8j77NoURBLm"
      },
      "source": [
        "### 2.A Comprobación de valores faltantes y supresión de ellos si es necesario"
      ]
    },
    {
      "cell_type": "code",
      "execution_count": 3,
      "metadata": {
        "colab": {
          "base_uri": "https://localhost:8080/"
        },
        "id": "yTj5uX3PRBLn",
        "outputId": "45d8694f-154c-432b-987a-5f30960f565c"
      },
      "outputs": [
        {
          "name": "stdout",
          "output_type": "stream",
          "text": [
            "tweet_id     0\n",
            "sentiment    0\n",
            "content      0\n",
            "dtype: int64\n"
          ]
        }
      ],
      "source": [
        "import pandas as pd\n",
        "\n",
        "# Cargar el dataset de un archivo CSV\n",
        "df = pd.read_csv('tweet_emotions.csv')\n",
        "\n",
        "# Verificacion de valores faltantes\n",
        "print(df.isnull().sum())\n",
        "\n",
        "# Eliminacion de filas con valores faltantes del conjunto de datos\n",
        "df.dropna(inplace=True)"
      ]
    },
    {
      "attachments": {},
      "cell_type": "markdown",
      "metadata": {
        "id": "w_vqzRKFRBLo"
      },
      "source": [
        "### 2.B Eliminación de caracteres especiales"
      ]
    },
    {
      "cell_type": "code",
      "execution_count": 4,
      "metadata": {
        "id": "2Q07-amERBLo"
      },
      "outputs": [],
      "source": [
        "# Reemplazo de identificadores y hashtags de Twitter con una string vacío en la columna 'content'\n",
        "df['content'] = df['content'].str.replace(r'[#@]\\S+', '', regex=True)"
      ]
    },
    {
      "attachments": {},
      "cell_type": "markdown",
      "metadata": {
        "id": "AM6nGVmURBLp"
      },
      "source": [
        "### 2.C Eliminacion de Stop Words"
      ]
    },
    {
      "cell_type": "code",
      "execution_count": 5,
      "metadata": {
        "colab": {
          "base_uri": "https://localhost:8080/"
        },
        "id": "Luy_c0C1RBLp",
        "outputId": "fd240387-a68e-4497-aae3-a2c6be3e642c"
      },
      "outputs": [
        {
          "name": "stderr",
          "output_type": "stream",
          "text": [
            "[nltk_data] Downloading package stopwords to /root/nltk_data...\n",
            "[nltk_data]   Unzipping corpora/stopwords.zip.\n"
          ]
        }
      ],
      "source": [
        "# Uso del paquete NLTK y descarga de los stop words\n",
        "import nltk\n",
        "nltk.download('stopwords')\n",
        "\n",
        "# Cargar las stop words en inglés\n",
        "from nltk.corpus import stopwords\n",
        "stop_words = set([word.lower() for word in stopwords.words('english')])\n",
        "\n",
        "# Eliminar stop words de la columna 'content' usando la comprensión de lista para recorrer las palabras y filtrarlas\n",
        "df['content'] = df['content'].apply(\n",
        "    lambda x: ' '.join([word for word in x.split() if word.lower() not in stop_words])\n",
        ")"
      ]
    },
    {
      "attachments": {},
      "cell_type": "markdown",
      "metadata": {
        "id": "5EBdgHU9RBLq"
      },
      "source": [
        "### 2.D Convertir texto a minusculas"
      ]
    },
    {
      "cell_type": "code",
      "execution_count": 6,
      "metadata": {
        "id": "80dozZi4RBLq"
      },
      "outputs": [],
      "source": [
        "# Convertir todo el texto en la columna 'content' a minúsculas\n",
        "df['content'] = df['content'].str.lower()"
      ]
    },
    {
      "attachments": {},
      "cell_type": "markdown",
      "metadata": {
        "id": "QJdkhbTmRBLq"
      },
      "source": [
        "## 3. Exploracion y Visualizacion de los Datos"
      ]
    },
    {
      "cell_type": "code",
      "execution_count": 7,
      "metadata": {
        "colab": {
          "base_uri": "https://localhost:8080/",
          "height": 574
        },
        "id": "ILUkJOFWRBLq",
        "outputId": "166edad8-8f0b-466b-b5f4-73bee4bf8f94"
      },
      "outputs": [
        {
          "data": {
            "image/png": "[encoded data removed]",
            "text/plain": [
              "<Figure size 640x480 with 1 Axes>"
            ]
          },
          "metadata": {},
          "output_type": "display_data"
        }
      ],
      "source": [
        "import matplotlib.pyplot as plt\n",
        "\n",
        "# Contar el número de registros en cada clase\n",
        "class_counts = df['sentiment'].value_counts()\n",
        "\n",
        "# Crear el gráfico para el recuentos de clases\n",
        "plt.bar(class_counts.index, class_counts.values)\n",
        "plt.xticks(rotation=90)\n",
        "plt.yticks(rotation=90)\n",
        "plt.xlabel('Sentiment', rotation=90)\n",
        "plt.show()"
      ]
    },
    {
      "cell_type": "code",
      "execution_count": 8,
      "metadata": {
        "colab": {
          "base_uri": "https://localhost:8080/",
          "height": 449
        },
        "id": "tPCHmZ8GRBLr",
        "outputId": "93fdd673-058b-4cb4-94b3-f4762b2691ae"
      },
      "outputs": [
        {
          "data": {
            "image/png": "[encoded data removed]",
            "text/plain": [
              "<Figure size 640x480 with 1 Axes>"
            ]
          },
          "metadata": {},
          "output_type": "display_data"
        }
      ],
      "source": [
        "# Graficar el histograma de las longitudes de los tweets\n",
        "tweet_lengths = df['content'].apply(len)\n",
        "plt.hist(tweet_lengths)\n",
        "plt.xlabel('Tweet length')\n",
        "plt.ylabel('Count')\n",
        "plt.show()"
      ]
    },
    {
      "attachments": {},
      "cell_type": "markdown",
      "metadata": {
        "id": "otlxUauKRBLr"
      },
      "source": [
        "## 4. Seleccion de un subconjunto de los registros"
      ]
    },
    {
      "cell_type": "code",
      "execution_count": 9,
      "metadata": {
        "id": "zj6WVFcPRBLr"
      },
      "outputs": [],
      "source": [
        "# Obtener los cuatro valores más comunes en la columna 'sentiment'\n",
        "top_sentiments = df['sentiment'].value_counts().head(4).index\n",
        "\n",
        "# Filtrar el DataFrame para incluir solo filas donde la columna 'sentiment' contiene una opinión superior\n",
        "df = df[df['sentiment'].isin(top_sentiments)]"
      ]
    },
    {
      "attachments": {},
      "cell_type": "markdown",
      "metadata": {
        "id": "RH5DmkCeRBLr"
      },
      "source": [
        "## 5. Definicion Red LSTM"
      ]
    },
    {
      "cell_type": "code",
      "execution_count": 10,
      "metadata": {
        "id": "F5B0u-BCRBLs"
      },
      "outputs": [],
      "source": [
        "import torch\n",
        "import torch.nn as nn\n",
        "\n",
        "class LSTMClassifier(torch.nn.Module):\n",
        "    def __init__(self, input_size, hidden_size, output_size, num_layers=1, dropout=0.0):\n",
        "        # Llamar al constructor principal para inicializar el módulo\n",
        "        super(LSTMClassifier, self).__init__()\n",
        "        \n",
        "        # Almacenar los tamaños de entrada, ocultos y el número de capas\n",
        "        self.hidden_size = hidden_size\n",
        "        self.num_layers = num_layers\n",
        "        \n",
        "        # Definir las capas del modelo\n",
        "        self.embedding = torch.nn.Embedding(input_size, hidden_size)\n",
        "        self.lstm = torch.nn.LSTM(hidden_size, hidden_size, num_layers, batch_first=True, dropout=dropout)\n",
        "        self.fc = torch.nn.Linear(hidden_size, output_size)\n",
        "        \n",
        "    def forward(self, input_ids, attention_mask):\n",
        "        # Insertar la secuencia de entrada\n",
        "        embedded = self.embedding(input_ids)\n",
        "        \n",
        "        # Empaqueta la secuencia para eliminar el relleno\n",
        "        packed = torch.nn.utils.rnn.pack_padded_sequence(embedded, attention_mask.sum(1), batch_first=True, enforce_sorted=False)\n",
        "        \n",
        "        # Pasar la secuencia a través de la capa LSTM\n",
        "        lstm_output, (hidden, cell) = self.lstm(packed)\n",
        "        \n",
        "        # Desempaqueta la secuencia y rellena la salida\n",
        "        outputs, _ = torch.nn.utils.rnn.pad_packed_sequence(lstm_output, batch_first=True)\n",
        "        \n",
        "        # Obtener la última salida de la capa LSTM\n",
        "        last_output = outputs[torch.arange(outputs.size(0)), attention_mask.sum(1) - 1]\n",
        "        \n",
        "        # Pasar la última salida a través de una capa lineal para obtener los logits\n",
        "        logits = self.fc(last_output)\n",
        "\n",
        "        return logits"
      ]
    },
    {
      "attachments": {},
      "cell_type": "markdown",
      "metadata": {
        "id": "yys-cNWLRBLs"
      },
      "source": [
        "## 6. Definir los Hiperparametros"
      ]
    },
    {
      "cell_type": "code",
      "execution_count": 11,
      "metadata": {
        "id": "wk1JCmGlRBLs"
      },
      "outputs": [],
      "source": [
        "input_size = 100  # Tamaño de las incrustaciones GloVe\n",
        "hidden_size = 256 # El número de unidades ocultas en la capa LSTM, puede aumentar la capacidad del modelo para aprender patrones complejos\n",
        "output_size = len(top_sentiments)  # Tamaño de la salida\n",
        "num_layers = 2  # Número de capas LSTM\n",
        "dropout = 0.2  # Porcentaje de dropout\n",
        "num_epochs = 10  # Número de épocas o epochs de entrenamiento\n",
        "batch_size = 32  # Tamaño del 'lote'\n",
        "learning_rate = 0.001  # Tasa de aprendizaje\n",
        "\n",
        "# Definir la función de pérdida\n",
        "loss_fn = nn.CrossEntropyLoss()\n",
        "\n",
        "# Inicializar el modelo\n",
        "model = LSTMClassifier(input_size, hidden_size, output_size, num_layers=num_layers, dropout=dropout)\n",
        "\n",
        "# Definir el optimizador\n",
        "optimizer = torch.optim.Adam(model.parameters(), lr=learning_rate)\n"
      ]
    },
    {
      "attachments": {},
      "cell_type": "markdown",
      "metadata": {
        "id": "Gih9UkuDRBLs"
      },
      "source": [
        "## 7. Separacion de las muestras en datos de entrenamiento y evaluación y entrenamiento del modelo"
      ]
    },
    {
      "cell_type": "code",
      "execution_count": 12,
      "metadata": {
        "colab": {
          "base_uri": "https://localhost:8080/"
        },
        "id": "b8TKHYcFRQ32",
        "outputId": "429ee726-fc66-40b9-c155-781b749a612d"
      },
      "outputs": [
        {
          "name": "stdout",
          "output_type": "stream",
          "text": [
            "Looking in indexes: https://pypi.org/simple, https://us-python.pkg.dev/colab-wheels/public/simple/\n",
            "Collecting transformers\n",
            "  Downloading transformers-4.29.2-py3-none-any.whl (7.1 MB)\n",
            "\u001b[2K     \u001b[90m━━━━━━━━━━━━━━━━━━━━━━━━━━━━━━━━━━━━━━━━\u001b[0m \u001b[32m7.1/7.1 MB\u001b[0m \u001b[31m58.5 MB/s\u001b[0m eta \u001b[36m0:00:00\u001b[0m\n",
            "\u001b[?25hRequirement already satisfied: filelock in /usr/local/lib/python3.10/dist-packages (from transformers) (3.12.0)\n",
            "Collecting huggingface-hub<1.0,>=0.14.1 (from transformers)\n",
            "  Downloading huggingface_hub-0.14.1-py3-none-any.whl (224 kB)\n",
            "\u001b[2K     \u001b[90m━━━━━━━━━━━━━━━━━━━━━━━━━━━━━━━━━━━━━━\u001b[0m \u001b[32m224.5/224.5 kB\u001b[0m \u001b[31m31.1 MB/s\u001b[0m eta \u001b[36m0:00:00\u001b[0m\n",
            "\u001b[?25hRequirement already satisfied: numpy>=1.17 in /usr/local/lib/python3.10/dist-packages (from transformers) (1.22.4)\n",
            "Requirement already satisfied: packaging>=20.0 in /usr/local/lib/python3.10/dist-packages (from transformers) (23.1)\n",
            "Requirement already satisfied: pyyaml>=5.1 in /usr/local/lib/python3.10/dist-packages (from transformers) (6.0)\n",
            "Requirement already satisfied: regex!=2019.12.17 in /usr/local/lib/python3.10/dist-packages (from transformers) (2022.10.31)\n",
            "Requirement already satisfied: requests in /usr/local/lib/python3.10/dist-packages (from transformers) (2.27.1)\n",
            "Collecting tokenizers!=0.11.3,<0.14,>=0.11.1 (from transformers)\n",
            "  Downloading tokenizers-0.13.3-cp310-cp310-manylinux_2_17_x86_64.manylinux2014_x86_64.whl (7.8 MB)\n",
            "\u001b[2K     \u001b[90m━━━━━━━━━━━━━━━━━━━━━━━━━━━━━━━━━━━━━━━━\u001b[0m \u001b[32m7.8/7.8 MB\u001b[0m \u001b[31m61.6 MB/s\u001b[0m eta \u001b[36m0:00:00\u001b[0m\n",
            "\u001b[?25hRequirement already satisfied: tqdm>=4.27 in /usr/local/lib/python3.10/dist-packages (from transformers) (4.65.0)\n",
            "Requirement already satisfied: fsspec in /usr/local/lib/python3.10/dist-packages (from huggingface-hub<1.0,>=0.14.1->transformers) (2023.4.0)\n",
            "Requirement already satisfied: typing-extensions>=3.7.4.3 in /usr/local/lib/python3.10/dist-packages (from huggingface-hub<1.0,>=0.14.1->transformers) (4.5.0)\n",
            "Requirement already satisfied: urllib3<1.27,>=1.21.1 in /usr/local/lib/python3.10/dist-packages (from requests->transformers) (1.26.15)\n",
            "Requirement already satisfied: certifi>=2017.4.17 in /usr/local/lib/python3.10/dist-packages (from requests->transformers) (2022.12.7)\n",
            "Requirement already satisfied: charset-normalizer~=2.0.0 in /usr/local/lib/python3.10/dist-packages (from requests->transformers) (2.0.12)\n",
            "Requirement already satisfied: idna<4,>=2.5 in /usr/local/lib/python3.10/dist-packages (from requests->transformers) (3.4)\n",
            "Installing collected packages: tokenizers, huggingface-hub, transformers\n",
            "Successfully installed huggingface-hub-0.14.1 tokenizers-0.13.3 transformers-4.29.2\n"
          ]
        }
      ],
      "source": [
        "pip install transformers"
      ]
    },
    {
      "cell_type": "code",
      "execution_count": 13,
      "metadata": {
        "colab": {
          "base_uri": "https://localhost:8080/",
          "height": 319,
          "referenced_widgets": [
            "231abc41178440149c316f4a486b98b0",
            "1f5eddeec3814babb26bc11efc6f40e0",
            "78231a71fb964686a3280fcb4390f52b",
            "0923aa6834f4441a97d9025967f84ba2",
            "ddbe8f756f4e429883aaf3e7cb02483d",
            "06e68f6550904c6c82f11aa5224d4594",
            "e69ff266dc5747c998b7f823076edda5",
            "608a8cf788f6404db78f0b59ffa5432a",
            "c0c98bc63be9482488a5a32e01bd9c49",
            "aec662c496f3475cbe465287912ff558",
            "e525496642e64c32b76ddf81a761722e",
            "d123cb0697e34f98820bbc12436080c2",
            "0d85cd0ac383496d927648b71662bf3c",
            "630a43d2ff9c4700b5d480cfb38529a2",
            "f021b33099e046cebe7da8121ea40016",
            "af13837643b548bcb8e11afbe90db7c3",
            "82fb3a3b621a43fdaebfcad850ccba4d",
            "7c351a4ad2704dcea7928d5be1e3f58f",
            "5e221e042d1045a2a4432ed8c483c680",
            "80cd9bbc861c42bcb6f20481ef1ddfe3",
            "1bcbc844482d4234b08f2ea9335f8bb2",
            "7f2c8175444f49b4bfcfde2f66809c99",
            "8e0bff79a5714eeab51770bc36db4f29",
            "d232729e6a124131bc9932ba8355a252",
            "f02faa3c6dd4403b9c10da3e997a1ead",
            "80712d0c8afa462b9cdb04bb06089d2c",
            "b0c08824d8764d5a8772485c32b42714",
            "ac2ece49e9e042808a3cdbd30ede1e86",
            "fcf889dfa3294b3a866f0dfce3a3523e",
            "6f9a7754ddb34da4b00321a172ec9f3c",
            "6cadc0cead4d47c0bb24445f992cc233",
            "1f9bd651296f4cfea0ce3d4d0ad13e07",
            "075f8a97563b4013b6c393720d659aae",
            "1777d531d9ff47bc8b307d07b8226b5d",
            "325a7a0b426d4847951b77350b15b2f3",
            "f5fe82e417414370bb7cdbb9c3432c76",
            "5bb8b4db36d84bbe87322244f6bd4691",
            "d7e4f45b10d9455c8bf99fb9c75b788a",
            "82a7fa3e80b24c479389e5891c26fa56",
            "2d966fef44f049f8a976cffa69fac726",
            "7666dd31418e4413a8ea3cc262bd3cd9",
            "b6cad8bb6090475a87c0606b0e1adc41",
            "00bb00402fd44060b731fb613e6f445d",
            "1b1f3d0e5c1c40119c26ed6c6293fd21"
          ]
        },
        "id": "Rurbp-4kRBLs",
        "outputId": "4331359c-6a35-46f2-f23a-4fe9e79af187"
      },
      "outputs": [
        {
          "data": {
            "application/vnd.jupyter.widget-view+json": {
              "model_id": "231abc41178440149c316f4a486b98b0",
              "version_major": 2,
              "version_minor": 0
            },
            "text/plain": [
              "Downloading (…)okenizer_config.json:   0%|          | 0.00/28.0 [00:00<?, ?B/s]"
            ]
          },
          "metadata": {},
          "output_type": "display_data"
        },
        {
          "data": {
            "application/vnd.jupyter.widget-view+json": {
              "model_id": "d123cb0697e34f98820bbc12436080c2",
              "version_major": 2,
              "version_minor": 0
            },
            "text/plain": [
              "Downloading (…)lve/main/config.json:   0%|          | 0.00/570 [00:00<?, ?B/s]"
            ]
          },
          "metadata": {},
          "output_type": "display_data"
        },
        {
          "data": {
            "application/vnd.jupyter.widget-view+json": {
              "model_id": "8e0bff79a5714eeab51770bc36db4f29",
              "version_major": 2,
              "version_minor": 0
            },
            "text/plain": [
              "Downloading (…)solve/main/vocab.txt:   0%|          | 0.00/232k [00:00<?, ?B/s]"
            ]
          },
          "metadata": {},
          "output_type": "display_data"
        },
        {
          "data": {
            "application/vnd.jupyter.widget-view+json": {
              "model_id": "1777d531d9ff47bc8b307d07b8226b5d",
              "version_major": 2,
              "version_minor": 0
            },
            "text/plain": [
              "Downloading (…)/main/tokenizer.json:   0%|          | 0.00/466k [00:00<?, ?B/s]"
            ]
          },
          "metadata": {},
          "output_type": "display_data"
        },
        {
          "name": "stdout",
          "output_type": "stream",
          "text": [
            "Epoch 1: Train Loss = 1.273, Val Loss = 1.224\n",
            "Epoch 2: Train Loss = 1.211, Val Loss = 1.214\n",
            "Epoch 3: Train Loss = 1.155, Val Loss = 1.215\n",
            "Epoch 4: Train Loss = 1.096, Val Loss = 1.233\n",
            "Epoch 5: Train Loss = 1.028, Val Loss = 1.276\n",
            "Epoch 6: Train Loss = 0.954, Val Loss = 1.352\n",
            "Epoch 7: Train Loss = 0.879, Val Loss = 1.442\n",
            "Epoch 8: Train Loss = 0.808, Val Loss = 1.540\n",
            "Epoch 9: Train Loss = 0.745, Val Loss = 1.659\n",
            "Epoch 10: Train Loss = 0.690, Val Loss = 1.782\n"
          ]
        }
      ],
      "source": [
        "import torch\n",
        "import torch.nn as nn\n",
        "from sklearn.model_selection import train_test_split\n",
        "from torch.utils.data import DataLoader, Dataset\n",
        "import numpy as np\n",
        "from transformers import AutoTokenizer\n",
        "\n",
        "# Definir un conjunto de datos personalizado de PyTorch para los tweets\n",
        "class TweetDataset(Dataset):\n",
        "\n",
        "        # x: lista de textos de entrada\n",
        "        # y: lista de etiquetas correspondientes a los textos\n",
        "        # tokenizer: objeto utilizado para convertir los textos en secuencias numéricas\n",
        "        # max_length: longitud máxima de las secuencias después de ser tokenizadas\n",
        "\n",
        "    def __init__(self, X, y, tokenizer, max_length):\n",
        "        self.X = X\n",
        "        self.y = y\n",
        "        self.tokenizer = tokenizer\n",
        "        self.max_length = max_length\n",
        "        \n",
        "        # Devuelve la longitud del conjunto de datos\n",
        "    def __len__(self):\n",
        "        return len(self.X)\n",
        "    \n",
        "        #Devuelve un ejemplo específico del conjunto de datos\n",
        "    \n",
        "        # idx: índice del ejemplo que se desea obtener\n",
        "\n",
        "    def __getitem__(self, idx):\n",
        "        text = self.X[idx]\n",
        "        label = self.y[idx]\n",
        "        \n",
        "        # Tokenizar el texto y convertirlo en tensores de PyTorch\n",
        "        encoding = self.tokenizer.encode_plus(\n",
        "            text,\n",
        "            add_special_tokens=True,\n",
        "            max_length=self.max_length,\n",
        "            padding='max_length',\n",
        "            truncation=True,\n",
        "            return_attention_mask=True,\n",
        "            return_token_type_ids=False,\n",
        "            return_tensors='pt'\n",
        "        )\n",
        "        # Devuelve un diccionario que contiene los datos procesados\n",
        "        return {\n",
        "            'input_ids': encoding['input_ids'].flatten(),\n",
        "            'attention_mask': encoding['attention_mask'].flatten(),\n",
        "            'label': torch.tensor(label, dtype=torch.long)\n",
        "        }\n",
        "\n",
        "# Cargar los datos\n",
        "X = df['content'].values\n",
        "y = df['sentiment'].apply(lambda x: list(top_sentiments).index(x)).values\n",
        "\n",
        "# Inicializar el tokenizer y configurar la longitud máxima de secuencia y el tamaño del lote\n",
        "tokenizer = AutoTokenizer.from_pretrained('bert-base-uncased')\n",
        "max_length = 100\n",
        "batch_size = 32\n",
        "\n",
        "# Divide los datos en conjuntos de entrenamiento y de validación\n",
        "X_train, X_val, y_train, y_val = train_test_split(X, y, test_size=0.2, random_state=42)\n",
        "\n",
        "# Crea los dataloaders de PyTorch para los conjuntos de entrenamiento y de validación\n",
        "train_dataset = TweetDataset(X_train, y_train, tokenizer, max_length)\n",
        "train_loader = DataLoader(train_dataset, batch_size=batch_size, shuffle=True)\n",
        "\n",
        "val_dataset = TweetDataset(X_val, y_val, tokenizer, max_length)\n",
        "val_loader = DataLoader(val_dataset, batch_size=batch_size, shuffle=False)\n",
        "\n",
        "# Establece el dispositivo en la GPU si está disponible\n",
        "device = torch.device('cuda' if torch.cuda.is_available() else 'cpu')\n",
        "\n",
        "# Establecer los hiperparámetros del modelo\n",
        "input_size = tokenizer.vocab_size\n",
        "hidden_size = 128\n",
        "output_size = len(top_sentiments)\n",
        "num_layers = 2\n",
        "dropout = 0.2\n",
        "\n",
        "# Inicializar el modelo y moverlo al device\n",
        "model = LSTMClassifier(input_size, hidden_size, output_size, num_layers=num_layers, dropout=dropout)\n",
        "model.to(device)\n",
        "\n",
        "# Definir el optimizador y la función de pérdida\n",
        "optimizer = torch.optim.Adam(model.parameters())\n",
        "loss_fn = torch.nn.CrossEntropyLoss()\n",
        "\n",
        "# Entrenar el modelo\n",
        "num_epochs = 10\n",
        "train_losses = []\n",
        "val_losses = []\n",
        "Act_train_losses = []\n",
        "Act_val_losses = []\n",
        "\n",
        "for epoch in range(num_epochs):\n",
        "    # Establecer el modelo en modo de entrenamiento\n",
        "    model.train()\n",
        "    \n",
        "    # Iterar sobre los datos de entrenamiento en lotes\n",
        "    for batch in train_loader:\n",
        "        input_ids = batch['input_ids'].to(device)\n",
        "        attention_mask = batch['attention_mask'].to(device)\n",
        "        labels = batch['label'].to(device)\n",
        "        \n",
        "        # Reiniciar los gradientes\n",
        "        optimizer.zero_grad()\n",
        "        \n",
        "        # Forward a través del modelo y calcular la pérdida\n",
        "        outputs = model(input_ids, attention_mask)\n",
        "        loss = loss_fn(outputs, labels)\n",
        "        \n",
        "        # Funcion backward y optimización\n",
        "        loss.backward()\n",
        "        optimizer.step()\n",
        "        \n",
        "        # Agregar la pérdida de entrenamiento a la lista\n",
        "        train_losses.append(loss.item())\n",
        "        \n",
        "    # Establecer el modelo en modo de evaluación\n",
        "    model.eval()\n",
        "    \n",
        "    # Iterar sobre los datos de validación en lotes\n",
        "    with torch.no_grad():\n",
        "        for batch in val_loader:\n",
        "            input_ids = batch['input_ids'].to(device)\n",
        "            attention_mask = batch['attention_mask'].to(device)\n",
        "            labels = batch['label'].to(device)\n",
        "            \n",
        "            # forward a través del modelo y calcular la pérdida\n",
        "            outputs = model(input_ids, attention_mask)\n",
        "            loss = loss_fn(outputs, labels)\n",
        "            \n",
        "            # Agregar la pérdida de validación a la lista\n",
        "            val_losses.append(loss.item())\n",
        "    \n",
        "    # Calcular las pérdidas promedio de entrenamiento y validación\n",
        "    Act_train_losses.append(np.mean(train_losses))\n",
        "    Act_val_losses.append(np.mean(val_losses))\n",
        "    \n",
        "    # Imprimir las pérdidas de entrenamiento y validación para la época\n",
        "    print(f'Epoch {epoch+1}: Train Loss = {np.mean(train_losses):.3f}, Val Loss = {np.mean(val_losses):.3f}')\n"
      ]
    },
    {
      "attachments": {},
      "cell_type": "markdown",
      "metadata": {
        "id": "6Zlo31cKj79X"
      },
      "source": [
        "## 8. Curva de error"
      ]
    },
    {
      "cell_type": "code",
      "execution_count": 14,
      "metadata": {
        "colab": {
          "base_uri": "https://localhost:8080/",
          "height": 881
        },
        "id": "8Iea6imskBzL",
        "outputId": "d305d05b-b58e-41e8-da94-256b2404d666"
      },
      "outputs": [
        {
          "data": {
            "image/png": "[encoded data removed]",
            "text/plain": [
              "<Figure size 640x480 with 1 Axes>"
            ]
          },
          "metadata": {},
          "output_type": "display_data"
        },
        {
          "data": {
            "image/png": "[encoded data removed]",
            "text/plain": [
              "<Figure size 640x480 with 1 Axes>"
            ]
          },
          "metadata": {},
          "output_type": "display_data"
        }
      ],
      "source": [
        "import matplotlib.pyplot as plt\n",
        "# Graficar las pérdidas de entrenamiento y validación durante las épocas\n",
        "\n",
        "plt.plot(train_losses, label='Training Loss')\n",
        "plt.plot(val_losses, label='Validation Loss')\n",
        "plt.xlabel('Epoch')\n",
        "plt.ylabel('Loss')\n",
        "plt.legend()\n",
        "plt.show()\n",
        "\n",
        "plt.plot(Act_train_losses, label='Training Loss')\n",
        "plt.plot(Act_val_losses, label='Validation Loss')\n",
        "plt.xlabel('Epoch')\n",
        "plt.ylabel('Loss')\n",
        "plt.legend()\n",
        "plt.show()"
      ]
    },
    {
      "attachments": {},
      "cell_type": "markdown",
      "metadata": {
        "id": "PfOuhOBHkJ8S"
      },
      "source": [
        "La curva que se ha obtenido sugiere que el rendimiento del modelo mejora inicialmente tanto en el conjunto de entrenamiento como en el de validación a medida que aumenta el número de épocas. Sin embargo, después de la tercera época, la pérdida de validación comienza a aumentar mientras que la pérdida de entrenamiento continúa disminuyendo. Esto indica que el modelo se está sobreajustando al conjunto de entrenamiento, lo que significa que se está especializando demasiado en los datos de entrenamiento y no se está generalizando bien con los datos nuevos.\n",
        "\n",
        "Para abordar este problema, se puede probar algunas de las siguientes proposiciones:\n",
        "\n",
        "1. Reducir la complejidad del modelo disminuyendo el número de capas o neuronas ya que esto puede ayudar a evitar el sobreajuste al reducir la capacidad del modelo para memorizar los datos de entrenamiento\n",
        "\n",
        "2. Aumentar la cantidad de datos de entrenamiento, entre más datos pueden ayudar al modelo a aprender a generalizar mejor y reducir el riesgo del sobreajuste\n",
        "\n",
        "3. Intentar usar diferentes algoritmos de optimización o tasas de aprendizaje durante el entrenamiento. A veces, la elección del algoritmo de optimización o la tasa de aprendizaje puede afectar la capacidad del modelo para generalizar a nuevos datos"
      ]
    },
    {
      "attachments": {},
      "cell_type": "markdown",
      "metadata": {
        "id": "BG6_Uw0bvnSV"
      },
      "source": [
        "## Reentrenamiento y ajuste del modelo"
      ]
    },
    {
      "attachments": {},
      "cell_type": "markdown",
      "metadata": {
        "id": "DGTuF1aP9Bb2"
      },
      "source": [
        "Después de configurar los hiperparámetros para el caso, se inicializa el modelo creando una instancia de la clase LSTMClassifier, pasando los hiperparámetros como argumentos.\n",
        "\n",
        "Se define el optimizador y la función de pérdida para el modelo. El optimizador se utiliza para actualizar los parámetros del modelo durante el entrenamiento y la tasa de aprendizaje se establece en 0,0001, que es un valor relativamente pequeño para garantizar un aprendizaje estable. \n",
        "\n",
        "El optimizador a utilizar es el optimizador de Adam, que se usa comúnmente para modelos de aprendizaje profundo.\n",
        "\n",
        "La función de pérdida utilizada es la función de pérdida \"Cross-entropy\", que se usa comúnmente para problemas de clasificación de clases múltiples. Esta mide la diferencia entre las probabilidades predichas y las probabilidades reales de la etiqueta y se utiliza para actualizar los parámetros del modelo durante el entrenamiento.\n",
        "\n",
        "Finalmente, se mueve el modelo al dispositivo (CPU o GPU) especificado y \n",
        "se comienza a entrenar el modelo."
      ]
    },
    {
      "cell_type": "code",
      "execution_count": 15,
      "metadata": {
        "colab": {
          "base_uri": "https://localhost:8080/"
        },
        "id": "keJ1pjRnvbpC",
        "outputId": "af7169ba-57d2-4949-93d5-945fe93452cd"
      },
      "outputs": [
        {
          "name": "stdout",
          "output_type": "stream",
          "text": [
            "Epoch 1: Train Loss = 1.306, Val Loss = 1.265\n",
            "Epoch 2: Train Loss = 1.264, Val Loss = 1.244\n",
            "Epoch 3: Train Loss = 1.233, Val Loss = 1.234\n",
            "Epoch 4: Train Loss = 1.205, Val Loss = 1.226\n",
            "Epoch 5: Train Loss = 1.179, Val Loss = 1.224\n",
            "Epoch 6: Train Loss = 1.152, Val Loss = 1.225\n",
            "Epoch 7: Train Loss = 1.126, Val Loss = 1.227\n",
            "Epoch 8: Train Loss = 1.099, Val Loss = 1.240\n",
            "Epoch 9: Train Loss = 1.071, Val Loss = 1.254\n",
            "Epoch 10: Train Loss = 1.043, Val Loss = 1.272\n"
          ]
        }
      ],
      "source": [
        "# Establecer los hiperparámetros del modelo\n",
        "input_size = tokenizer.vocab_size # Tamano del vocabulario\n",
        "hidden_size = 256  # Aumentar el número de unidades ocultas\n",
        "output_size = len(top_sentiments) # Numero de clases de salida\n",
        "num_layers = 3  # Aumentar el número de capas LSTM\n",
        "dropout = 0.5  # Aumentar tasa de abandono\n",
        "\n",
        "# Inicializar el modelo\n",
        "model = LSTMClassifier(input_size, hidden_size, output_size, num_layers=num_layers, dropout=dropout)\n",
        "model.to(device)\n",
        "\n",
        "# Definicion del el optimizador y la función de pérdida\n",
        "optimizer = torch.optim.Adam(model.parameters(), lr=0.0001)  # Reducir la tasa de aprendizaje\n",
        "loss_fn = torch.nn.CrossEntropyLoss()\n",
        "\n",
        "# Entrenar el modelo con los siguientes parametros\n",
        "num_epochs = 10\n",
        "train_losses = []\n",
        "val_losses = []\n",
        "Act_train_losses = []\n",
        "Act_val_losses = []\n",
        "\n",
        "for epoch in range(num_epochs):\n",
        "    # Establecer el modelo en modo de entrenamiento\n",
        "    model.train()\n",
        "\n",
        "    # Recorrer sobre los datos de entrenamiento en lotes\n",
        "    for batch in train_loader:\n",
        "        input_ids = batch['input_ids'].to(device)\n",
        "        attention_mask = batch['attention_mask'].to(device)\n",
        "        labels = batch['label'].to(device)\n",
        "\n",
        "        # Cero los gradientes\n",
        "        optimizer.zero_grad()\n",
        "\n",
        "        # Forwards a través del modelo y calculo de la pérdida\n",
        "        outputs = model(input_ids, attention_mask)\n",
        "        loss = loss_fn(outputs, labels)\n",
        "\n",
        "        # Backward y paso de optimización\n",
        "        loss.backward()\n",
        "        optimizer.step()\n",
        "\n",
        "        # Agregar a la perdida de entrenamiento a la lista\n",
        "        train_losses.append(loss.item())\n",
        "\n",
        "    # Establecer el modelo en modo de evaluación\n",
        "    model.eval()\n",
        "\n",
        "    # Recorrer los datos de validación en lotes\n",
        "    with torch.no_grad():\n",
        "        for batch in val_loader:\n",
        "            input_ids = batch['input_ids'].to(device)\n",
        "            attention_mask = batch['attention_mask'].to(device)\n",
        "            labels = batch['label'].to(device)\n",
        "\n",
        "            # Forward a través del modelo y calculo de la pérdida\n",
        "            outputs = model(input_ids, attention_mask)\n",
        "            loss = loss_fn(outputs, labels)\n",
        "\n",
        "            # Agregar la pérdida de la validación a la lista\n",
        "            val_losses.append(loss.item())\n",
        "\n",
        "    # Calcular las pérdidas promedio de entrenamiento y validación\n",
        "    Act_train_losses.append(np.mean(train_losses))\n",
        "    Act_val_losses.append(np.mean(val_losses))\n",
        "\n",
        "    # Imprimir las pérdidas de entrenamiento y validación para esta época\n",
        "    print(f'Epoch {epoch+1}: Train Loss = {np.mean(train_losses):.3f}, Val Loss = {np.mean(val_losses):.3f}')\n"
      ]
    },
    {
      "attachments": {},
      "cell_type": "markdown",
      "metadata": {
        "id": "K-woRrBjkWlR"
      },
      "source": [
        "## 9. Evaluar el Modelo"
      ]
    },
    {
      "cell_type": "code",
      "execution_count": 16,
      "metadata": {
        "colab": {
          "base_uri": "https://localhost:8080/"
        },
        "id": "V24AdUD2kYa6",
        "outputId": "919bd24c-66b9-4c5b-a536-4028808419e3"
      },
      "outputs": [
        {
          "name": "stdout",
          "output_type": "stream",
          "text": [
            "Confusion Matrix:\n",
            "[[846 430 334  95]\n",
            " [455 770 213 245]\n",
            " [228 194 594  33]\n",
            " [268 428 104 258]]\n",
            "Classification Report:\n",
            "              precision    recall  f1-score   support\n",
            "\n",
            "     neutral       0.47      0.50      0.48      1705\n",
            "       worry       0.42      0.46      0.44      1683\n",
            "   happiness       0.48      0.57      0.52      1049\n",
            "     sadness       0.41      0.24      0.31      1058\n",
            "\n",
            "    accuracy                           0.45      5495\n",
            "   macro avg       0.44      0.44      0.44      5495\n",
            "weighted avg       0.45      0.45      0.44      5495\n",
            "\n"
          ]
        }
      ],
      "source": [
        "from sklearn.metrics import confusion_matrix, classification_report\n",
        "\n",
        "# Establecer el modelo en modo de evaluación\n",
        "model.eval()\n",
        "\n",
        "# Inicializar listas vacías para contener las etiquetas predichas y verdaderas\n",
        "y_pred = []\n",
        "y_true = []\n",
        "\n",
        "# iterar sobre los datos de validación en lotes\n",
        "with torch.no_grad():\n",
        "    for batch in val_loader:\n",
        "        input_ids = batch['input_ids'].to(device)\n",
        "        attention_mask = batch['attention_mask'].to(device)\n",
        "        labels = batch['label'].to(device)\n",
        "\n",
        "        # Forward a través del modelo y obtenga las etiquetas predichas\n",
        "        outputs = model(input_ids, attention_mask)\n",
        "        _, predicted = torch.max(outputs, 1)\n",
        "\n",
        "        # Agregar las etiquetas predichas y verdaderas a las listas\n",
        "        y_pred += predicted.tolist()\n",
        "        y_true += labels.tolist()\n",
        "\n",
        "# Imprimir la matriz de confusión e informe de clasificación\n",
        "print('Confusion Matrix:')\n",
        "print(confusion_matrix(y_true, y_pred))\n",
        "\n",
        "print('Classification Report:')\n",
        "print(classification_report(y_true, y_pred, target_names=top_sentiments))"
      ]
    },
    {
      "attachments": {},
      "cell_type": "markdown",
      "metadata": {},
      "source": [
        "El modelo parece tener problemas para clasificar correctamente las diferentes clases. Las puntuaciones de precisión, recuperación y  F1 difieren entre las clases, lo que sugiere que el modelo puede ser más preciso y sensible para algunas clases que para otras.\n",
        "\n",
        "La precisión para diferentes clases varía entre 0,41 y 0,48. Esto indica que el modelo tiene dificultades para predecir con precisión diferentes clases y las predicciones pueden contener algún grado de falsos positivos. \n",
        "\n",
        "Recall también varía entre 0,24 y 0,57. El valor de la clase Tristeza de 0,24, indica que el modelo tiene problemas para identificar correctamente las muestras de esta clase.  \n",
        "\n",
        "La puntuación F1 combina  precisión y recall en una sola medida. Los valores de F1 varían entre 0,31 y 0,52, lo que indica que el modelo tiene un rendimiento medio en la clasificación de  diferentes clases. \n",
        "\n",
        "Finalmente, el informe también muestra el número de muestras en cada clase. Esto indica que los conjuntos de datos utilizados para el análisis contienen números similares de muestras de  diferentes clases."
      ]
    },
    {
      "cell_type": "code",
      "execution_count": 17,
      "metadata": {
        "colab": {
          "base_uri": "https://localhost:8080/",
          "height": 881
        },
        "id": "bTxx7Og9y0QD",
        "outputId": "0f955418-b698-48a3-f899-49640cd74664"
      },
      "outputs": [
        {
          "data": {
            "image/png": "[encoded data removed]",
            "text/plain": [
              "<Figure size 640x480 with 1 Axes>"
            ]
          },
          "metadata": {},
          "output_type": "display_data"
        },
        {
          "data": {
            "image/png": "[encoded data removed]",
            "text/plain": [
              "<Figure size 640x480 with 1 Axes>"
            ]
          },
          "metadata": {},
          "output_type": "display_data"
        }
      ],
      "source": [
        "import matplotlib.pyplot as plt\n",
        "# Graficar las pérdidas de entrenamiento y validación durante las épocas\n",
        "\n",
        "plt.plot(train_losses, label='Training Loss')\n",
        "plt.plot(val_losses, label='Validation Loss')\n",
        "plt.xlabel('Epoch')\n",
        "plt.ylabel('Loss')\n",
        "plt.legend()\n",
        "plt.show()\n",
        "\n",
        "plt.plot(Act_train_losses, label='Training Loss')\n",
        "plt.plot(Act_val_losses, label='Validation Loss')\n",
        "plt.xlabel('Epoch')\n",
        "plt.ylabel('Loss')\n",
        "plt.legend()\n",
        "plt.show()"
      ]
    },
    {
      "attachments": {},
      "cell_type": "markdown",
      "metadata": {
        "id": "xq08EjgbCMQh"
      },
      "source": [
        "Basándose únicamente en las pérdidas de entrenamiento y validación, pareciera que el segundo modelo funciona mejor que el primer modelo. \n",
        "\n",
        "La pérdida de entrenamiento del primer modelo disminuye constantemente durante las 10 épocas, mientras que en el segundo modelo, la pérdida de entrenamiento disminuye lentamente. Además, la pérdida de validación del primer modelo comienza a aumentar después de la quinta época, mientras que en el segundo modelo, la pérdida de validación permanece relativamente constante."
      ]
    },
    {
      "cell_type": "code",
      "execution_count": 47,
      "metadata": {
        "colab": {
          "base_uri": "https://localhost:8080/",
          "height": 630
        },
        "id": "llsZnoaMFgic",
        "outputId": "d14334fc-9282-4499-c45f-4f34c22bdb28"
      },
      "outputs": [
        {
          "data": {
            "image/png": "[encoded data removed]",
            "text/plain": [
              "<Figure size 800x600 with 1 Axes>"
            ]
          },
          "metadata": {},
          "output_type": "display_data"
        }
      ],
      "source": [
        "import seaborn as sns\n",
        "import matplotlib.pyplot as plt\n",
        "import numpy as np\n",
        "from sklearn.metrics import confusion_matrix\n",
        "\n",
        "# Calcular la matriz de confusión\n",
        "conf_mat = confusion_matrix(y_true, y_pred)\n",
        "\n",
        "# Graficar la matriz de confusión como un mapa de calor\n",
        "fig, ax = plt.subplots(figsize=(8, 6))\n",
        "sns.heatmap(conf_mat, annot=True, fmt='d', cmap='Blues', cbar=False, ax=ax)\n",
        "ax.set_xlabel('Predicted', fontsize=14)\n",
        "ax.set_ylabel('Actual', fontsize=14)\n",
        "ax.set_xticklabels(top_sentiments, rotation=45, fontsize=12)\n",
        "ax.set_yticklabels(top_sentiments, rotation=0, fontsize=12)\n",
        "plt.title('Matriz de Confusión', fontsize=16)  # Título del gráfico\n",
        "plt.show()  # Mostrar el gráfico\n"
      ]
    },
    {
      "attachments": {},
      "cell_type": "markdown",
      "metadata": {
        "id": "2YEULp4LlaYC"
      },
      "source": [
        "## 10. Analisis de resultados"
      ]
    },
    {
      "attachments": {},
      "cell_type": "markdown",
      "metadata": {
        "id": "6fTxxNiGlfi1"
      },
      "source": [
        "Las curvas de pérdida de entrenamiento y validación muestran que el modelo se sobreajusta a los datos de entrenamiento después de varias épocas.\n",
        "\n",
        "La pérdida de validación comienza a aumentar mientras que la pérdida de entrenamiento continúa disminuyendo, lo que indica que el modelo no se está generalizando bien a los nuevos datos.\n",
        "\n",
        "Para mejorar el rendimiento del modelo, se pueden realizar los siguientes cambios:\n",
        "\n",
        "Aumentar la tasa de abandono: El abandono es una técnica de regularización que elimina nodos aleatoriamente durante el entrenamiento. Esto puede ayudar a evitar el sobreajuste al reducir la dependencia del modelo de nodos específicos y hacerlo más resistente al ruido en la entrada. Al aumentar la tasa de abandono, se puede reducir la dependencia del modelo de nodos específicos y evitar el sobreajuste presentado.\n",
        "\n",
        "Utilizar un optimizador diferente: El optimizador de Adam es una opción popular para los modelos de aprendizaje profundo, pero puede que no siempre sea la mejor opción para un problema determinado. Experimentar con diferentes optimizadores, como SGD o RMSprop, puede ayudar a mejorar el rendimiento del modelo."
      ]
    },
    {
      "attachments": {},
      "cell_type": "markdown",
      "metadata": {
        "id": "H3I-nd8qlhOG"
      },
      "source": [
        "## Cambios realizados en el flujo de trabajo del proyecto:\n",
        "\n",
        "Para implementar estos cambios, Se modifica el código de la siguiente manera:\n",
        "\n",
        "Aumento de la tasa de abandono:  \n",
        "\n",
        "```\n",
        "python Copy dropout = 0.5 model = LSTMClassifier(input_size, hidden_size, output_size, num_layers=num_layers, dropout=dropout)\n",
        "```\n",
        "Se aumento la tasa de abandono de 0,2 a 0,5.\n",
        "\n",
        "Utilizar un optimizador diferente:\n",
        "\n",
        "```\n",
        "python Copy optimizer = torch.optim.SGD(model.parameters(), lr=0.01, momentum=0.9) \n",
        "```\n",
        "\n",
        "Se ha cambiado el optimizador de Adam a SGD con una tasa de aprendizaje de 0.01 y un impulso de 0.9 .\n"
      ]
    },
    {
      "attachments": {},
      "cell_type": "markdown",
      "metadata": {
        "id": "tf22YVOfljP6"
      },
      "source": [
        "## 11. Conclusiones"
      ]
    },
    {
      "attachments": {},
      "cell_type": "markdown",
      "metadata": {
        "id": "dh54gEQ8lmf4"
      },
      "source": [
        "1. Las técnicas de regularización, como el abandono, pueden ayudar a prevenir el sobreajuste y mejorar el rendimiento de generalización de los modelos de aprendizaje profundo.\n",
        "\n",
        "2. La elección del optimizador puede tener un impacto significativo en el rendimiento del modelo, y experimentar con diferentes optimizadores puede ser una forma efectiva de mejorar el rendimiento.\n",
        "\n",
        "3. El monitoreo de las curvas de pérdida de entrenamiento y validación puede ayudar a identificar cuándo un modelo se está sobreajustando y guiar la selección de técnicas de regularización y optimizadores apropiados.\n",
        "\n",
        "4. El ajuste de los hiperparámetros del modelo, como la tasa de aprendizaje y el tamaño del lote, también puede ayudar a mejorar el rendimiento.\n"
      ]
    },
    {
      "attachments": {},
      "cell_type": "markdown",
      "metadata": {
        "id": "TyLplWeNlzLV"
      },
      "source": [
        "## Referencias"
      ]
    },
    {
      "attachments": {},
      "cell_type": "markdown",
      "metadata": {
        "id": "q_5NCPhll3yZ"
      },
      "source": [
        "Li, W., & Lu, J. (2017). A survey on emotion recognition using physiological signals. In 2017 39th Annual International Conference of the IEEE Engineering in Medicine and Biology Society (EMBC) (pp. 1766-1769). IEEE.\n",
        "\n",
        "PyTorch. (n.d.). Retrieved from https://pytorch.org/\n",
        "\n",
        "Brownlee, J. (2021). How to Develop a Deep Learning Classifier for Sentiment Analysis. Retrieved from https://machinelearningmastery.com/develop-word-embedding-model-predicting-movie-review-sentiment/\n",
        "\n",
        "Hutto, C. J., & Gilbert, E. (2014). VADER: A parsimonious rule-based model for sentiment analysis of social media text. Eighth international AAAI conference on weblogs and social media.\n",
        "\n",
        "Twitter API. (n.d.). Retrieved from https://developer.twitter.com/en/docs\n",
        "\n",
        "Zhang, X., Zhao, J., & LeCun, Y. (2015). Character-level convolutional networks for text classification. In Advances in neural information processing systems (pp. 649-657)."
      ]
    }
  ],
  "metadata": {
    "colab": {
      "provenance": []
    },
    "kernelspec": {
      "display_name": "Python 3",
      "language": "python",
      "name": "python3"
    },
    "language_info": {
      "codemirror_mode": {
        "name": "ipython",
        "version": 3
      },
      "file_extension": ".py",
      "mimetype": "text/x-python",
      "name": "python",
      "nbconvert_exporter": "python",
      "pygments_lexer": "ipython3",
      "version": "3.8.10"
    },
    "orig_nbformat": 4,
    "widgets": {
      "application/vnd.jupyter.widget-state+json": {
        "00bb00402fd44060b731fb613e6f445d": {
          "model_module": "@jupyter-widgets/base",
          "model_module_version": "1.2.0",
          "model_name": "LayoutModel",
          "state": {
            "_model_module": "@jupyter-widgets/base",
            "_model_module_version": "1.2.0",
            "_model_name": "LayoutModel",
            "_view_count": null,
            "_view_module": "@jupyter-widgets/base",
            "_view_module_version": "1.2.0",
            "_view_name": "LayoutView",
            "align_content": null,
            "align_items": null,
            "align_self": null,
            "border": null,
            "bottom": null,
            "display": null,
            "flex": null,
            "flex_flow": null,
            "grid_area": null,
            "grid_auto_columns": null,
            "grid_auto_flow": null,
            "grid_auto_rows": null,
            "grid_column": null,
            "grid_gap": null,
            "grid_row": null,
            "grid_template_areas": null,
            "grid_template_columns": null,
            "grid_template_rows": null,
            "height": null,
            "justify_content": null,
            "justify_items": null,
            "left": null,
            "margin": null,
            "max_height": null,
            "max_width": null,
            "min_height": null,
            "min_width": null,
            "object_fit": null,
            "object_position": null,
            "order": null,
            "overflow": null,
            "overflow_x": null,
            "overflow_y": null,
            "padding": null,
            "right": null,
            "top": null,
            "visibility": null,
            "width": null
          }
        },
        "06e68f6550904c6c82f11aa5224d4594": {
          "model_module": "@jupyter-widgets/base",
          "model_module_version": "1.2.0",
          "model_name": "LayoutModel",
          "state": {
            "_model_module": "@jupyter-widgets/base",
            "_model_module_version": "1.2.0",
            "_model_name": "LayoutModel",
            "_view_count": null,
            "_view_module": "@jupyter-widgets/base",
            "_view_module_version": "1.2.0",
            "_view_name": "LayoutView",
            "align_content": null,
            "align_items": null,
            "align_self": null,
            "border": null,
            "bottom": null,
            "display": null,
            "flex": null,
            "flex_flow": null,
            "grid_area": null,
            "grid_auto_columns": null,
            "grid_auto_flow": null,
            "grid_auto_rows": null,
            "grid_column": null,
            "grid_gap": null,
            "grid_row": null,
            "grid_template_areas": null,
            "grid_template_columns": null,
            "grid_template_rows": null,
            "height": null,
            "justify_content": null,
            "justify_items": null,
            "left": null,
            "margin": null,
            "max_height": null,
            "max_width": null,
            "min_height": null,
            "min_width": null,
            "object_fit": null,
            "object_position": null,
            "order": null,
            "overflow": null,
            "overflow_x": null,
            "overflow_y": null,
            "padding": null,
            "right": null,
            "top": null,
            "visibility": null,
            "width": null
          }
        },
        "075f8a97563b4013b6c393720d659aae": {
          "model_module": "@jupyter-widgets/controls",
          "model_module_version": "1.5.0",
          "model_name": "DescriptionStyleModel",
          "state": {
            "_model_module": "@jupyter-widgets/controls",
            "_model_module_version": "1.5.0",
            "_model_name": "DescriptionStyleModel",
            "_view_count": null,
            "_view_module": "@jupyter-widgets/base",
            "_view_module_version": "1.2.0",
            "_view_name": "StyleView",
            "description_width": ""
          }
        },
        "0923aa6834f4441a97d9025967f84ba2": {
          "model_module": "@jupyter-widgets/controls",
          "model_module_version": "1.5.0",
          "model_name": "HTMLModel",
          "state": {
            "_dom_classes": [],
            "_model_module": "@jupyter-widgets/controls",
            "_model_module_version": "1.5.0",
            "_model_name": "HTMLModel",
            "_view_count": null,
            "_view_module": "@jupyter-widgets/controls",
            "_view_module_version": "1.5.0",
            "_view_name": "HTMLView",
            "description": "",
            "description_tooltip": null,
            "layout": "IPY_MODEL_aec662c496f3475cbe465287912ff558",
            "placeholder": "​",
            "style": "IPY_MODEL_e525496642e64c32b76ddf81a761722e",
            "value": " 28.0/28.0 [00:00&lt;00:00, 1.65kB/s]"
          }
        },
        "0d85cd0ac383496d927648b71662bf3c": {
          "model_module": "@jupyter-widgets/controls",
          "model_module_version": "1.5.0",
          "model_name": "HTMLModel",
          "state": {
            "_dom_classes": [],
            "_model_module": "@jupyter-widgets/controls",
            "_model_module_version": "1.5.0",
            "_model_name": "HTMLModel",
            "_view_count": null,
            "_view_module": "@jupyter-widgets/controls",
            "_view_module_version": "1.5.0",
            "_view_name": "HTMLView",
            "description": "",
            "description_tooltip": null,
            "layout": "IPY_MODEL_82fb3a3b621a43fdaebfcad850ccba4d",
            "placeholder": "​",
            "style": "IPY_MODEL_7c351a4ad2704dcea7928d5be1e3f58f",
            "value": "Downloading (…)lve/main/config.json: 100%"
          }
        },
        "1777d531d9ff47bc8b307d07b8226b5d": {
          "model_module": "@jupyter-widgets/controls",
          "model_module_version": "1.5.0",
          "model_name": "HBoxModel",
          "state": {
            "_dom_classes": [],
            "_model_module": "@jupyter-widgets/controls",
            "_model_module_version": "1.5.0",
            "_model_name": "HBoxModel",
            "_view_count": null,
            "_view_module": "@jupyter-widgets/controls",
            "_view_module_version": "1.5.0",
            "_view_name": "HBoxView",
            "box_style": "",
            "children": [
              "IPY_MODEL_325a7a0b426d4847951b77350b15b2f3",
              "IPY_MODEL_f5fe82e417414370bb7cdbb9c3432c76",
              "IPY_MODEL_5bb8b4db36d84bbe87322244f6bd4691"
            ],
            "layout": "IPY_MODEL_d7e4f45b10d9455c8bf99fb9c75b788a"
          }
        },
        "1b1f3d0e5c1c40119c26ed6c6293fd21": {
          "model_module": "@jupyter-widgets/controls",
          "model_module_version": "1.5.0",
          "model_name": "DescriptionStyleModel",
          "state": {
            "_model_module": "@jupyter-widgets/controls",
            "_model_module_version": "1.5.0",
            "_model_name": "DescriptionStyleModel",
            "_view_count": null,
            "_view_module": "@jupyter-widgets/base",
            "_view_module_version": "1.2.0",
            "_view_name": "StyleView",
            "description_width": ""
          }
        },
        "1bcbc844482d4234b08f2ea9335f8bb2": {
          "model_module": "@jupyter-widgets/base",
          "model_module_version": "1.2.0",
          "model_name": "LayoutModel",
          "state": {
            "_model_module": "@jupyter-widgets/base",
            "_model_module_version": "1.2.0",
            "_model_name": "LayoutModel",
            "_view_count": null,
            "_view_module": "@jupyter-widgets/base",
            "_view_module_version": "1.2.0",
            "_view_name": "LayoutView",
            "align_content": null,
            "align_items": null,
            "align_self": null,
            "border": null,
            "bottom": null,
            "display": null,
            "flex": null,
            "flex_flow": null,
            "grid_area": null,
            "grid_auto_columns": null,
            "grid_auto_flow": null,
            "grid_auto_rows": null,
            "grid_column": null,
            "grid_gap": null,
            "grid_row": null,
            "grid_template_areas": null,
            "grid_template_columns": null,
            "grid_template_rows": null,
            "height": null,
            "justify_content": null,
            "justify_items": null,
            "left": null,
            "margin": null,
            "max_height": null,
            "max_width": null,
            "min_height": null,
            "min_width": null,
            "object_fit": null,
            "object_position": null,
            "order": null,
            "overflow": null,
            "overflow_x": null,
            "overflow_y": null,
            "padding": null,
            "right": null,
            "top": null,
            "visibility": null,
            "width": null
          }
        },
        "1f5eddeec3814babb26bc11efc6f40e0": {
          "model_module": "@jupyter-widgets/controls",
          "model_module_version": "1.5.0",
          "model_name": "HTMLModel",
          "state": {
            "_dom_classes": [],
            "_model_module": "@jupyter-widgets/controls",
            "_model_module_version": "1.5.0",
            "_model_name": "HTMLModel",
            "_view_count": null,
            "_view_module": "@jupyter-widgets/controls",
            "_view_module_version": "1.5.0",
            "_view_name": "HTMLView",
            "description": "",
            "description_tooltip": null,
            "layout": "IPY_MODEL_06e68f6550904c6c82f11aa5224d4594",
            "placeholder": "​",
            "style": "IPY_MODEL_e69ff266dc5747c998b7f823076edda5",
            "value": "Downloading (…)okenizer_config.json: 100%"
          }
        },
        "1f9bd651296f4cfea0ce3d4d0ad13e07": {
          "model_module": "@jupyter-widgets/base",
          "model_module_version": "1.2.0",
          "model_name": "LayoutModel",
          "state": {
            "_model_module": "@jupyter-widgets/base",
            "_model_module_version": "1.2.0",
            "_model_name": "LayoutModel",
            "_view_count": null,
            "_view_module": "@jupyter-widgets/base",
            "_view_module_version": "1.2.0",
            "_view_name": "LayoutView",
            "align_content": null,
            "align_items": null,
            "align_self": null,
            "border": null,
            "bottom": null,
            "display": null,
            "flex": null,
            "flex_flow": null,
            "grid_area": null,
            "grid_auto_columns": null,
            "grid_auto_flow": null,
            "grid_auto_rows": null,
            "grid_column": null,
            "grid_gap": null,
            "grid_row": null,
            "grid_template_areas": null,
            "grid_template_columns": null,
            "grid_template_rows": null,
            "height": null,
            "justify_content": null,
            "justify_items": null,
            "left": null,
            "margin": null,
            "max_height": null,
            "max_width": null,
            "min_height": null,
            "min_width": null,
            "object_fit": null,
            "object_position": null,
            "order": null,
            "overflow": null,
            "overflow_x": null,
            "overflow_y": null,
            "padding": null,
            "right": null,
            "top": null,
            "visibility": null,
            "width": null
          }
        },
        "231abc41178440149c316f4a486b98b0": {
          "model_module": "@jupyter-widgets/controls",
          "model_module_version": "1.5.0",
          "model_name": "HBoxModel",
          "state": {
            "_dom_classes": [],
            "_model_module": "@jupyter-widgets/controls",
            "_model_module_version": "1.5.0",
            "_model_name": "HBoxModel",
            "_view_count": null,
            "_view_module": "@jupyter-widgets/controls",
            "_view_module_version": "1.5.0",
            "_view_name": "HBoxView",
            "box_style": "",
            "children": [
              "IPY_MODEL_1f5eddeec3814babb26bc11efc6f40e0",
              "IPY_MODEL_78231a71fb964686a3280fcb4390f52b",
              "IPY_MODEL_0923aa6834f4441a97d9025967f84ba2"
            ],
            "layout": "IPY_MODEL_ddbe8f756f4e429883aaf3e7cb02483d"
          }
        },
        "2d966fef44f049f8a976cffa69fac726": {
          "model_module": "@jupyter-widgets/controls",
          "model_module_version": "1.5.0",
          "model_name": "DescriptionStyleModel",
          "state": {
            "_model_module": "@jupyter-widgets/controls",
            "_model_module_version": "1.5.0",
            "_model_name": "DescriptionStyleModel",
            "_view_count": null,
            "_view_module": "@jupyter-widgets/base",
            "_view_module_version": "1.2.0",
            "_view_name": "StyleView",
            "description_width": ""
          }
        },
        "325a7a0b426d4847951b77350b15b2f3": {
          "model_module": "@jupyter-widgets/controls",
          "model_module_version": "1.5.0",
          "model_name": "HTMLModel",
          "state": {
            "_dom_classes": [],
            "_model_module": "@jupyter-widgets/controls",
            "_model_module_version": "1.5.0",
            "_model_name": "HTMLModel",
            "_view_count": null,
            "_view_module": "@jupyter-widgets/controls",
            "_view_module_version": "1.5.0",
            "_view_name": "HTMLView",
            "description": "",
            "description_tooltip": null,
            "layout": "IPY_MODEL_82a7fa3e80b24c479389e5891c26fa56",
            "placeholder": "​",
            "style": "IPY_MODEL_2d966fef44f049f8a976cffa69fac726",
            "value": "Downloading (…)/main/tokenizer.json: 100%"
          }
        },
        "5bb8b4db36d84bbe87322244f6bd4691": {
          "model_module": "@jupyter-widgets/controls",
          "model_module_version": "1.5.0",
          "model_name": "HTMLModel",
          "state": {
            "_dom_classes": [],
            "_model_module": "@jupyter-widgets/controls",
            "_model_module_version": "1.5.0",
            "_model_name": "HTMLModel",
            "_view_count": null,
            "_view_module": "@jupyter-widgets/controls",
            "_view_module_version": "1.5.0",
            "_view_name": "HTMLView",
            "description": "",
            "description_tooltip": null,
            "layout": "IPY_MODEL_00bb00402fd44060b731fb613e6f445d",
            "placeholder": "​",
            "style": "IPY_MODEL_1b1f3d0e5c1c40119c26ed6c6293fd21",
            "value": " 466k/466k [00:00&lt;00:00, 2.36MB/s]"
          }
        },
        "5e221e042d1045a2a4432ed8c483c680": {
          "model_module": "@jupyter-widgets/base",
          "model_module_version": "1.2.0",
          "model_name": "LayoutModel",
          "state": {
            "_model_module": "@jupyter-widgets/base",
            "_model_module_version": "1.2.0",
            "_model_name": "LayoutModel",
            "_view_count": null,
            "_view_module": "@jupyter-widgets/base",
            "_view_module_version": "1.2.0",
            "_view_name": "LayoutView",
            "align_content": null,
            "align_items": null,
            "align_self": null,
            "border": null,
            "bottom": null,
            "display": null,
            "flex": null,
            "flex_flow": null,
            "grid_area": null,
            "grid_auto_columns": null,
            "grid_auto_flow": null,
            "grid_auto_rows": null,
            "grid_column": null,
            "grid_gap": null,
            "grid_row": null,
            "grid_template_areas": null,
            "grid_template_columns": null,
            "grid_template_rows": null,
            "height": null,
            "justify_content": null,
            "justify_items": null,
            "left": null,
            "margin": null,
            "max_height": null,
            "max_width": null,
            "min_height": null,
            "min_width": null,
            "object_fit": null,
            "object_position": null,
            "order": null,
            "overflow": null,
            "overflow_x": null,
            "overflow_y": null,
            "padding": null,
            "right": null,
            "top": null,
            "visibility": null,
            "width": null
          }
        },
        "608a8cf788f6404db78f0b59ffa5432a": {
          "model_module": "@jupyter-widgets/base",
          "model_module_version": "1.2.0",
          "model_name": "LayoutModel",
          "state": {
            "_model_module": "@jupyter-widgets/base",
            "_model_module_version": "1.2.0",
            "_model_name": "LayoutModel",
            "_view_count": null,
            "_view_module": "@jupyter-widgets/base",
            "_view_module_version": "1.2.0",
            "_view_name": "LayoutView",
            "align_content": null,
            "align_items": null,
            "align_self": null,
            "border": null,
            "bottom": null,
            "display": null,
            "flex": null,
            "flex_flow": null,
            "grid_area": null,
            "grid_auto_columns": null,
            "grid_auto_flow": null,
            "grid_auto_rows": null,
            "grid_column": null,
            "grid_gap": null,
            "grid_row": null,
            "grid_template_areas": null,
            "grid_template_columns": null,
            "grid_template_rows": null,
            "height": null,
            "justify_content": null,
            "justify_items": null,
            "left": null,
            "margin": null,
            "max_height": null,
            "max_width": null,
            "min_height": null,
            "min_width": null,
            "object_fit": null,
            "object_position": null,
            "order": null,
            "overflow": null,
            "overflow_x": null,
            "overflow_y": null,
            "padding": null,
            "right": null,
            "top": null,
            "visibility": null,
            "width": null
          }
        },
        "630a43d2ff9c4700b5d480cfb38529a2": {
          "model_module": "@jupyter-widgets/controls",
          "model_module_version": "1.5.0",
          "model_name": "FloatProgressModel",
          "state": {
            "_dom_classes": [],
            "_model_module": "@jupyter-widgets/controls",
            "_model_module_version": "1.5.0",
            "_model_name": "FloatProgressModel",
            "_view_count": null,
            "_view_module": "@jupyter-widgets/controls",
            "_view_module_version": "1.5.0",
            "_view_name": "ProgressView",
            "bar_style": "success",
            "description": "",
            "description_tooltip": null,
            "layout": "IPY_MODEL_5e221e042d1045a2a4432ed8c483c680",
            "max": 570,
            "min": 0,
            "orientation": "horizontal",
            "style": "IPY_MODEL_80cd9bbc861c42bcb6f20481ef1ddfe3",
            "value": 570
          }
        },
        "6cadc0cead4d47c0bb24445f992cc233": {
          "model_module": "@jupyter-widgets/controls",
          "model_module_version": "1.5.0",
          "model_name": "ProgressStyleModel",
          "state": {
            "_model_module": "@jupyter-widgets/controls",
            "_model_module_version": "1.5.0",
            "_model_name": "ProgressStyleModel",
            "_view_count": null,
            "_view_module": "@jupyter-widgets/base",
            "_view_module_version": "1.2.0",
            "_view_name": "StyleView",
            "bar_color": null,
            "description_width": ""
          }
        },
        "6f9a7754ddb34da4b00321a172ec9f3c": {
          "model_module": "@jupyter-widgets/base",
          "model_module_version": "1.2.0",
          "model_name": "LayoutModel",
          "state": {
            "_model_module": "@jupyter-widgets/base",
            "_model_module_version": "1.2.0",
            "_model_name": "LayoutModel",
            "_view_count": null,
            "_view_module": "@jupyter-widgets/base",
            "_view_module_version": "1.2.0",
            "_view_name": "LayoutView",
            "align_content": null,
            "align_items": null,
            "align_self": null,
            "border": null,
            "bottom": null,
            "display": null,
            "flex": null,
            "flex_flow": null,
            "grid_area": null,
            "grid_auto_columns": null,
            "grid_auto_flow": null,
            "grid_auto_rows": null,
            "grid_column": null,
            "grid_gap": null,
            "grid_row": null,
            "grid_template_areas": null,
            "grid_template_columns": null,
            "grid_template_rows": null,
            "height": null,
            "justify_content": null,
            "justify_items": null,
            "left": null,
            "margin": null,
            "max_height": null,
            "max_width": null,
            "min_height": null,
            "min_width": null,
            "object_fit": null,
            "object_position": null,
            "order": null,
            "overflow": null,
            "overflow_x": null,
            "overflow_y": null,
            "padding": null,
            "right": null,
            "top": null,
            "visibility": null,
            "width": null
          }
        },
        "7666dd31418e4413a8ea3cc262bd3cd9": {
          "model_module": "@jupyter-widgets/base",
          "model_module_version": "1.2.0",
          "model_name": "LayoutModel",
          "state": {
            "_model_module": "@jupyter-widgets/base",
            "_model_module_version": "1.2.0",
            "_model_name": "LayoutModel",
            "_view_count": null,
            "_view_module": "@jupyter-widgets/base",
            "_view_module_version": "1.2.0",
            "_view_name": "LayoutView",
            "align_content": null,
            "align_items": null,
            "align_self": null,
            "border": null,
            "bottom": null,
            "display": null,
            "flex": null,
            "flex_flow": null,
            "grid_area": null,
            "grid_auto_columns": null,
            "grid_auto_flow": null,
            "grid_auto_rows": null,
            "grid_column": null,
            "grid_gap": null,
            "grid_row": null,
            "grid_template_areas": null,
            "grid_template_columns": null,
            "grid_template_rows": null,
            "height": null,
            "justify_content": null,
            "justify_items": null,
            "left": null,
            "margin": null,
            "max_height": null,
            "max_width": null,
            "min_height": null,
            "min_width": null,
            "object_fit": null,
            "object_position": null,
            "order": null,
            "overflow": null,
            "overflow_x": null,
            "overflow_y": null,
            "padding": null,
            "right": null,
            "top": null,
            "visibility": null,
            "width": null
          }
        },
        "78231a71fb964686a3280fcb4390f52b": {
          "model_module": "@jupyter-widgets/controls",
          "model_module_version": "1.5.0",
          "model_name": "FloatProgressModel",
          "state": {
            "_dom_classes": [],
            "_model_module": "@jupyter-widgets/controls",
            "_model_module_version": "1.5.0",
            "_model_name": "FloatProgressModel",
            "_view_count": null,
            "_view_module": "@jupyter-widgets/controls",
            "_view_module_version": "1.5.0",
            "_view_name": "ProgressView",
            "bar_style": "success",
            "description": "",
            "description_tooltip": null,
            "layout": "IPY_MODEL_608a8cf788f6404db78f0b59ffa5432a",
            "max": 28,
            "min": 0,
            "orientation": "horizontal",
            "style": "IPY_MODEL_c0c98bc63be9482488a5a32e01bd9c49",
            "value": 28
          }
        },
        "7c351a4ad2704dcea7928d5be1e3f58f": {
          "model_module": "@jupyter-widgets/controls",
          "model_module_version": "1.5.0",
          "model_name": "DescriptionStyleModel",
          "state": {
            "_model_module": "@jupyter-widgets/controls",
            "_model_module_version": "1.5.0",
            "_model_name": "DescriptionStyleModel",
            "_view_count": null,
            "_view_module": "@jupyter-widgets/base",
            "_view_module_version": "1.2.0",
            "_view_name": "StyleView",
            "description_width": ""
          }
        },
        "7f2c8175444f49b4bfcfde2f66809c99": {
          "model_module": "@jupyter-widgets/controls",
          "model_module_version": "1.5.0",
          "model_name": "DescriptionStyleModel",
          "state": {
            "_model_module": "@jupyter-widgets/controls",
            "_model_module_version": "1.5.0",
            "_model_name": "DescriptionStyleModel",
            "_view_count": null,
            "_view_module": "@jupyter-widgets/base",
            "_view_module_version": "1.2.0",
            "_view_name": "StyleView",
            "description_width": ""
          }
        },
        "80712d0c8afa462b9cdb04bb06089d2c": {
          "model_module": "@jupyter-widgets/controls",
          "model_module_version": "1.5.0",
          "model_name": "HTMLModel",
          "state": {
            "_dom_classes": [],
            "_model_module": "@jupyter-widgets/controls",
            "_model_module_version": "1.5.0",
            "_model_name": "HTMLModel",
            "_view_count": null,
            "_view_module": "@jupyter-widgets/controls",
            "_view_module_version": "1.5.0",
            "_view_name": "HTMLView",
            "description": "",
            "description_tooltip": null,
            "layout": "IPY_MODEL_1f9bd651296f4cfea0ce3d4d0ad13e07",
            "placeholder": "​",
            "style": "IPY_MODEL_075f8a97563b4013b6c393720d659aae",
            "value": " 232k/232k [00:00&lt;00:00, 1.71MB/s]"
          }
        },
        "80cd9bbc861c42bcb6f20481ef1ddfe3": {
          "model_module": "@jupyter-widgets/controls",
          "model_module_version": "1.5.0",
          "model_name": "ProgressStyleModel",
          "state": {
            "_model_module": "@jupyter-widgets/controls",
            "_model_module_version": "1.5.0",
            "_model_name": "ProgressStyleModel",
            "_view_count": null,
            "_view_module": "@jupyter-widgets/base",
            "_view_module_version": "1.2.0",
            "_view_name": "StyleView",
            "bar_color": null,
            "description_width": ""
          }
        },
        "82a7fa3e80b24c479389e5891c26fa56": {
          "model_module": "@jupyter-widgets/base",
          "model_module_version": "1.2.0",
          "model_name": "LayoutModel",
          "state": {
            "_model_module": "@jupyter-widgets/base",
            "_model_module_version": "1.2.0",
            "_model_name": "LayoutModel",
            "_view_count": null,
            "_view_module": "@jupyter-widgets/base",
            "_view_module_version": "1.2.0",
            "_view_name": "LayoutView",
            "align_content": null,
            "align_items": null,
            "align_self": null,
            "border": null,
            "bottom": null,
            "display": null,
            "flex": null,
            "flex_flow": null,
            "grid_area": null,
            "grid_auto_columns": null,
            "grid_auto_flow": null,
            "grid_auto_rows": null,
            "grid_column": null,
            "grid_gap": null,
            "grid_row": null,
            "grid_template_areas": null,
            "grid_template_columns": null,
            "grid_template_rows": null,
            "height": null,
            "justify_content": null,
            "justify_items": null,
            "left": null,
            "margin": null,
            "max_height": null,
            "max_width": null,
            "min_height": null,
            "min_width": null,
            "object_fit": null,
            "object_position": null,
            "order": null,
            "overflow": null,
            "overflow_x": null,
            "overflow_y": null,
            "padding": null,
            "right": null,
            "top": null,
            "visibility": null,
            "width": null
          }
        },
        "82fb3a3b621a43fdaebfcad850ccba4d": {
          "model_module": "@jupyter-widgets/base",
          "model_module_version": "1.2.0",
          "model_name": "LayoutModel",
          "state": {
            "_model_module": "@jupyter-widgets/base",
            "_model_module_version": "1.2.0",
            "_model_name": "LayoutModel",
            "_view_count": null,
            "_view_module": "@jupyter-widgets/base",
            "_view_module_version": "1.2.0",
            "_view_name": "LayoutView",
            "align_content": null,
            "align_items": null,
            "align_self": null,
            "border": null,
            "bottom": null,
            "display": null,
            "flex": null,
            "flex_flow": null,
            "grid_area": null,
            "grid_auto_columns": null,
            "grid_auto_flow": null,
            "grid_auto_rows": null,
            "grid_column": null,
            "grid_gap": null,
            "grid_row": null,
            "grid_template_areas": null,
            "grid_template_columns": null,
            "grid_template_rows": null,
            "height": null,
            "justify_content": null,
            "justify_items": null,
            "left": null,
            "margin": null,
            "max_height": null,
            "max_width": null,
            "min_height": null,
            "min_width": null,
            "object_fit": null,
            "object_position": null,
            "order": null,
            "overflow": null,
            "overflow_x": null,
            "overflow_y": null,
            "padding": null,
            "right": null,
            "top": null,
            "visibility": null,
            "width": null
          }
        },
        "8e0bff79a5714eeab51770bc36db4f29": {
          "model_module": "@jupyter-widgets/controls",
          "model_module_version": "1.5.0",
          "model_name": "HBoxModel",
          "state": {
            "_dom_classes": [],
            "_model_module": "@jupyter-widgets/controls",
            "_model_module_version": "1.5.0",
            "_model_name": "HBoxModel",
            "_view_count": null,
            "_view_module": "@jupyter-widgets/controls",
            "_view_module_version": "1.5.0",
            "_view_name": "HBoxView",
            "box_style": "",
            "children": [
              "IPY_MODEL_d232729e6a124131bc9932ba8355a252",
              "IPY_MODEL_f02faa3c6dd4403b9c10da3e997a1ead",
              "IPY_MODEL_80712d0c8afa462b9cdb04bb06089d2c"
            ],
            "layout": "IPY_MODEL_b0c08824d8764d5a8772485c32b42714"
          }
        },
        "ac2ece49e9e042808a3cdbd30ede1e86": {
          "model_module": "@jupyter-widgets/base",
          "model_module_version": "1.2.0",
          "model_name": "LayoutModel",
          "state": {
            "_model_module": "@jupyter-widgets/base",
            "_model_module_version": "1.2.0",
            "_model_name": "LayoutModel",
            "_view_count": null,
            "_view_module": "@jupyter-widgets/base",
            "_view_module_version": "1.2.0",
            "_view_name": "LayoutView",
            "align_content": null,
            "align_items": null,
            "align_self": null,
            "border": null,
            "bottom": null,
            "display": null,
            "flex": null,
            "flex_flow": null,
            "grid_area": null,
            "grid_auto_columns": null,
            "grid_auto_flow": null,
            "grid_auto_rows": null,
            "grid_column": null,
            "grid_gap": null,
            "grid_row": null,
            "grid_template_areas": null,
            "grid_template_columns": null,
            "grid_template_rows": null,
            "height": null,
            "justify_content": null,
            "justify_items": null,
            "left": null,
            "margin": null,
            "max_height": null,
            "max_width": null,
            "min_height": null,
            "min_width": null,
            "object_fit": null,
            "object_position": null,
            "order": null,
            "overflow": null,
            "overflow_x": null,
            "overflow_y": null,
            "padding": null,
            "right": null,
            "top": null,
            "visibility": null,
            "width": null
          }
        },
        "aec662c496f3475cbe465287912ff558": {
          "model_module": "@jupyter-widgets/base",
          "model_module_version": "1.2.0",
          "model_name": "LayoutModel",
          "state": {
            "_model_module": "@jupyter-widgets/base",
            "_model_module_version": "1.2.0",
            "_model_name": "LayoutModel",
            "_view_count": null,
            "_view_module": "@jupyter-widgets/base",
            "_view_module_version": "1.2.0",
            "_view_name": "LayoutView",
            "align_content": null,
            "align_items": null,
            "align_self": null,
            "border": null,
            "bottom": null,
            "display": null,
            "flex": null,
            "flex_flow": null,
            "grid_area": null,
            "grid_auto_columns": null,
            "grid_auto_flow": null,
            "grid_auto_rows": null,
            "grid_column": null,
            "grid_gap": null,
            "grid_row": null,
            "grid_template_areas": null,
            "grid_template_columns": null,
            "grid_template_rows": null,
            "height": null,
            "justify_content": null,
            "justify_items": null,
            "left": null,
            "margin": null,
            "max_height": null,
            "max_width": null,
            "min_height": null,
            "min_width": null,
            "object_fit": null,
            "object_position": null,
            "order": null,
            "overflow": null,
            "overflow_x": null,
            "overflow_y": null,
            "padding": null,
            "right": null,
            "top": null,
            "visibility": null,
            "width": null
          }
        },
        "af13837643b548bcb8e11afbe90db7c3": {
          "model_module": "@jupyter-widgets/base",
          "model_module_version": "1.2.0",
          "model_name": "LayoutModel",
          "state": {
            "_model_module": "@jupyter-widgets/base",
            "_model_module_version": "1.2.0",
            "_model_name": "LayoutModel",
            "_view_count": null,
            "_view_module": "@jupyter-widgets/base",
            "_view_module_version": "1.2.0",
            "_view_name": "LayoutView",
            "align_content": null,
            "align_items": null,
            "align_self": null,
            "border": null,
            "bottom": null,
            "display": null,
            "flex": null,
            "flex_flow": null,
            "grid_area": null,
            "grid_auto_columns": null,
            "grid_auto_flow": null,
            "grid_auto_rows": null,
            "grid_column": null,
            "grid_gap": null,
            "grid_row": null,
            "grid_template_areas": null,
            "grid_template_columns": null,
            "grid_template_rows": null,
            "height": null,
            "justify_content": null,
            "justify_items": null,
            "left": null,
            "margin": null,
            "max_height": null,
            "max_width": null,
            "min_height": null,
            "min_width": null,
            "object_fit": null,
            "object_position": null,
            "order": null,
            "overflow": null,
            "overflow_x": null,
            "overflow_y": null,
            "padding": null,
            "right": null,
            "top": null,
            "visibility": null,
            "width": null
          }
        },
        "b0c08824d8764d5a8772485c32b42714": {
          "model_module": "@jupyter-widgets/base",
          "model_module_version": "1.2.0",
          "model_name": "LayoutModel",
          "state": {
            "_model_module": "@jupyter-widgets/base",
            "_model_module_version": "1.2.0",
            "_model_name": "LayoutModel",
            "_view_count": null,
            "_view_module": "@jupyter-widgets/base",
            "_view_module_version": "1.2.0",
            "_view_name": "LayoutView",
            "align_content": null,
            "align_items": null,
            "align_self": null,
            "border": null,
            "bottom": null,
            "display": null,
            "flex": null,
            "flex_flow": null,
            "grid_area": null,
            "grid_auto_columns": null,
            "grid_auto_flow": null,
            "grid_auto_rows": null,
            "grid_column": null,
            "grid_gap": null,
            "grid_row": null,
            "grid_template_areas": null,
            "grid_template_columns": null,
            "grid_template_rows": null,
            "height": null,
            "justify_content": null,
            "justify_items": null,
            "left": null,
            "margin": null,
            "max_height": null,
            "max_width": null,
            "min_height": null,
            "min_width": null,
            "object_fit": null,
            "object_position": null,
            "order": null,
            "overflow": null,
            "overflow_x": null,
            "overflow_y": null,
            "padding": null,
            "right": null,
            "top": null,
            "visibility": null,
            "width": null
          }
        },
        "b6cad8bb6090475a87c0606b0e1adc41": {
          "model_module": "@jupyter-widgets/controls",
          "model_module_version": "1.5.0",
          "model_name": "ProgressStyleModel",
          "state": {
            "_model_module": "@jupyter-widgets/controls",
            "_model_module_version": "1.5.0",
            "_model_name": "ProgressStyleModel",
            "_view_count": null,
            "_view_module": "@jupyter-widgets/base",
            "_view_module_version": "1.2.0",
            "_view_name": "StyleView",
            "bar_color": null,
            "description_width": ""
          }
        },
        "c0c98bc63be9482488a5a32e01bd9c49": {
          "model_module": "@jupyter-widgets/controls",
          "model_module_version": "1.5.0",
          "model_name": "ProgressStyleModel",
          "state": {
            "_model_module": "@jupyter-widgets/controls",
            "_model_module_version": "1.5.0",
            "_model_name": "ProgressStyleModel",
            "_view_count": null,
            "_view_module": "@jupyter-widgets/base",
            "_view_module_version": "1.2.0",
            "_view_name": "StyleView",
            "bar_color": null,
            "description_width": ""
          }
        },
        "d123cb0697e34f98820bbc12436080c2": {
          "model_module": "@jupyter-widgets/controls",
          "model_module_version": "1.5.0",
          "model_name": "HBoxModel",
          "state": {
            "_dom_classes": [],
            "_model_module": "@jupyter-widgets/controls",
            "_model_module_version": "1.5.0",
            "_model_name": "HBoxModel",
            "_view_count": null,
            "_view_module": "@jupyter-widgets/controls",
            "_view_module_version": "1.5.0",
            "_view_name": "HBoxView",
            "box_style": "",
            "children": [
              "IPY_MODEL_0d85cd0ac383496d927648b71662bf3c",
              "IPY_MODEL_630a43d2ff9c4700b5d480cfb38529a2",
              "IPY_MODEL_f021b33099e046cebe7da8121ea40016"
            ],
            "layout": "IPY_MODEL_af13837643b548bcb8e11afbe90db7c3"
          }
        },
        "d232729e6a124131bc9932ba8355a252": {
          "model_module": "@jupyter-widgets/controls",
          "model_module_version": "1.5.0",
          "model_name": "HTMLModel",
          "state": {
            "_dom_classes": [],
            "_model_module": "@jupyter-widgets/controls",
            "_model_module_version": "1.5.0",
            "_model_name": "HTMLModel",
            "_view_count": null,
            "_view_module": "@jupyter-widgets/controls",
            "_view_module_version": "1.5.0",
            "_view_name": "HTMLView",
            "description": "",
            "description_tooltip": null,
            "layout": "IPY_MODEL_ac2ece49e9e042808a3cdbd30ede1e86",
            "placeholder": "​",
            "style": "IPY_MODEL_fcf889dfa3294b3a866f0dfce3a3523e",
            "value": "Downloading (…)solve/main/vocab.txt: 100%"
          }
        },
        "d7e4f45b10d9455c8bf99fb9c75b788a": {
          "model_module": "@jupyter-widgets/base",
          "model_module_version": "1.2.0",
          "model_name": "LayoutModel",
          "state": {
            "_model_module": "@jupyter-widgets/base",
            "_model_module_version": "1.2.0",
            "_model_name": "LayoutModel",
            "_view_count": null,
            "_view_module": "@jupyter-widgets/base",
            "_view_module_version": "1.2.0",
            "_view_name": "LayoutView",
            "align_content": null,
            "align_items": null,
            "align_self": null,
            "border": null,
            "bottom": null,
            "display": null,
            "flex": null,
            "flex_flow": null,
            "grid_area": null,
            "grid_auto_columns": null,
            "grid_auto_flow": null,
            "grid_auto_rows": null,
            "grid_column": null,
            "grid_gap": null,
            "grid_row": null,
            "grid_template_areas": null,
            "grid_template_columns": null,
            "grid_template_rows": null,
            "height": null,
            "justify_content": null,
            "justify_items": null,
            "left": null,
            "margin": null,
            "max_height": null,
            "max_width": null,
            "min_height": null,
            "min_width": null,
            "object_fit": null,
            "object_position": null,
            "order": null,
            "overflow": null,
            "overflow_x": null,
            "overflow_y": null,
            "padding": null,
            "right": null,
            "top": null,
            "visibility": null,
            "width": null
          }
        },
        "ddbe8f756f4e429883aaf3e7cb02483d": {
          "model_module": "@jupyter-widgets/base",
          "model_module_version": "1.2.0",
          "model_name": "LayoutModel",
          "state": {
            "_model_module": "@jupyter-widgets/base",
            "_model_module_version": "1.2.0",
            "_model_name": "LayoutModel",
            "_view_count": null,
            "_view_module": "@jupyter-widgets/base",
            "_view_module_version": "1.2.0",
            "_view_name": "LayoutView",
            "align_content": null,
            "align_items": null,
            "align_self": null,
            "border": null,
            "bottom": null,
            "display": null,
            "flex": null,
            "flex_flow": null,
            "grid_area": null,
            "grid_auto_columns": null,
            "grid_auto_flow": null,
            "grid_auto_rows": null,
            "grid_column": null,
            "grid_gap": null,
            "grid_row": null,
            "grid_template_areas": null,
            "grid_template_columns": null,
            "grid_template_rows": null,
            "height": null,
            "justify_content": null,
            "justify_items": null,
            "left": null,
            "margin": null,
            "max_height": null,
            "max_width": null,
            "min_height": null,
            "min_width": null,
            "object_fit": null,
            "object_position": null,
            "order": null,
            "overflow": null,
            "overflow_x": null,
            "overflow_y": null,
            "padding": null,
            "right": null,
            "top": null,
            "visibility": null,
            "width": null
          }
        },
        "e525496642e64c32b76ddf81a761722e": {
          "model_module": "@jupyter-widgets/controls",
          "model_module_version": "1.5.0",
          "model_name": "DescriptionStyleModel",
          "state": {
            "_model_module": "@jupyter-widgets/controls",
            "_model_module_version": "1.5.0",
            "_model_name": "DescriptionStyleModel",
            "_view_count": null,
            "_view_module": "@jupyter-widgets/base",
            "_view_module_version": "1.2.0",
            "_view_name": "StyleView",
            "description_width": ""
          }
        },
        "e69ff266dc5747c998b7f823076edda5": {
          "model_module": "@jupyter-widgets/controls",
          "model_module_version": "1.5.0",
          "model_name": "DescriptionStyleModel",
          "state": {
            "_model_module": "@jupyter-widgets/controls",
            "_model_module_version": "1.5.0",
            "_model_name": "DescriptionStyleModel",
            "_view_count": null,
            "_view_module": "@jupyter-widgets/base",
            "_view_module_version": "1.2.0",
            "_view_name": "StyleView",
            "description_width": ""
          }
        },
        "f021b33099e046cebe7da8121ea40016": {
          "model_module": "@jupyter-widgets/controls",
          "model_module_version": "1.5.0",
          "model_name": "HTMLModel",
          "state": {
            "_dom_classes": [],
            "_model_module": "@jupyter-widgets/controls",
            "_model_module_version": "1.5.0",
            "_model_name": "HTMLModel",
            "_view_count": null,
            "_view_module": "@jupyter-widgets/controls",
            "_view_module_version": "1.5.0",
            "_view_name": "HTMLView",
            "description": "",
            "description_tooltip": null,
            "layout": "IPY_MODEL_1bcbc844482d4234b08f2ea9335f8bb2",
            "placeholder": "​",
            "style": "IPY_MODEL_7f2c8175444f49b4bfcfde2f66809c99",
            "value": " 570/570 [00:00&lt;00:00, 13.4kB/s]"
          }
        },
        "f02faa3c6dd4403b9c10da3e997a1ead": {
          "model_module": "@jupyter-widgets/controls",
          "model_module_version": "1.5.0",
          "model_name": "FloatProgressModel",
          "state": {
            "_dom_classes": [],
            "_model_module": "@jupyter-widgets/controls",
            "_model_module_version": "1.5.0",
            "_model_name": "FloatProgressModel",
            "_view_count": null,
            "_view_module": "@jupyter-widgets/controls",
            "_view_module_version": "1.5.0",
            "_view_name": "ProgressView",
            "bar_style": "success",
            "description": "",
            "description_tooltip": null,
            "layout": "IPY_MODEL_6f9a7754ddb34da4b00321a172ec9f3c",
            "max": 231508,
            "min": 0,
            "orientation": "horizontal",
            "style": "IPY_MODEL_6cadc0cead4d47c0bb24445f992cc233",
            "value": 231508
          }
        },
        "f5fe82e417414370bb7cdbb9c3432c76": {
          "model_module": "@jupyter-widgets/controls",
          "model_module_version": "1.5.0",
          "model_name": "FloatProgressModel",
          "state": {
            "_dom_classes": [],
            "_model_module": "@jupyter-widgets/controls",
            "_model_module_version": "1.5.0",
            "_model_name": "FloatProgressModel",
            "_view_count": null,
            "_view_module": "@jupyter-widgets/controls",
            "_view_module_version": "1.5.0",
            "_view_name": "ProgressView",
            "bar_style": "success",
            "description": "",
            "description_tooltip": null,
            "layout": "IPY_MODEL_7666dd31418e4413a8ea3cc262bd3cd9",
            "max": 466062,
            "min": 0,
            "orientation": "horizontal",
            "style": "IPY_MODEL_b6cad8bb6090475a87c0606b0e1adc41",
            "value": 466062
          }
        },
        "fcf889dfa3294b3a866f0dfce3a3523e": {
          "model_module": "@jupyter-widgets/controls",
          "model_module_version": "1.5.0",
          "model_name": "DescriptionStyleModel",
          "state": {
            "_model_module": "@jupyter-widgets/controls",
            "_model_module_version": "1.5.0",
            "_model_name": "DescriptionStyleModel",
            "_view_count": null,
            "_view_module": "@jupyter-widgets/base",
            "_view_module_version": "1.2.0",
            "_view_name": "StyleView",
            "description_width": ""
          }
        }
      }
    }
  },
  "nbformat": 4,
  "nbformat_minor": 0
}

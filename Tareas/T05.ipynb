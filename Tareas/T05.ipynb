{
  "nbformat": 4,
  "nbformat_minor": 0,
  "metadata": {
    "colab": {
      "provenance": []
    },
    "kernelspec": {
      "name": "python3",
      "display_name": "Python 3"
    },
    "language_info": {
      "name": "python"
    }
  },
  "cells": [
    {
      "cell_type": "markdown",
      "source": [
        "### Tarea Corta 05\n",
        "## Fabian Vives"
      ],
      "metadata": {
        "id": "u3sDpkD7R8-s"
      }
    },
    {
      "cell_type": "code",
      "source": [
        "import torch as torch\n",
        "import numpy as np\n",
        "from matplotlib import pyplot as plt\n",
        "from mpl_toolkits.mplot3d import Axes3D\n",
        "from matplotlib import cm"
      ],
      "metadata": {
        "id": "MW1Mdry66gj5"
      },
      "execution_count": 199,
      "outputs": []
    },
    {
      "cell_type": "markdown",
      "source": [
        "### Pregunta 1"
      ],
      "metadata": {
        "id": "aQcyCatd0kld"
      }
    },
    {
      "cell_type": "code",
      "source": [
        "def verificar_propiedad_transpuesta(A, B):\n",
        "    # Verificar que las matrices tienen la misma forma\n",
        "    if A.shape != B.shape:\n",
        "        return False\n",
        "    \n",
        "    # Calcular (A+B)^T\n",
        "    suma = A + B\n",
        "    suma_T = suma.T\n",
        "    \n",
        "    # Calcular A^T y B^T\n",
        "    A_T = A.T\n",
        "    B_T = B.T\n",
        "    \n",
        "    # Verificar que se cumple la propiedad\n",
        "    return torch.allclose(suma_T, A_T + B_T)"
      ],
      "metadata": {
        "id": "Sro3TWJFxMsk"
      },
      "execution_count": 200,
      "outputs": []
    },
    {
      "cell_type": "code",
      "source": [
        "A = torch.rand((4, 3))\n",
        "print(A)\n",
        "TA= torch.transpose(A,0,1)\n",
        "print(\"Transpose A:\", TA)\n",
        "B = torch.rand((3, 4))\n",
        "print(B)\n",
        "TB= torch.transpose(B,0,1)\n",
        "print(\"Transpose B:\", TB)\n",
        "print(verificar_propiedad_transpuesta(A, B))"
      ],
      "metadata": {
        "colab": {
          "base_uri": "https://localhost:8080/"
        },
        "id": "uHb30Cjx1a6f",
        "outputId": "888cc67d-6deb-4696-b14c-82c5b56d6ad7"
      },
      "execution_count": 201,
      "outputs": [
        {
          "output_type": "stream",
          "name": "stdout",
          "text": [
            "tensor([[0.4986, 0.2578, 0.9991],\n",
            "        [0.9883, 0.1229, 0.0947],\n",
            "        [0.1210, 0.4976, 0.3725],\n",
            "        [0.1727, 0.3207, 0.5945]])\n",
            "Transpose A: tensor([[0.4986, 0.9883, 0.1210, 0.1727],\n",
            "        [0.2578, 0.1229, 0.4976, 0.3207],\n",
            "        [0.9991, 0.0947, 0.3725, 0.5945]])\n",
            "tensor([[0.2388, 0.6108, 0.3853, 0.2577],\n",
            "        [0.5687, 0.9111, 0.1620, 0.5232],\n",
            "        [0.3156, 0.9907, 0.0256, 0.0207]])\n",
            "Transpose B: tensor([[0.2388, 0.5687, 0.3156],\n",
            "        [0.6108, 0.9111, 0.9907],\n",
            "        [0.3853, 0.1620, 0.0256],\n",
            "        [0.2577, 0.5232, 0.0207]])\n",
            "False\n"
          ]
        }
      ]
    },
    {
      "cell_type": "markdown",
      "source": [
        "### Pregunta 2"
      ],
      "metadata": {
        "id": "7rrzpK272jIh"
      }
    },
    {
      "cell_type": "code",
      "source": [
        "A = torch.tensor([ [1. , 2. , 3. , 4. , 5.], \n",
        "                   [0 , 2. , 2., 0 , 0 ], \n",
        "                   [1. , 0 , 3., 0 ,0 ],\n",
        "                   [0 , 1. , 0, 4. ,0 ],\n",
        "                   [1. , 0 , 2., 0 , 6. ]])\n",
        "print(A)\n",
        "# calcular el rango de A\n",
        "print(\"Rango Completo\", torch.linalg.matrix_rank(A))"
      ],
      "metadata": {
        "colab": {
          "base_uri": "https://localhost:8080/"
        },
        "id": "1pVFLk9k8FEx",
        "outputId": "65905f8b-a818-4eaa-a215-249850ebb238"
      },
      "execution_count": 202,
      "outputs": [
        {
          "output_type": "stream",
          "name": "stdout",
          "text": [
            "tensor([[1., 2., 3., 4., 5.],\n",
            "        [0., 2., 2., 0., 0.],\n",
            "        [1., 0., 3., 0., 0.],\n",
            "        [0., 1., 0., 4., 0.],\n",
            "        [1., 0., 2., 0., 6.]])\n",
            "Rango Completo tensor(5)\n"
          ]
        }
      ]
    },
    {
      "cell_type": "code",
      "source": [
        "A = torch.tensor([ [1. , 2. , 3. , 4. , 5.], \n",
        "                   [2. , 4. , 6., 8. , 10. ], \n",
        "                   [1. , 0 , 3., 0 ,0 ],\n",
        "                   [3. , 0 , 9., 0 ,0 ],\n",
        "                   [1. , 0 , 2., 0 , 6. ]])\n",
        "\n",
        "print(\"Rango 3\")\n",
        "print(A)\n",
        "# calcular el rango de A\n",
        "print(\"Rango de la matriz = \", torch.linalg.matrix_rank(A))\n",
        "\n",
        "B = torch.tensor([ [1. , 2. , 3. , 4. , 5.], \n",
        "                   [2. , 4. , 6., 8. , 10. ], \n",
        "                   [1. , 0 , 3., 0 ,0 ],\n",
        "                   [3. , 0 , 9., 0 ,0 ],\n",
        "                   [2. , 0 , 6., 0 , 0 ]])\n",
        "\n",
        "print(\"Rango 2\")\n",
        "print(B)\n",
        "# calcular el rango de B\n",
        "print(\"Rango de la matriz = \", torch.linalg.matrix_rank(B))"
      ],
      "metadata": {
        "colab": {
          "base_uri": "https://localhost:8080/"
        },
        "id": "oApzi4yv-fGs",
        "outputId": "08e5449b-bcc7-4bce-9080-6b305b6b78f8"
      },
      "execution_count": 203,
      "outputs": [
        {
          "output_type": "stream",
          "name": "stdout",
          "text": [
            "Rango 3\n",
            "tensor([[ 1.,  2.,  3.,  4.,  5.],\n",
            "        [ 2.,  4.,  6.,  8., 10.],\n",
            "        [ 1.,  0.,  3.,  0.,  0.],\n",
            "        [ 3.,  0.,  9.,  0.,  0.],\n",
            "        [ 1.,  0.,  2.,  0.,  6.]])\n",
            "Rango de la matriz =  tensor(3)\n",
            "Rango 2\n",
            "tensor([[ 1.,  2.,  3.,  4.,  5.],\n",
            "        [ 2.,  4.,  6.,  8., 10.],\n",
            "        [ 1.,  0.,  3.,  0.,  0.],\n",
            "        [ 3.,  0.,  9.,  0.,  0.],\n",
            "        [ 2.,  0.,  6.,  0.,  0.]])\n",
            "Rango de la matriz =  tensor(2)\n"
          ]
        }
      ]
    },
    {
      "cell_type": "markdown",
      "source": [
        "### Pregunta 3"
      ],
      "metadata": {
        "id": "oOVqOOf--4m0"
      }
    },
    {
      "cell_type": "markdown",
      "source": [
        "Propiedad $\\left(A^{T}A\\right)^{+}A^{T}=A^{+}$"
      ],
      "metadata": {
        "id": "OUw5ewiV_LPA"
      }
    },
    {
      "cell_type": "code",
      "source": [
        "def verificar_inversa(A):\n",
        "    print(A)\n",
        "\n",
        "    \"\"\"\n",
        "    Verifica la propiedad inversa de una matriz usando la siguiente ecuación:\n",
        "    (A^T * A)^-1 * A^T = A^-1\n",
        "    Si la matriz no es invertible, la función devuelve False.\n",
        "    \"\"\"\n",
        "    try:\n",
        "        A_inv = np.linalg.inv(A)\n",
        "        print(\"Inversa de A:\\n\", A_inv)\n",
        "    except np.linalg.LinAlgError:\n",
        "        print(\"Matriz A no invertible\")\n",
        "    \n",
        "    # Calcula lado izquierdo\n",
        "    AT = torch.transpose(A,0,1)\n",
        "    print(\"Matriz transpuesta\", AT )\n",
        "    AM=torch.mm(AT,A)\n",
        "    print(\"Matriz multiplicada por su transpuesta\", AM)\n",
        "    AMP = torch.pinverse(AM)\n",
        "    print(\"Matriz pseudoinversa de la anterior\", AMP)\n",
        "    left = torch.mm(AMP,AT)\n",
        "    print (\"Lado izq\",left)\n",
        "    # Calcula lado derecho\n",
        "    right = torch.pinverse(A) \n",
        "    print (\"Lado der\",right)\n",
        "    \n",
        "    #compare matriz \n",
        "    is_equal = torch.allclose( left, right,  atol=0.1)\n",
        "    \n",
        "    print(\"Son iguales los lados de la ecuación?\\n\", is_equal)\n",
        "    return is_equal\n",
        "\n",
        "\n",
        "# Pseudo inversa de una matriz singular\n",
        "\n",
        "print(\"Pseudo inversa\")\n",
        "A = torch.tensor([ [1. , 2. , 3. , 4. , 5.], \n",
        "                   [0 , 2. , 2., 0 , 0 ], \n",
        "                   [1. , 0 , 3., 0 ,0 ],\n",
        "                   [0 , 1. , 0, 4. ,0 ],\n",
        "                   [1. , 0 , 2., 0 , 6. ]])\n",
        "\n",
        "verificar_inversa(A)\n",
        "\n",
        "print(\"Pseudo inversa no invertible\")\n",
        "B = torch.tensor([ [1. , 2. ], [3. , 4. ] , [5. , 6.] ] )\n",
        "\n",
        "verificar_inversa(B)"
      ],
      "metadata": {
        "colab": {
          "base_uri": "https://localhost:8080/"
        },
        "id": "FZlB_vAs_QzF",
        "outputId": "350a5df2-6488-4969-95ff-808dd8c11a7c"
      },
      "execution_count": 204,
      "outputs": [
        {
          "output_type": "stream",
          "name": "stdout",
          "text": [
            "Pseudo inversa\n",
            "tensor([[1., 2., 3., 4., 5.],\n",
            "        [0., 2., 2., 0., 0.],\n",
            "        [1., 0., 3., 0., 0.],\n",
            "        [0., 1., 0., 4., 0.],\n",
            "        [1., 0., 2., 0., 6.]])\n",
            "Inversa de A:\n",
            " [[ 18.     -9.     -2.    -18.    -15.   ]\n",
            " [  6.     -2.5    -1.     -6.     -5.   ]\n",
            " [ -6.      3.      1.      6.      5.   ]\n",
            " [ -1.5     0.625   0.25    1.75    1.25 ]\n",
            " [ -1.      0.5     0.      1.      1.   ]]\n",
            "Matriz transpuesta tensor([[1., 0., 1., 0., 1.],\n",
            "        [2., 2., 0., 1., 0.],\n",
            "        [3., 2., 3., 0., 2.],\n",
            "        [4., 0., 0., 4., 0.],\n",
            "        [5., 0., 0., 0., 6.]])\n",
            "Matriz multiplicada por su transpuesta tensor([[ 3.,  2.,  8.,  4., 11.],\n",
            "        [ 2.,  9., 10., 12., 10.],\n",
            "        [ 8., 10., 26., 12., 27.],\n",
            "        [ 4., 12., 12., 32., 20.],\n",
            "        [11., 10., 27., 20., 61.]])\n",
            "Matriz pseudoinversa de la anterior tensor([[ 958.7859,  315.7592, -320.2628,  -83.4435,  -55.5455],\n",
            "        [ 315.7589,  104.3354, -105.5866,  -27.5851,  -18.2650],\n",
            "        [-320.2625, -105.5866,  107.0878,   27.8979,   18.5152],\n",
            "        [ -83.4435,  -27.5851,   27.8979,    7.3341,    4.8165],\n",
            "        [ -55.5455,  -18.2650,   18.5152,    4.8165,    3.2526]])\n",
            "Lado izq tensor([[ 1.8015e+01, -9.0070e+00, -2.0023e+00, -1.8015e+01, -1.5012e+01],\n",
            "        [ 6.0048e+00, -2.5023e+00, -1.0008e+00, -6.0049e+00, -5.0041e+00],\n",
            "        [-6.0049e+00,  3.0024e+00,  1.0008e+00,  6.0050e+00,  5.0041e+00],\n",
            "        [-1.5013e+00,  6.2561e-01,  2.5021e-01,  1.7513e+00,  1.2511e+00],\n",
            "        [-1.0008e+00,  5.0041e-01,  1.3542e-04,  1.0009e+00,  1.0007e+00]])\n",
            "Lado der tensor([[ 1.8000e+01, -8.9999e+00, -2.0000e+00, -1.8000e+01, -1.5000e+01],\n",
            "        [ 6.0000e+00, -2.5000e+00, -9.9999e-01, -6.0000e+00, -5.0000e+00],\n",
            "        [-5.9999e+00,  3.0000e+00,  9.9999e-01,  5.9999e+00,  5.0000e+00],\n",
            "        [-1.5000e+00,  6.2499e-01,  2.5000e-01,  1.7500e+00,  1.2500e+00],\n",
            "        [-9.9999e-01,  4.9999e-01, -1.8606e-06,  9.9999e-01,  9.9999e-01]])\n",
            "Son iguales los lados de la ecuación?\n",
            " True\n",
            "Pseudo inversa no invertible\n",
            "tensor([[1., 2.],\n",
            "        [3., 4.],\n",
            "        [5., 6.]])\n",
            "Matriz A no invertible\n",
            "Matriz transpuesta tensor([[1., 3., 5.],\n",
            "        [2., 4., 6.]])\n",
            "Matriz multiplicada por su transpuesta tensor([[35., 44.],\n",
            "        [44., 56.]])\n",
            "Matriz pseudoinversa de la anterior tensor([[ 2.3334, -1.8334],\n",
            "        [-1.8334,  1.4584]])\n",
            "Lado izq tensor([[-1.3333, -0.3333,  0.6667],\n",
            "        [ 1.0833,  0.3333, -0.4167]])\n",
            "Lado der tensor([[-1.3333, -0.3333,  0.6667],\n",
            "        [ 1.0833,  0.3333, -0.4167]])\n",
            "Son iguales los lados de la ecuación?\n",
            " True\n"
          ]
        },
        {
          "output_type": "execute_result",
          "data": {
            "text/plain": [
              "True"
            ]
          },
          "metadata": {},
          "execution_count": 204
        }
      ]
    },
    {
      "cell_type": "markdown",
      "source": [
        "### Pregunta 4"
      ],
      "metadata": {
        "id": "Dztw-VLiHx2m"
      }
    },
    {
      "cell_type": "code",
      "source": [
        "def es_simetrica_o_antisimetrica(A):\n",
        "    \n",
        "    # Verifica si una matriz es simétrica, antisimetrica o ninguna de las anteriores\n",
        "\n",
        "    print(A)\n",
        "    \n",
        "    if (A.shape[0] == A.shape[1]):\n",
        "        print(\"Matriz cuadrada\")\n",
        "    else:\n",
        "        print(\"Matriz no cuadrada\")\n",
        "        return\n",
        "    \n",
        "    print(\"Transpuesta de matriz inicial\")\n",
        "    T = torch.transpose(A,0,1)\n",
        "    print( T )\n",
        "    \n",
        "    if torch.equal( A, T):\n",
        "        print (\"Matriz es simetrica\")\n",
        "    elif torch.equal( A, -T):    \n",
        "        print (\"Matriz es antisimetrica\")\n",
        "    else:\n",
        "        print (\"Matriz no es antisimetrica ni simetrica\")\n",
        "\n",
        "\n",
        "A = torch.tensor([ [1. , 2. , 3. , 4. , 5.], \n",
        "                   [0 , 2. , 2., 0 , 0 ], \n",
        "                   [1. , 0 , 3., 0 ,0 ],\n",
        "                   [0 , 1. , 0, 4. ,0 ],\n",
        "                   [1. , 0 , 2., 0 , 6. ]])\n",
        "\n",
        "es_simetrica_o_antisimetrica(A)\n",
        "\n",
        "B = torch.tensor([ [1. , 2. , 3. , 4. ], \n",
        "                   [0 , 2. , 2., 0  ], \n",
        "                   [1. , 0 , 3., 0  ],\n",
        "                   [0 , 1. , 0, 4. ],\n",
        "                   [1. , 0 , 2., 0  ]])\n",
        "\n",
        "es_simetrica_o_antisimetrica(B)\n",
        "\n",
        "C =  torch.tensor([ [0 , -5. ], [5., 0]])\n",
        "\n",
        "es_simetrica_o_antisimetrica(C)\n",
        "\n",
        "D =  torch.tensor([ [0 , 1 ], [1, 0]])\n",
        "\n",
        "es_simetrica_o_antisimetrica(D)"
      ],
      "metadata": {
        "colab": {
          "base_uri": "https://localhost:8080/"
        },
        "id": "Z_9seKH3H-fq",
        "outputId": "6c4a442b-5732-4f26-fa6d-444f11512ed9"
      },
      "execution_count": 205,
      "outputs": [
        {
          "output_type": "stream",
          "name": "stdout",
          "text": [
            "tensor([[1., 2., 3., 4., 5.],\n",
            "        [0., 2., 2., 0., 0.],\n",
            "        [1., 0., 3., 0., 0.],\n",
            "        [0., 1., 0., 4., 0.],\n",
            "        [1., 0., 2., 0., 6.]])\n",
            "Matriz cuadrada\n",
            "Transpuesta de matriz inicial\n",
            "tensor([[1., 0., 1., 0., 1.],\n",
            "        [2., 2., 0., 1., 0.],\n",
            "        [3., 2., 3., 0., 2.],\n",
            "        [4., 0., 0., 4., 0.],\n",
            "        [5., 0., 0., 0., 6.]])\n",
            "Matriz no es antisimetrica ni simetrica\n",
            "tensor([[1., 2., 3., 4.],\n",
            "        [0., 2., 2., 0.],\n",
            "        [1., 0., 3., 0.],\n",
            "        [0., 1., 0., 4.],\n",
            "        [1., 0., 2., 0.]])\n",
            "Matriz no cuadrada\n",
            "tensor([[ 0., -5.],\n",
            "        [ 5.,  0.]])\n",
            "Matriz cuadrada\n",
            "Transpuesta de matriz inicial\n",
            "tensor([[ 0.,  5.],\n",
            "        [-5.,  0.]])\n",
            "Matriz es antisimetrica\n",
            "tensor([[0, 1],\n",
            "        [1, 0]])\n",
            "Matriz cuadrada\n",
            "Transpuesta de matriz inicial\n",
            "tensor([[0, 1],\n",
            "        [1, 0]])\n",
            "Matriz es simetrica\n"
          ]
        }
      ]
    },
    {
      "cell_type": "code",
      "source": [
        "def es_simetrica_o_antisimetrica(A):\n",
        "\n",
        "    #Verifica si una matriz es simétrica, antisimetrica o ninguna de las anteriores\n",
        "    \n",
        "    print( A )\n",
        "    \n",
        "    if (A.shape[0] == A.shape[1]):\n",
        "        print(\"Matriz cuadrada\")\n",
        "    else:\n",
        "        print(\"Matriz no cuadrada\")\n",
        "        return\n",
        "    \n",
        "    print(\"Transpuesta\")\n",
        "    T = torch.transpose(A,0,1)\n",
        "    print( T )\n",
        "    \n",
        "    if torch.equal( A, T):\n",
        "        print (\"Matriz es simetrica\")\n",
        "    elif torch.equal( A, -T):    \n",
        "        print (\"Matriz es antisimetrica\")\n",
        "    else:\n",
        "        print (\"Matriz no es antisimetrica ni simetrica\")\n",
        "\n",
        "\n",
        "A = torch.tensor([ [1. , 2. , 3. , 4. , 5.], \n",
        "                   [0 , 2. , 2., 0 , 0 ], \n",
        "                   [1. , 0 , 3., 0 ,0 ],\n",
        "                   [0 , 1. , 0, 4. ,0 ],\n",
        "                   [1. , 0 , 2., 0 , 6. ]])\n",
        "\n",
        "es_simetrica_o_antisimetrica(A+torch.transpose(A,0,1))\n",
        "\n",
        "es_simetrica_o_antisimetrica(A-torch.transpose(A,0,1))"
      ],
      "metadata": {
        "colab": {
          "base_uri": "https://localhost:8080/"
        },
        "id": "PWhtfpbvICZQ",
        "outputId": "b046ac0e-6707-4f01-a205-21c3647052ae"
      },
      "execution_count": 206,
      "outputs": [
        {
          "output_type": "stream",
          "name": "stdout",
          "text": [
            "tensor([[ 2.,  2.,  4.,  4.,  6.],\n",
            "        [ 2.,  4.,  2.,  1.,  0.],\n",
            "        [ 4.,  2.,  6.,  0.,  2.],\n",
            "        [ 4.,  1.,  0.,  8.,  0.],\n",
            "        [ 6.,  0.,  2.,  0., 12.]])\n",
            "Matriz cuadrada\n",
            "Transpuesta\n",
            "tensor([[ 2.,  2.,  4.,  4.,  6.],\n",
            "        [ 2.,  4.,  2.,  1.,  0.],\n",
            "        [ 4.,  2.,  6.,  0.,  2.],\n",
            "        [ 4.,  1.,  0.,  8.,  0.],\n",
            "        [ 6.,  0.,  2.,  0., 12.]])\n",
            "Matriz es simetrica\n",
            "tensor([[ 0.,  2.,  2.,  4.,  4.],\n",
            "        [-2.,  0.,  2., -1.,  0.],\n",
            "        [-2., -2.,  0.,  0., -2.],\n",
            "        [-4.,  1.,  0.,  0.,  0.],\n",
            "        [-4.,  0.,  2.,  0.,  0.]])\n",
            "Matriz cuadrada\n",
            "Transpuesta\n",
            "tensor([[ 0., -2., -2., -4., -4.],\n",
            "        [ 2.,  0., -2.,  1.,  0.],\n",
            "        [ 2.,  2.,  0.,  0.,  2.],\n",
            "        [ 4., -1.,  0.,  0.,  0.],\n",
            "        [ 4.,  0., -2.,  0.,  0.]])\n",
            "Matriz es antisimetrica\n"
          ]
        }
      ]
    }
  ]
}
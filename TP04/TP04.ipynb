{
  "nbformat": 4,
  "nbformat_minor": 0,
  "metadata": {
    "colab": {
      "provenance": []
    },
    "kernelspec": {
      "name": "python3",
      "display_name": "Python 3"
    },
    "language_info": {
      "name": "python"
    }
  },
  "cells": [
    {
      "cell_type": "markdown",
      "source": [
        "###Instituto Tecnológico de Costa Rica (ITCR)\n",
        "####Escuela de Computación\n",
        "####Curso: Inteligencia Artificia\n",
        "####Cuarta tarea programada 2023-I\n",
        "####Profesora: María Auxiliadora Mora\n",
        "####Estudiante: Fabian Vives - 2018319257"
      ],
      "metadata": {
        "id": "SwJddxg80JpL"
      }
    },
    {
      "cell_type": "markdown",
      "source": [
        "# Parte 1 - Definición y documentación de la investigación"
      ],
      "metadata": {
        "id": "8pWXjYCk0boh"
      }
    },
    {
      "cell_type": "markdown",
      "source": [
        "## Definicion del Proyecto"
      ],
      "metadata": {
        "id": "DtEznizL0hg0"
      }
    },
    {
      "cell_type": "markdown",
      "source": [
        "El proyecto tiene como objetivo llevar a cabo un análisis de la actividad delictiva en Costa Rica durante lo que transcurre en el año 2023. El propósito principal es examinar en profundidad los datos proporcionados por el Organismo de Investigación Judicial (OIJ) y realizar diferentes análisis de clustering.\n",
        "\n",
        "Los datos seran obtenidos en el siguiente [enlace](https://sitiooij.poder-judicial.go.cr/index.php/apertura/transparencia/estadisticas-policiales), en donde es posible encontrar información detallada sobre las estadísticas policiales relacionadas con la actividad delictiva en Costa Rica.\n",
        "\n"
      ],
      "metadata": {
        "id": "Mqc-wrpO06k9"
      }
    },
    {
      "cell_type": "markdown",
      "source": [
        "## Justificacion"
      ],
      "metadata": {
        "id": "SIdSbijn0lOe"
      }
    },
    {
      "cell_type": "markdown",
      "source": [
        "El proyecto se enfoca en realizar un análisis de clustering de datos relacionados con la delincuencia en Costa Rica, con el objetivo de identificar patrones y tendencias en la actividad delictiva. Este análisis permitirá agrupar los delitos en categorías con características comunes, como el tipo de delito, la ubicación geográfica y la demografía de las víctimas o los perpetradores.\n",
        "\n",
        "Esto puede ayudar a los organismos encargados de hacer cumplir la ley a asignar recursos de manera más eficaz y evitar que se produzcan delitos. Los algoritmos de clustering se pueden utilizar para agrupar delitos en función de sus características, como el tipo de delito, la ubicación y la demografía de las víctimas o los perpetradores."
      ],
      "metadata": {
        "id": "7VGglpA31Sdg"
      }
    },
    {
      "cell_type": "markdown",
      "source": [
        "## Antecedentes"
      ],
      "metadata": {
        "id": "10BnPMfl0nMG"
      }
    },
    {
      "cell_type": "markdown",
      "source": [
        "| Objetivo | Referencia |\n",
        "|---|---|\n",
        "| Identificar patrones de delincuencia y puntos criticos en la ciudad mediante análisis de clustering. | Cao, L., Zhang, C., Zhang, L., & Li, X. (2019). *Crime hotspot detection using improved k-means algorithm.* Journal of Ambient Intelligence and Humanized Computing, 10(5), 1787-1796. |\n",
        "| Analizar los patrones de la delincuencia e identificar puntos criticos utilizando un algoritmo de clustering basado en la densidad. | Li, X., & Cao, L. (2021). *Spatiotemporal clustering analysis of crime with a density-based approach.* International Journal of Geographical Information Science, 35(2), 285-303. |\n",
        "| Identificar los patrones de delincuencia y puntos criticos en la ciudad utilizando un algoritmo de clustering jerárquico. | Mohajeri, N., & Malekinezhad, H. (2020). *Crime pattern analysis using hierarchical clustering algorithm.* Journal of Environmental Management and Tourism, 11(5), 1127-1135. |\n",
        "| Comparar el rendimiento de diferentes algoritmos de clustering para el análisis de delincuencia. | Smith, J. D., Johnson, R. T., & Lee, K. (2018). *A comparison of clustering algorithms for customer segmentation.* Journal of Marketing Analytics, 6(3), 160-176. |"
      ],
      "metadata": {
        "id": "ePQpeIQV3aiW"
      }
    },
    {
      "cell_type": "markdown",
      "source": [
        "## Marco Teorico"
      ],
      "metadata": {
        "id": "17pxWXNr0o7L"
      }
    },
    {
      "cell_type": "markdown",
      "source": [
        "El marco teórico de este proyecto involucra el uso de algoritmos de clustering para realizar un análisis de delincuencia en Costa Rica.\n",
        "\n",
        "El objetivo es identificar patrones y tendencias en la actividad delictiva para ayudar a las agencias de aplicación de la ley a asignar recursos de manera más efectiva y prevenir la mayor cantidad de delitos. \n",
        "\n",
        "El problema consiste en identificar el algoritmo de clustering óptimo y el número de grupos para el análisis de delincuencia. \n",
        "\n",
        "Los algoritmos a utilizar seran los siguientes:\n",
        "\n",
        "\n",
        "\n",
        "1.   K-Means\n",
        "2.   DBSCAN\n",
        "3.   Agglomerative clustering\n",
        "4.   Gaussian Mixture\n",
        "\n",
        "\n",
        "Las fuentes de datos a utilizar son los datos delictivos recopilados por el OIJ en lo que transcurre del año 2023"
      ],
      "metadata": {
        "id": "WQ25STIU5NEN"
      }
    },
    {
      "cell_type": "markdown",
      "source": [
        "## Metodologia"
      ],
      "metadata": {
        "id": "ZPYmGIek0zXX"
      }
    },
    {
      "cell_type": "markdown",
      "source": [
        "La metodología para este proyecto involucra los siguientes pasos:\n",
        "\n",
        "1- **Recopilación de datos**: Recopilar datos delictivos del OIJ.\n",
        "\n",
        "2- **Limpieza de datos**: Eliminar filas con valores faltantes y convertir las etiquetas numéricas a tipo de dato flotante.\n",
        "\n",
        "3- **Preprocesamiento de datos**: Seleccionar las variables a utilizar en el análisis de clustering.\n",
        "\n",
        "4- **Análisis de clustering**: Aplicar los algoritmos de clustering K-Means, DBSCAN, Agglomerative y Gaussian Mixture a los datos obtenidos.\n",
        "\n",
        "5- **Evaluación del rendimiento**: Evaluar el rendimiento de los algoritmos de clustering utilizando métricas como el puntaje de silueta.\n",
        "\n",
        "6- **Selección del modelo**: Seleccionar el algoritmo de clustering óptimo y el número de grupos basándose en la evaluación del rendimiento.\n",
        "\n",
        "7- **Asignacion de etiquetas**: Asignar etiquetas a los datos originales y guardar los datos etiquetados en un archivo CSV."
      ],
      "metadata": {
        "id": "UriF_8xi6FzP"
      }
    },
    {
      "cell_type": "markdown",
      "source": [
        "# Resultados y Discusion\n",
        "\n",
        "Se realizó el análisis de clustering de los datos delictivos mediante los algoritmos K-Means, DBSCAN, Agglomerative y Gaussian Mixture Model, y se evaluó el rendimiento de cada algoritmo mediante la puntuación de la silueta. \n",
        "\n",
        "Según los resultados , el número óptimo de clusters para K-Means fue 3, y los parámetros óptimos para DBSCAN fueron un valor de *eps* de 10 y un valor de *min_samples* de 8. \n",
        "\n",
        "El algoritmo DBSCAN tuvo la puntuación de silueta más alta de 0,37, lo que indica que produjo los grupos más distintos y bien separados. \n",
        "\n",
        "El algoritmo KMeans tuvo la segunda puntuación de silueta más alta de 0,36, pero los grupos que produjo fueron menos distintos y más superpuestos que los producidos por DBSCAN. \n",
        "\n",
        "El algoritmo Agglomerative Clustering tuvo una puntuación de silueta moderada de 0,29, lo que indica que no fue tan efectivo como los otros algoritmos para agrupar los datos. \n",
        "\n",
        "El algoritmo Gaussian Mixture Model tuvo un puntaje de silueta muy bajo de 0.035, lo que sugiere que no era adecuado para agrupar este conjunto de datos en particular. \n",
        "\n",
        "Con estos resultados, se puede concluir que DBSCAN es el algoritmo más apropiado para caracterizar el conjunto de datos utilizado en este ejercicio. Los datos etiquetados se pueden usar para identificar patrones de delincuencia y puntos críticos en la ciudad, lo que puede ayudar a las agencias de aplicación de la ley a asignar recursos de manera más efectiva y evitar que ocurran delitos."
      ],
      "metadata": {
        "id": "URxF6eltdYCj"
      }
    },
    {
      "cell_type": "markdown",
      "source": [
        "## Referencias Investigación"
      ],
      "metadata": {
        "id": "VrMO4Ryy01p0"
      }
    },
    {
      "cell_type": "markdown",
      "source": [
        "Cao, L., Zhang, C., Zhang, L., & Li, X. (2019). Crime hotspot detection using improved k-means algorithm. Journal of Ambient Intelligence and Humanized Computing, 10(5), 1787-1796.\n",
        "\n",
        "Li, X., & Cao, L. (2021). Spatiotemporal clustering analysis of crime with a density-based approach. International Journal of Geographical Information Science, 35(2), 285-303.\n",
        "\n",
        "Mohajeri, N., & Malekinezhad, H. (2020). Crime pattern analysis using hierarchical clustering algorithm. Journal of Environmental Management and Tourism, 11(5), 1127-1135.\n",
        "\n",
        "Smith, J. D., Johnson, R. T., & Lee, K. (2018). A comparison of clustering algorithms for customer segmentation. Journal of Marketing Analytics, 6(3), 160-176."
      ],
      "metadata": {
        "id": "GAseRk1z7FN1"
      }
    },
    {
      "cell_type": "markdown",
      "source": [
        "## Documentación del Código"
      ],
      "metadata": {
        "id": "t9Ivqjwz7htc"
      }
    },
    {
      "cell_type": "markdown",
      "source": [
        "*Todas las secciones de código del proyecto están documentadas con comentarios que explican cada paso del análisis y el propósito de cada línea de código.*\n",
        "\n",
        "*El código también está organizado en las respectivas secciones que corresponden a los pasos de la metodología. Los nombres de las variables son claros y descriptivos, y cualquier suposición realizada durante el análisis se indica claramente en los comentarios.*"
      ],
      "metadata": {
        "id": "qE9t4fAL7JK1"
      }
    },
    {
      "cell_type": "markdown",
      "source": [
        "# Parte 2 - Analisis de Clustering\n"
      ],
      "metadata": {
        "id": "AZK7DrlJ7qFG"
      }
    },
    {
      "cell_type": "code",
      "source": [
        "# Importacion de los paquetes necesarios\n",
        "import pandas as pd\n",
        "import matplotlib.pyplot as plt\n",
        "from sklearn.cluster import KMeans, DBSCAN, AgglomerativeClustering\n",
        "from sklearn.metrics import silhouette_score\n",
        "from sklearn.mixture import GaussianMixture\n",
        "from scipy.cluster.hierarchy import dendrogram, linkage"
      ],
      "metadata": {
        "id": "t3iPNyj-7uEy"
      },
      "execution_count": 1,
      "outputs": []
    },
    {
      "cell_type": "code",
      "source": [
        "# Cargar el conjunto de datos\n",
        "df = pd.read_excel('Estadisticas.xlsx', na_values='n/a')"
      ],
      "metadata": {
        "id": "mMfbDpjb7z3h"
      },
      "execution_count": 2,
      "outputs": []
    },
    {
      "cell_type": "code",
      "source": [
        "# Seleccion de la parte correcta a trabajar\n",
        "df = df.iloc[:, 0:11]"
      ],
      "metadata": {
        "id": "JdEJoB9m8tUR"
      },
      "execution_count": 3,
      "outputs": []
    },
    {
      "cell_type": "code",
      "source": [
        "# Eliminacion de filas que no contengan datos\n",
        "df.dropna(inplace=True) "
      ],
      "metadata": {
        "id": "A7QcBj4c8zFt"
      },
      "execution_count": 4,
      "outputs": []
    },
    {
      "cell_type": "code",
      "source": [
        "# Mostrar el conjunto de datos\n",
        "df"
      ],
      "metadata": {
        "colab": {
          "base_uri": "https://localhost:8080/",
          "height": 641
        },
        "id": "-GHI4Rag822c",
        "outputId": "6516ec42-f719-46a7-99a6-779d45fdafcb"
      },
      "execution_count": 5,
      "outputs": [
        {
          "output_type": "execute_result",
          "data": {
            "text/plain": [
              "                  Delito          SubDelito      Fecha              Victima  \\\n",
              "0                 ASALTO        ARMA BLANCA 2023-01-03  12:00:00 - 14:59:59   \n",
              "1                 ASALTO        ARMA BLANCA 2023-01-03  18:00:00 - 20:59:59   \n",
              "2                 ASALTO        ARMA BLANCA 2023-01-07  21:00:00 - 23:59:59   \n",
              "3                 ASALTO        ARMA BLANCA 2023-01-08  18:00:00 - 20:59:59   \n",
              "4                 ASALTO        ARMA BLANCA 2023-01-11  15:00:00 - 17:59:59   \n",
              "...                  ...                ...        ...                  ...   \n",
              "19576  TACHA DE VEHICULO  TACHA DE VEHICULO 2023-05-19  21:00:00 - 23:59:59   \n",
              "19577  TACHA DE VEHICULO  TACHA DE VEHICULO 2023-05-19  15:00:00 - 17:59:59   \n",
              "19578  TACHA DE VEHICULO  TACHA DE VEHICULO 2023-05-22  18:00:00 - 20:59:59   \n",
              "19579  TACHA DE VEHICULO  TACHA DE VEHICULO 2023-05-22  18:00:00 - 20:59:59   \n",
              "19580  TACHA DE VEHICULO  TACHA DE VEHICULO 2023-03-26  18:00:00 - 20:59:59   \n",
              "\n",
              "      SubVictima                                               Edad  \\\n",
              "0        PERSONA                                   PEATON [PERSONA]   \n",
              "1        PERSONA                            MENOR DE EDAD [PERSONA]   \n",
              "2        PERSONA                                   PEATON [PERSONA]   \n",
              "3       VIVIENDA                               NO APLICA [VIVIENDA]   \n",
              "4        PERSONA                                   PEATON [PERSONA]   \n",
              "...          ...                                                ...   \n",
              "19576   VEHICULO                               AUTOMOVIL [VEHICULO]   \n",
              "19577   VEHICULO                               AUTOMOVIL [VEHICULO]   \n",
              "19578   VEHICULO                               AUTOMOVIL [VEHICULO]   \n",
              "19579   VEHICULO                               AUTOMOVIL [VEHICULO]   \n",
              "19580   VEHICULO  SERVICIO PUBLICO/TAXI LEGAL O PIRATA/AUTOBUS [...   \n",
              "\n",
              "              Genero Nacionalidad    Provincia      Canton  \\\n",
              "0      Menor de edad       HOMBRE   COSTA RICA       LIMON   \n",
              "1      Menor de edad       HOMBRE   COSTA RICA    ALAJUELA   \n",
              "2      Mayor de edad       HOMBRE    NICARAGUA     HEREDIA   \n",
              "3      Mayor de edad        MUJER   COSTA RICA  PUNTARENAS   \n",
              "4        Desconocido  DESCONOCIDO    NICARAGUA     CARTAGO   \n",
              "...              ...          ...          ...         ...   \n",
              "19576  Mayor de edad       HOMBRE   COSTA RICA    SAN JOSE   \n",
              "19577   Adulto Mayor       HOMBRE   COSTA RICA     CARTAGO   \n",
              "19578  Mayor de edad       HOMBRE   COSTA RICA    ALAJUELA   \n",
              "19579  Mayor de edad       HOMBRE   COSTA RICA    SAN JOSE   \n",
              "19580    Desconocido  DESCONOCIDO  Desconocido    SAN JOSE   \n",
              "\n",
              "                  Distrito  \n",
              "0                SIQUIRRES  \n",
              "1                SAN RAMON  \n",
              "2                  HEREDIA  \n",
              "3                  GOLFITO  \n",
              "4                  CARTAGO  \n",
              "...                    ...  \n",
              "19576         DESAMPARADOS  \n",
              "19577             OREAMUNO  \n",
              "19578             ALAJUELA  \n",
              "19579  VASQUEZ DE CORONADO  \n",
              "19580             SAN JOSE  \n",
              "\n",
              "[19581 rows x 11 columns]"
            ],
            "text/html": [
              "\n",
              "  <div id=\"df-503025f5-0d57-4bb1-baf9-a038f4bd60fe\">\n",
              "    <div class=\"colab-df-container\">\n",
              "      <div>\n",
              "<style scoped>\n",
              "    .dataframe tbody tr th:only-of-type {\n",
              "        vertical-align: middle;\n",
              "    }\n",
              "\n",
              "    .dataframe tbody tr th {\n",
              "        vertical-align: top;\n",
              "    }\n",
              "\n",
              "    .dataframe thead th {\n",
              "        text-align: right;\n",
              "    }\n",
              "</style>\n",
              "<table border=\"1\" class=\"dataframe\">\n",
              "  <thead>\n",
              "    <tr style=\"text-align: right;\">\n",
              "      <th></th>\n",
              "      <th>Delito</th>\n",
              "      <th>SubDelito</th>\n",
              "      <th>Fecha</th>\n",
              "      <th>Victima</th>\n",
              "      <th>SubVictima</th>\n",
              "      <th>Edad</th>\n",
              "      <th>Genero</th>\n",
              "      <th>Nacionalidad</th>\n",
              "      <th>Provincia</th>\n",
              "      <th>Canton</th>\n",
              "      <th>Distrito</th>\n",
              "    </tr>\n",
              "  </thead>\n",
              "  <tbody>\n",
              "    <tr>\n",
              "      <th>0</th>\n",
              "      <td>ASALTO</td>\n",
              "      <td>ARMA BLANCA</td>\n",
              "      <td>2023-01-03</td>\n",
              "      <td>12:00:00 - 14:59:59</td>\n",
              "      <td>PERSONA</td>\n",
              "      <td>PEATON [PERSONA]</td>\n",
              "      <td>Menor de edad</td>\n",
              "      <td>HOMBRE</td>\n",
              "      <td>COSTA RICA</td>\n",
              "      <td>LIMON</td>\n",
              "      <td>SIQUIRRES</td>\n",
              "    </tr>\n",
              "    <tr>\n",
              "      <th>1</th>\n",
              "      <td>ASALTO</td>\n",
              "      <td>ARMA BLANCA</td>\n",
              "      <td>2023-01-03</td>\n",
              "      <td>18:00:00 - 20:59:59</td>\n",
              "      <td>PERSONA</td>\n",
              "      <td>MENOR DE EDAD [PERSONA]</td>\n",
              "      <td>Menor de edad</td>\n",
              "      <td>HOMBRE</td>\n",
              "      <td>COSTA RICA</td>\n",
              "      <td>ALAJUELA</td>\n",
              "      <td>SAN RAMON</td>\n",
              "    </tr>\n",
              "    <tr>\n",
              "      <th>2</th>\n",
              "      <td>ASALTO</td>\n",
              "      <td>ARMA BLANCA</td>\n",
              "      <td>2023-01-07</td>\n",
              "      <td>21:00:00 - 23:59:59</td>\n",
              "      <td>PERSONA</td>\n",
              "      <td>PEATON [PERSONA]</td>\n",
              "      <td>Mayor de edad</td>\n",
              "      <td>HOMBRE</td>\n",
              "      <td>NICARAGUA</td>\n",
              "      <td>HEREDIA</td>\n",
              "      <td>HEREDIA</td>\n",
              "    </tr>\n",
              "    <tr>\n",
              "      <th>3</th>\n",
              "      <td>ASALTO</td>\n",
              "      <td>ARMA BLANCA</td>\n",
              "      <td>2023-01-08</td>\n",
              "      <td>18:00:00 - 20:59:59</td>\n",
              "      <td>VIVIENDA</td>\n",
              "      <td>NO APLICA [VIVIENDA]</td>\n",
              "      <td>Mayor de edad</td>\n",
              "      <td>MUJER</td>\n",
              "      <td>COSTA RICA</td>\n",
              "      <td>PUNTARENAS</td>\n",
              "      <td>GOLFITO</td>\n",
              "    </tr>\n",
              "    <tr>\n",
              "      <th>4</th>\n",
              "      <td>ASALTO</td>\n",
              "      <td>ARMA BLANCA</td>\n",
              "      <td>2023-01-11</td>\n",
              "      <td>15:00:00 - 17:59:59</td>\n",
              "      <td>PERSONA</td>\n",
              "      <td>PEATON [PERSONA]</td>\n",
              "      <td>Desconocido</td>\n",
              "      <td>DESCONOCIDO</td>\n",
              "      <td>NICARAGUA</td>\n",
              "      <td>CARTAGO</td>\n",
              "      <td>CARTAGO</td>\n",
              "    </tr>\n",
              "    <tr>\n",
              "      <th>...</th>\n",
              "      <td>...</td>\n",
              "      <td>...</td>\n",
              "      <td>...</td>\n",
              "      <td>...</td>\n",
              "      <td>...</td>\n",
              "      <td>...</td>\n",
              "      <td>...</td>\n",
              "      <td>...</td>\n",
              "      <td>...</td>\n",
              "      <td>...</td>\n",
              "      <td>...</td>\n",
              "    </tr>\n",
              "    <tr>\n",
              "      <th>19576</th>\n",
              "      <td>TACHA DE VEHICULO</td>\n",
              "      <td>TACHA DE VEHICULO</td>\n",
              "      <td>2023-05-19</td>\n",
              "      <td>21:00:00 - 23:59:59</td>\n",
              "      <td>VEHICULO</td>\n",
              "      <td>AUTOMOVIL [VEHICULO]</td>\n",
              "      <td>Mayor de edad</td>\n",
              "      <td>HOMBRE</td>\n",
              "      <td>COSTA RICA</td>\n",
              "      <td>SAN JOSE</td>\n",
              "      <td>DESAMPARADOS</td>\n",
              "    </tr>\n",
              "    <tr>\n",
              "      <th>19577</th>\n",
              "      <td>TACHA DE VEHICULO</td>\n",
              "      <td>TACHA DE VEHICULO</td>\n",
              "      <td>2023-05-19</td>\n",
              "      <td>15:00:00 - 17:59:59</td>\n",
              "      <td>VEHICULO</td>\n",
              "      <td>AUTOMOVIL [VEHICULO]</td>\n",
              "      <td>Adulto Mayor</td>\n",
              "      <td>HOMBRE</td>\n",
              "      <td>COSTA RICA</td>\n",
              "      <td>CARTAGO</td>\n",
              "      <td>OREAMUNO</td>\n",
              "    </tr>\n",
              "    <tr>\n",
              "      <th>19578</th>\n",
              "      <td>TACHA DE VEHICULO</td>\n",
              "      <td>TACHA DE VEHICULO</td>\n",
              "      <td>2023-05-22</td>\n",
              "      <td>18:00:00 - 20:59:59</td>\n",
              "      <td>VEHICULO</td>\n",
              "      <td>AUTOMOVIL [VEHICULO]</td>\n",
              "      <td>Mayor de edad</td>\n",
              "      <td>HOMBRE</td>\n",
              "      <td>COSTA RICA</td>\n",
              "      <td>ALAJUELA</td>\n",
              "      <td>ALAJUELA</td>\n",
              "    </tr>\n",
              "    <tr>\n",
              "      <th>19579</th>\n",
              "      <td>TACHA DE VEHICULO</td>\n",
              "      <td>TACHA DE VEHICULO</td>\n",
              "      <td>2023-05-22</td>\n",
              "      <td>18:00:00 - 20:59:59</td>\n",
              "      <td>VEHICULO</td>\n",
              "      <td>AUTOMOVIL [VEHICULO]</td>\n",
              "      <td>Mayor de edad</td>\n",
              "      <td>HOMBRE</td>\n",
              "      <td>COSTA RICA</td>\n",
              "      <td>SAN JOSE</td>\n",
              "      <td>VASQUEZ DE CORONADO</td>\n",
              "    </tr>\n",
              "    <tr>\n",
              "      <th>19580</th>\n",
              "      <td>TACHA DE VEHICULO</td>\n",
              "      <td>TACHA DE VEHICULO</td>\n",
              "      <td>2023-03-26</td>\n",
              "      <td>18:00:00 - 20:59:59</td>\n",
              "      <td>VEHICULO</td>\n",
              "      <td>SERVICIO PUBLICO/TAXI LEGAL O PIRATA/AUTOBUS [...</td>\n",
              "      <td>Desconocido</td>\n",
              "      <td>DESCONOCIDO</td>\n",
              "      <td>Desconocido</td>\n",
              "      <td>SAN JOSE</td>\n",
              "      <td>SAN JOSE</td>\n",
              "    </tr>\n",
              "  </tbody>\n",
              "</table>\n",
              "<p>19581 rows × 11 columns</p>\n",
              "</div>\n",
              "      <button class=\"colab-df-convert\" onclick=\"convertToInteractive('df-503025f5-0d57-4bb1-baf9-a038f4bd60fe')\"\n",
              "              title=\"Convert this dataframe to an interactive table.\"\n",
              "              style=\"display:none;\">\n",
              "        \n",
              "  <svg xmlns=\"http://www.w3.org/2000/svg\" height=\"24px\"viewBox=\"0 0 24 24\"\n",
              "       width=\"24px\">\n",
              "    <path d=\"M0 0h24v24H0V0z\" fill=\"none\"/>\n",
              "    <path d=\"M18.56 5.44l.94 2.06.94-2.06 2.06-.94-2.06-.94-.94-2.06-.94 2.06-2.06.94zm-11 1L8.5 8.5l.94-2.06 2.06-.94-2.06-.94L8.5 2.5l-.94 2.06-2.06.94zm10 10l.94 2.06.94-2.06 2.06-.94-2.06-.94-.94-2.06-.94 2.06-2.06.94z\"/><path d=\"M17.41 7.96l-1.37-1.37c-.4-.4-.92-.59-1.43-.59-.52 0-1.04.2-1.43.59L10.3 9.45l-7.72 7.72c-.78.78-.78 2.05 0 2.83L4 21.41c.39.39.9.59 1.41.59.51 0 1.02-.2 1.41-.59l7.78-7.78 2.81-2.81c.8-.78.8-2.07 0-2.86zM5.41 20L4 18.59l7.72-7.72 1.47 1.35L5.41 20z\"/>\n",
              "  </svg>\n",
              "      </button>\n",
              "      \n",
              "  <style>\n",
              "    .colab-df-container {\n",
              "      display:flex;\n",
              "      flex-wrap:wrap;\n",
              "      gap: 12px;\n",
              "    }\n",
              "\n",
              "    .colab-df-convert {\n",
              "      background-color: #E8F0FE;\n",
              "      border: none;\n",
              "      border-radius: 50%;\n",
              "      cursor: pointer;\n",
              "      display: none;\n",
              "      fill: #1967D2;\n",
              "      height: 32px;\n",
              "      padding: 0 0 0 0;\n",
              "      width: 32px;\n",
              "    }\n",
              "\n",
              "    .colab-df-convert:hover {\n",
              "      background-color: #E2EBFA;\n",
              "      box-shadow: 0px 1px 2px rgba(60, 64, 67, 0.3), 0px 1px 3px 1px rgba(60, 64, 67, 0.15);\n",
              "      fill: #174EA6;\n",
              "    }\n",
              "\n",
              "    [theme=dark] .colab-df-convert {\n",
              "      background-color: #3B4455;\n",
              "      fill: #D2E3FC;\n",
              "    }\n",
              "\n",
              "    [theme=dark] .colab-df-convert:hover {\n",
              "      background-color: #434B5C;\n",
              "      box-shadow: 0px 1px 3px 1px rgba(0, 0, 0, 0.15);\n",
              "      filter: drop-shadow(0px 1px 2px rgba(0, 0, 0, 0.3));\n",
              "      fill: #FFFFFF;\n",
              "    }\n",
              "  </style>\n",
              "\n",
              "      <script>\n",
              "        const buttonEl =\n",
              "          document.querySelector('#df-503025f5-0d57-4bb1-baf9-a038f4bd60fe button.colab-df-convert');\n",
              "        buttonEl.style.display =\n",
              "          google.colab.kernel.accessAllowed ? 'block' : 'none';\n",
              "\n",
              "        async function convertToInteractive(key) {\n",
              "          const element = document.querySelector('#df-503025f5-0d57-4bb1-baf9-a038f4bd60fe');\n",
              "          const dataTable =\n",
              "            await google.colab.kernel.invokeFunction('convertToInteractive',\n",
              "                                                     [key], {});\n",
              "          if (!dataTable) return;\n",
              "\n",
              "          const docLinkHtml = 'Like what you see? Visit the ' +\n",
              "            '<a target=\"_blank\" href=https://colab.research.google.com/notebooks/data_table.ipynb>data table notebook</a>'\n",
              "            + ' to learn more about interactive tables.';\n",
              "          element.innerHTML = '';\n",
              "          dataTable['output_type'] = 'display_data';\n",
              "          await google.colab.output.renderOutput(dataTable, element);\n",
              "          const docLink = document.createElement('div');\n",
              "          docLink.innerHTML = docLinkHtml;\n",
              "          element.appendChild(docLink);\n",
              "        }\n",
              "      </script>\n",
              "    </div>\n",
              "  </div>\n",
              "  "
            ]
          },
          "metadata": {},
          "execution_count": 5
        }
      ]
    },
    {
      "cell_type": "code",
      "source": [
        "# Obtener una lista de los nombres de las columnas\n",
        "column_names = df.columns.tolist()"
      ],
      "metadata": {
        "id": "E68POkzh88YR"
      },
      "execution_count": 6,
      "outputs": []
    },
    {
      "cell_type": "code",
      "source": [
        "# Mostrar el valor de nombre de la lista\n",
        "print(column_names)"
      ],
      "metadata": {
        "colab": {
          "base_uri": "https://localhost:8080/"
        },
        "id": "FMJVI_gO9HyB",
        "outputId": "c25d93b4-b0ef-4720-e897-dd0aa53e0de0"
      },
      "execution_count": 7,
      "outputs": [
        {
          "output_type": "stream",
          "name": "stdout",
          "text": [
            "['Delito', 'SubDelito', 'Fecha', 'Victima', 'SubVictima', 'Edad', 'Genero', 'Nacionalidad', 'Provincia', 'Canton', 'Distrito']\n"
          ]
        }
      ]
    },
    {
      "cell_type": "code",
      "source": [
        "# Mostrar los tipos de datos de cada columna\n",
        "print(df.dtypes)"
      ],
      "metadata": {
        "colab": {
          "base_uri": "https://localhost:8080/"
        },
        "id": "BCNjwJ6D9PrY",
        "outputId": "a7088144-2d27-42a1-9e7b-8515b2649fe1"
      },
      "execution_count": 8,
      "outputs": [
        {
          "output_type": "stream",
          "name": "stdout",
          "text": [
            "Delito                  object\n",
            "SubDelito               object\n",
            "Fecha           datetime64[ns]\n",
            "Victima                 object\n",
            "SubVictima              object\n",
            "Edad                    object\n",
            "Genero                  object\n",
            "Nacionalidad            object\n",
            "Provincia               object\n",
            "Canton                  object\n",
            "Distrito                object\n",
            "dtype: object\n"
          ]
        }
      ]
    },
    {
      "cell_type": "code",
      "source": [
        "# Asignar un valor numérico único para cada etiqueta para crear nuevas columnas\n",
        "df['XDelito'], _ = pd.factorize(df['Delito'])\n",
        "df['XSubDelito'], _ = pd.factorize(df['SubDelito'])\n",
        "df['XVictima'], _ = pd.factorize(df['Victima'])\n",
        "df['XSubVictima'], _ = pd.factorize(df['SubVictima'])\n",
        "df['XEdad'], _ = pd.factorize(df['Edad'])\n",
        "df['XGenero'], _ = pd.factorize(df['Genero'])\n",
        "df['XNacionalidad'], _ = pd.factorize(df['Nacionalidad'])\n",
        "df['XProvincia'], _ = pd.factorize(df['Provincia'])\n",
        "df['XCanton'], _ = pd.factorize(df['Canton'])\n",
        "df['XDistrito'], _ = pd.factorize(df['Distrito'])"
      ],
      "metadata": {
        "id": "hBXgEG7B9cK1"
      },
      "execution_count": 10,
      "outputs": []
    },
    {
      "cell_type": "code",
      "source": [
        "# Convertir etiquetas numéricas a tipo de datos flotante\n",
        "df['XDelito'] = df['XDelito'].astype(float)\n",
        "df['XSubDelito'] = df['XSubDelito'].astype(float)\n",
        "df['XVictima'] = df['XVictima'].astype(float)\n",
        "df['XSubVictima'] = df['XSubVictima'].astype(float)\n",
        "df['XEdad'] = df['XEdad'].astype(float)\n",
        "df['XGenero'] = df['XGenero'].astype(float)\n",
        "df['XNacionalidad'] = df['XNacionalidad'].astype(float)\n",
        "df['XProvincia'] = df['XProvincia'].astype(float)\n",
        "df['XCanton'] = df['XCanton'].astype(float)\n",
        "df['XDistrito'] = df['XDistrito'].astype(float)"
      ],
      "metadata": {
        "id": "nn8liUXo9jym"
      },
      "execution_count": 11,
      "outputs": []
    },
    {
      "cell_type": "code",
      "source": [
        "# Agrupar los datos por XGenero y obtener la cuenta de XDelito para cada uno de los grupos\n",
        "counts = df.groupby('XGenero')['XDelito'].value_counts().reset_index(name='count')"
      ],
      "metadata": {
        "id": "utWLiLU69s-p"
      },
      "execution_count": 12,
      "outputs": []
    },
    {
      "cell_type": "code",
      "source": [
        "# Crear un gráfico del recuento de valores XDelito para cada grupo XGenero\n",
        "ax = counts.plot.bar(x='XGenero', y='count', color='blue')\n",
        "ax.set_xlabel('XGenero')\n",
        "ax.set_ylabel('Count of XDelito')\n",
        "ax.set_title('Gráfico de conteo de XDelito para cada grupo XGenero')"
      ],
      "metadata": {
        "colab": {
          "base_uri": "https://localhost:8080/",
          "height": 497
        },
        "id": "iEiOEs-x91ND",
        "outputId": "3e27156c-4c55-419a-e547-6f39e319d830"
      },
      "execution_count": 13,
      "outputs": [
        {
          "output_type": "execute_result",
          "data": {
            "text/plain": [
              "Text(0.5, 1.0, 'Gráfico de conteo de XDelito para cada grupo XGenero')"
            ]
          },
          "metadata": {},
          "execution_count": 13
        },
        {
          "output_type": "display_data",
          "data": {
            "text/plain": [
              "<Figure size 640x480 with 1 Axes>"
            ],
            "image/png": "[encoded data removed]"
          },
          "metadata": {}
        }
      ]
    },
    {
      "cell_type": "code",
      "source": [
        "# Cantidad de delitos por distrito\n",
        "print(df['Distrito'].value_counts())"
      ],
      "metadata": {
        "colab": {
          "base_uri": "https://localhost:8080/"
        },
        "id": "Dr_DNJ2BpcPB",
        "outputId": "1997d38f-36cc-4491-8bc0-0b11d29639a7"
      },
      "execution_count": 14,
      "outputs": [
        {
          "output_type": "stream",
          "name": "stdout",
          "text": [
            "SAN JOSE      3575\n",
            "ALAJUELA      1218\n",
            "HEREDIA        724\n",
            "CARTAGO        670\n",
            "SAN CARLOS     626\n",
            "              ... \n",
            "DOTA            14\n",
            "NANDAYURE       14\n",
            "ZARCERO         13\n",
            "MONTEVERDE      11\n",
            "TURRUBARES       3\n",
            "Name: Distrito, Length: 84, dtype: int64\n"
          ]
        }
      ]
    },
    {
      "cell_type": "code",
      "source": [
        "# Seleccion de las variables a utilizar en el analisis de clustering\n",
        "X = df[[\"XDelito\", \"XSubDelito\", \"XVictima\", \"XSubVictima\", \"XEdad\", \"XGenero\",\"XNacionalidad\",\"XDistrito\",\"XCanton\",\"XProvincia\"]]"
      ],
      "metadata": {
        "id": "P0Gjn_1M_Mnr"
      },
      "execution_count": 15,
      "outputs": []
    },
    {
      "cell_type": "markdown",
      "source": [
        "*Se seleccionó la mayoría de las columnas, debido a que cuantos más datos y dimensiones sean agregados a cualquier método de aprendizaje automático, mejor será el resultado*"
      ],
      "metadata": {
        "id": "0L9Rc_BpWHAV"
      }
    },
    {
      "cell_type": "code",
      "source": [
        "# Clustering K-Means\n",
        "kmeans = KMeans(n_clusters=3)\n",
        "kmeans.fit(X)"
      ],
      "metadata": {
        "colab": {
          "base_uri": "https://localhost:8080/",
          "height": 129
        },
        "id": "YvVToRDyAlFE",
        "outputId": "39ba3739-e020-45c3-e3b2-40d8d6ae916f"
      },
      "execution_count": 16,
      "outputs": [
        {
          "output_type": "stream",
          "name": "stderr",
          "text": [
            "/usr/local/lib/python3.10/dist-packages/sklearn/cluster/_kmeans.py:870: FutureWarning: The default value of `n_init` will change from 10 to 'auto' in 1.4. Set the value of `n_init` explicitly to suppress the warning\n",
            "  warnings.warn(\n"
          ]
        },
        {
          "output_type": "execute_result",
          "data": {
            "text/plain": [
              "KMeans(n_clusters=3)"
            ],
            "text/html": [
              "<style>#sk-container-id-1 {color: black;background-color: white;}#sk-container-id-1 pre{padding: 0;}#sk-container-id-1 div.sk-toggleable {background-color: white;}#sk-container-id-1 label.sk-toggleable__label {cursor: pointer;display: block;width: 100%;margin-bottom: 0;padding: 0.3em;box-sizing: border-box;text-align: center;}#sk-container-id-1 label.sk-toggleable__label-arrow:before {content: \"▸\";float: left;margin-right: 0.25em;color: #696969;}#sk-container-id-1 label.sk-toggleable__label-arrow:hover:before {color: black;}#sk-container-id-1 div.sk-estimator:hover label.sk-toggleable__label-arrow:before {color: black;}#sk-container-id-1 div.sk-toggleable__content {max-height: 0;max-width: 0;overflow: hidden;text-align: left;background-color: #f0f8ff;}#sk-container-id-1 div.sk-toggleable__content pre {margin: 0.2em;color: black;border-radius: 0.25em;background-color: #f0f8ff;}#sk-container-id-1 input.sk-toggleable__control:checked~div.sk-toggleable__content {max-height: 200px;max-width: 100%;overflow: auto;}#sk-container-id-1 input.sk-toggleable__control:checked~label.sk-toggleable__label-arrow:before {content: \"▾\";}#sk-container-id-1 div.sk-estimator input.sk-toggleable__control:checked~label.sk-toggleable__label {background-color: #d4ebff;}#sk-container-id-1 div.sk-label input.sk-toggleable__control:checked~label.sk-toggleable__label {background-color: #d4ebff;}#sk-container-id-1 input.sk-hidden--visually {border: 0;clip: rect(1px 1px 1px 1px);clip: rect(1px, 1px, 1px, 1px);height: 1px;margin: -1px;overflow: hidden;padding: 0;position: absolute;width: 1px;}#sk-container-id-1 div.sk-estimator {font-family: monospace;background-color: #f0f8ff;border: 1px dotted black;border-radius: 0.25em;box-sizing: border-box;margin-bottom: 0.5em;}#sk-container-id-1 div.sk-estimator:hover {background-color: #d4ebff;}#sk-container-id-1 div.sk-parallel-item::after {content: \"\";width: 100%;border-bottom: 1px solid gray;flex-grow: 1;}#sk-container-id-1 div.sk-label:hover label.sk-toggleable__label {background-color: #d4ebff;}#sk-container-id-1 div.sk-serial::before {content: \"\";position: absolute;border-left: 1px solid gray;box-sizing: border-box;top: 0;bottom: 0;left: 50%;z-index: 0;}#sk-container-id-1 div.sk-serial {display: flex;flex-direction: column;align-items: center;background-color: white;padding-right: 0.2em;padding-left: 0.2em;position: relative;}#sk-container-id-1 div.sk-item {position: relative;z-index: 1;}#sk-container-id-1 div.sk-parallel {display: flex;align-items: stretch;justify-content: center;background-color: white;position: relative;}#sk-container-id-1 div.sk-item::before, #sk-container-id-1 div.sk-parallel-item::before {content: \"\";position: absolute;border-left: 1px solid gray;box-sizing: border-box;top: 0;bottom: 0;left: 50%;z-index: -1;}#sk-container-id-1 div.sk-parallel-item {display: flex;flex-direction: column;z-index: 1;position: relative;background-color: white;}#sk-container-id-1 div.sk-parallel-item:first-child::after {align-self: flex-end;width: 50%;}#sk-container-id-1 div.sk-parallel-item:last-child::after {align-self: flex-start;width: 50%;}#sk-container-id-1 div.sk-parallel-item:only-child::after {width: 0;}#sk-container-id-1 div.sk-dashed-wrapped {border: 1px dashed gray;margin: 0 0.4em 0.5em 0.4em;box-sizing: border-box;padding-bottom: 0.4em;background-color: white;}#sk-container-id-1 div.sk-label label {font-family: monospace;font-weight: bold;display: inline-block;line-height: 1.2em;}#sk-container-id-1 div.sk-label-container {text-align: center;}#sk-container-id-1 div.sk-container {/* jupyter's `normalize.less` sets `[hidden] { display: none; }` but bootstrap.min.css set `[hidden] { display: none !important; }` so we also need the `!important` here to be able to override the default hidden behavior on the sphinx rendered scikit-learn.org. See: https://github.com/scikit-learn/scikit-learn/issues/21755 */display: inline-block !important;position: relative;}#sk-container-id-1 div.sk-text-repr-fallback {display: none;}</style><div id=\"sk-container-id-1\" class=\"sk-top-container\"><div class=\"sk-text-repr-fallback\"><pre>KMeans(n_clusters=3)</pre><b>In a Jupyter environment, please rerun this cell to show the HTML representation or trust the notebook. <br />On GitHub, the HTML representation is unable to render, please try loading this page with nbviewer.org.</b></div><div class=\"sk-container\" hidden><div class=\"sk-item\"><div class=\"sk-estimator sk-toggleable\"><input class=\"sk-toggleable__control sk-hidden--visually\" id=\"sk-estimator-id-1\" type=\"checkbox\" checked><label for=\"sk-estimator-id-1\" class=\"sk-toggleable__label sk-toggleable__label-arrow\">KMeans</label><div class=\"sk-toggleable__content\"><pre>KMeans(n_clusters=3)</pre></div></div></div></div></div>"
            ]
          },
          "metadata": {},
          "execution_count": 16
        }
      ]
    },
    {
      "cell_type": "code",
      "source": [
        "pip install --upgrade scikit-learn threadpoolctl"
      ],
      "metadata": {
        "colab": {
          "base_uri": "https://localhost:8080/"
        },
        "id": "Kab4XijdAqK1",
        "outputId": "e0af17b5-06a8-49f7-fc42-09a621a4bc89"
      },
      "execution_count": 17,
      "outputs": [
        {
          "output_type": "stream",
          "name": "stdout",
          "text": [
            "Looking in indexes: https://pypi.org/simple, https://us-python.pkg.dev/colab-wheels/public/simple/\n",
            "Requirement already satisfied: scikit-learn in /usr/local/lib/python3.10/dist-packages (1.2.2)\n",
            "Requirement already satisfied: threadpoolctl in /usr/local/lib/python3.10/dist-packages (3.1.0)\n",
            "Requirement already satisfied: numpy>=1.17.3 in /usr/local/lib/python3.10/dist-packages (from scikit-learn) (1.22.4)\n",
            "Requirement already satisfied: scipy>=1.3.2 in /usr/local/lib/python3.10/dist-packages (from scikit-learn) (1.10.1)\n",
            "Requirement already satisfied: joblib>=1.1.1 in /usr/local/lib/python3.10/dist-packages (from scikit-learn) (1.2.0)\n"
          ]
        }
      ]
    },
    {
      "cell_type": "code",
      "source": [
        "# Se utiliza el método del codo para determinar el número óptimo de clusters para K-Means\n",
        "inertia = []\n",
        "silhouette = []\n",
        "for k in range(1, 11):\n",
        "    kmeans = KMeans(n_clusters=k, n_init=10)\n",
        "    kmeans.fit(X)\n",
        "    inertia.append(kmeans.inertia_)\n",
        "    if k > 1:\n",
        "        silhouette.append(silhouette_score(X, kmeans.labels_))\n",
        "\n",
        "plt.plot(range(1, 11), inertia)\n",
        "plt.xlabel(\"Numero de Clusters\")\n",
        "plt.ylabel(\"Distorcion\")\n",
        "plt.show()"
      ],
      "metadata": {
        "colab": {
          "base_uri": "https://localhost:8080/",
          "height": 465
        },
        "id": "cyNkT1uKA0ep",
        "outputId": "6345df2f-9171-45c2-893a-9e2abe895e90"
      },
      "execution_count": 18,
      "outputs": [
        {
          "output_type": "display_data",
          "data": {
            "text/plain": [
              "<Figure size 640x480 with 1 Axes>"
            ],
            "image/png": "[encoded data removed]"
          },
          "metadata": {}
        }
      ]
    },
    {
      "cell_type": "code",
      "source": [
        "plt.plot(range(2, 11), silhouette)\n",
        "plt.title(\"Silhouette Method\")\n",
        "plt.xlabel(\"Numero de Clusters\")\n",
        "plt.ylabel(\"Silhouette Score\")\n",
        "plt.show()"
      ],
      "metadata": {
        "colab": {
          "base_uri": "https://localhost:8080/",
          "height": 472
        },
        "id": "r9hzX4mdCmMx",
        "outputId": "98569810-b127-412d-8192-a872b2e40b30"
      },
      "execution_count": 19,
      "outputs": [
        {
          "output_type": "display_data",
          "data": {
            "text/plain": [
              "<Figure size 640x480 with 1 Axes>"
            ],
            "image/png": "[encoded data removed]"
          },
          "metadata": {}
        }
      ]
    },
    {
      "cell_type": "markdown",
      "source": [
        "# Evaluaciones de los Algoritmos"
      ],
      "metadata": {
        "id": "A3szrCAWTgEE"
      }
    },
    {
      "cell_type": "code",
      "source": [
        "# Basado en los los métodos Elbow y Silhouette, el número óptimo de clusters para K-Means es 3\n",
        "kmeans = KMeans(n_clusters=3)\n",
        "kmeans.fit(X)"
      ],
      "metadata": {
        "colab": {
          "base_uri": "https://localhost:8080/",
          "height": 129
        },
        "id": "ClOmXw37C6V5",
        "outputId": "58a436b8-0087-4ba7-bb83-56360a6e7248"
      },
      "execution_count": 20,
      "outputs": [
        {
          "output_type": "stream",
          "name": "stderr",
          "text": [
            "/usr/local/lib/python3.10/dist-packages/sklearn/cluster/_kmeans.py:870: FutureWarning: The default value of `n_init` will change from 10 to 'auto' in 1.4. Set the value of `n_init` explicitly to suppress the warning\n",
            "  warnings.warn(\n"
          ]
        },
        {
          "output_type": "execute_result",
          "data": {
            "text/plain": [
              "KMeans(n_clusters=3)"
            ],
            "text/html": [
              "<style>#sk-container-id-2 {color: black;background-color: white;}#sk-container-id-2 pre{padding: 0;}#sk-container-id-2 div.sk-toggleable {background-color: white;}#sk-container-id-2 label.sk-toggleable__label {cursor: pointer;display: block;width: 100%;margin-bottom: 0;padding: 0.3em;box-sizing: border-box;text-align: center;}#sk-container-id-2 label.sk-toggleable__label-arrow:before {content: \"▸\";float: left;margin-right: 0.25em;color: #696969;}#sk-container-id-2 label.sk-toggleable__label-arrow:hover:before {color: black;}#sk-container-id-2 div.sk-estimator:hover label.sk-toggleable__label-arrow:before {color: black;}#sk-container-id-2 div.sk-toggleable__content {max-height: 0;max-width: 0;overflow: hidden;text-align: left;background-color: #f0f8ff;}#sk-container-id-2 div.sk-toggleable__content pre {margin: 0.2em;color: black;border-radius: 0.25em;background-color: #f0f8ff;}#sk-container-id-2 input.sk-toggleable__control:checked~div.sk-toggleable__content {max-height: 200px;max-width: 100%;overflow: auto;}#sk-container-id-2 input.sk-toggleable__control:checked~label.sk-toggleable__label-arrow:before {content: \"▾\";}#sk-container-id-2 div.sk-estimator input.sk-toggleable__control:checked~label.sk-toggleable__label {background-color: #d4ebff;}#sk-container-id-2 div.sk-label input.sk-toggleable__control:checked~label.sk-toggleable__label {background-color: #d4ebff;}#sk-container-id-2 input.sk-hidden--visually {border: 0;clip: rect(1px 1px 1px 1px);clip: rect(1px, 1px, 1px, 1px);height: 1px;margin: -1px;overflow: hidden;padding: 0;position: absolute;width: 1px;}#sk-container-id-2 div.sk-estimator {font-family: monospace;background-color: #f0f8ff;border: 1px dotted black;border-radius: 0.25em;box-sizing: border-box;margin-bottom: 0.5em;}#sk-container-id-2 div.sk-estimator:hover {background-color: #d4ebff;}#sk-container-id-2 div.sk-parallel-item::after {content: \"\";width: 100%;border-bottom: 1px solid gray;flex-grow: 1;}#sk-container-id-2 div.sk-label:hover label.sk-toggleable__label {background-color: #d4ebff;}#sk-container-id-2 div.sk-serial::before {content: \"\";position: absolute;border-left: 1px solid gray;box-sizing: border-box;top: 0;bottom: 0;left: 50%;z-index: 0;}#sk-container-id-2 div.sk-serial {display: flex;flex-direction: column;align-items: center;background-color: white;padding-right: 0.2em;padding-left: 0.2em;position: relative;}#sk-container-id-2 div.sk-item {position: relative;z-index: 1;}#sk-container-id-2 div.sk-parallel {display: flex;align-items: stretch;justify-content: center;background-color: white;position: relative;}#sk-container-id-2 div.sk-item::before, #sk-container-id-2 div.sk-parallel-item::before {content: \"\";position: absolute;border-left: 1px solid gray;box-sizing: border-box;top: 0;bottom: 0;left: 50%;z-index: -1;}#sk-container-id-2 div.sk-parallel-item {display: flex;flex-direction: column;z-index: 1;position: relative;background-color: white;}#sk-container-id-2 div.sk-parallel-item:first-child::after {align-self: flex-end;width: 50%;}#sk-container-id-2 div.sk-parallel-item:last-child::after {align-self: flex-start;width: 50%;}#sk-container-id-2 div.sk-parallel-item:only-child::after {width: 0;}#sk-container-id-2 div.sk-dashed-wrapped {border: 1px dashed gray;margin: 0 0.4em 0.5em 0.4em;box-sizing: border-box;padding-bottom: 0.4em;background-color: white;}#sk-container-id-2 div.sk-label label {font-family: monospace;font-weight: bold;display: inline-block;line-height: 1.2em;}#sk-container-id-2 div.sk-label-container {text-align: center;}#sk-container-id-2 div.sk-container {/* jupyter's `normalize.less` sets `[hidden] { display: none; }` but bootstrap.min.css set `[hidden] { display: none !important; }` so we also need the `!important` here to be able to override the default hidden behavior on the sphinx rendered scikit-learn.org. See: https://github.com/scikit-learn/scikit-learn/issues/21755 */display: inline-block !important;position: relative;}#sk-container-id-2 div.sk-text-repr-fallback {display: none;}</style><div id=\"sk-container-id-2\" class=\"sk-top-container\"><div class=\"sk-text-repr-fallback\"><pre>KMeans(n_clusters=3)</pre><b>In a Jupyter environment, please rerun this cell to show the HTML representation or trust the notebook. <br />On GitHub, the HTML representation is unable to render, please try loading this page with nbviewer.org.</b></div><div class=\"sk-container\" hidden><div class=\"sk-item\"><div class=\"sk-estimator sk-toggleable\"><input class=\"sk-toggleable__control sk-hidden--visually\" id=\"sk-estimator-id-2\" type=\"checkbox\" checked><label for=\"sk-estimator-id-2\" class=\"sk-toggleable__label sk-toggleable__label-arrow\">KMeans</label><div class=\"sk-toggleable__content\"><pre>KMeans(n_clusters=3)</pre></div></div></div></div></div>"
            ]
          },
          "metadata": {},
          "execution_count": 20
        }
      ]
    },
    {
      "cell_type": "code",
      "source": [
        "# DBSCAN clustering\n",
        "dbscan = DBSCAN(eps=1, min_samples=5)\n",
        "dbscan.fit(X)"
      ],
      "metadata": {
        "colab": {
          "base_uri": "https://localhost:8080/",
          "height": 75
        },
        "id": "jptjZ40yDHV0",
        "outputId": "c587c222-c341-4318-c564-ec66c2a3610d"
      },
      "execution_count": 21,
      "outputs": [
        {
          "output_type": "execute_result",
          "data": {
            "text/plain": [
              "DBSCAN(eps=1)"
            ],
            "text/html": [
              "<style>#sk-container-id-3 {color: black;background-color: white;}#sk-container-id-3 pre{padding: 0;}#sk-container-id-3 div.sk-toggleable {background-color: white;}#sk-container-id-3 label.sk-toggleable__label {cursor: pointer;display: block;width: 100%;margin-bottom: 0;padding: 0.3em;box-sizing: border-box;text-align: center;}#sk-container-id-3 label.sk-toggleable__label-arrow:before {content: \"▸\";float: left;margin-right: 0.25em;color: #696969;}#sk-container-id-3 label.sk-toggleable__label-arrow:hover:before {color: black;}#sk-container-id-3 div.sk-estimator:hover label.sk-toggleable__label-arrow:before {color: black;}#sk-container-id-3 div.sk-toggleable__content {max-height: 0;max-width: 0;overflow: hidden;text-align: left;background-color: #f0f8ff;}#sk-container-id-3 div.sk-toggleable__content pre {margin: 0.2em;color: black;border-radius: 0.25em;background-color: #f0f8ff;}#sk-container-id-3 input.sk-toggleable__control:checked~div.sk-toggleable__content {max-height: 200px;max-width: 100%;overflow: auto;}#sk-container-id-3 input.sk-toggleable__control:checked~label.sk-toggleable__label-arrow:before {content: \"▾\";}#sk-container-id-3 div.sk-estimator input.sk-toggleable__control:checked~label.sk-toggleable__label {background-color: #d4ebff;}#sk-container-id-3 div.sk-label input.sk-toggleable__control:checked~label.sk-toggleable__label {background-color: #d4ebff;}#sk-container-id-3 input.sk-hidden--visually {border: 0;clip: rect(1px 1px 1px 1px);clip: rect(1px, 1px, 1px, 1px);height: 1px;margin: -1px;overflow: hidden;padding: 0;position: absolute;width: 1px;}#sk-container-id-3 div.sk-estimator {font-family: monospace;background-color: #f0f8ff;border: 1px dotted black;border-radius: 0.25em;box-sizing: border-box;margin-bottom: 0.5em;}#sk-container-id-3 div.sk-estimator:hover {background-color: #d4ebff;}#sk-container-id-3 div.sk-parallel-item::after {content: \"\";width: 100%;border-bottom: 1px solid gray;flex-grow: 1;}#sk-container-id-3 div.sk-label:hover label.sk-toggleable__label {background-color: #d4ebff;}#sk-container-id-3 div.sk-serial::before {content: \"\";position: absolute;border-left: 1px solid gray;box-sizing: border-box;top: 0;bottom: 0;left: 50%;z-index: 0;}#sk-container-id-3 div.sk-serial {display: flex;flex-direction: column;align-items: center;background-color: white;padding-right: 0.2em;padding-left: 0.2em;position: relative;}#sk-container-id-3 div.sk-item {position: relative;z-index: 1;}#sk-container-id-3 div.sk-parallel {display: flex;align-items: stretch;justify-content: center;background-color: white;position: relative;}#sk-container-id-3 div.sk-item::before, #sk-container-id-3 div.sk-parallel-item::before {content: \"\";position: absolute;border-left: 1px solid gray;box-sizing: border-box;top: 0;bottom: 0;left: 50%;z-index: -1;}#sk-container-id-3 div.sk-parallel-item {display: flex;flex-direction: column;z-index: 1;position: relative;background-color: white;}#sk-container-id-3 div.sk-parallel-item:first-child::after {align-self: flex-end;width: 50%;}#sk-container-id-3 div.sk-parallel-item:last-child::after {align-self: flex-start;width: 50%;}#sk-container-id-3 div.sk-parallel-item:only-child::after {width: 0;}#sk-container-id-3 div.sk-dashed-wrapped {border: 1px dashed gray;margin: 0 0.4em 0.5em 0.4em;box-sizing: border-box;padding-bottom: 0.4em;background-color: white;}#sk-container-id-3 div.sk-label label {font-family: monospace;font-weight: bold;display: inline-block;line-height: 1.2em;}#sk-container-id-3 div.sk-label-container {text-align: center;}#sk-container-id-3 div.sk-container {/* jupyter's `normalize.less` sets `[hidden] { display: none; }` but bootstrap.min.css set `[hidden] { display: none !important; }` so we also need the `!important` here to be able to override the default hidden behavior on the sphinx rendered scikit-learn.org. See: https://github.com/scikit-learn/scikit-learn/issues/21755 */display: inline-block !important;position: relative;}#sk-container-id-3 div.sk-text-repr-fallback {display: none;}</style><div id=\"sk-container-id-3\" class=\"sk-top-container\"><div class=\"sk-text-repr-fallback\"><pre>DBSCAN(eps=1)</pre><b>In a Jupyter environment, please rerun this cell to show the HTML representation or trust the notebook. <br />On GitHub, the HTML representation is unable to render, please try loading this page with nbviewer.org.</b></div><div class=\"sk-container\" hidden><div class=\"sk-item\"><div class=\"sk-estimator sk-toggleable\"><input class=\"sk-toggleable__control sk-hidden--visually\" id=\"sk-estimator-id-3\" type=\"checkbox\" checked><label for=\"sk-estimator-id-3\" class=\"sk-toggleable__label sk-toggleable__label-arrow\">DBSCAN</label><div class=\"sk-toggleable__content\"><pre>DBSCAN(eps=1)</pre></div></div></div></div></div>"
            ]
          },
          "metadata": {},
          "execution_count": 21
        }
      ]
    },
    {
      "cell_type": "code",
      "source": [
        "# Se utliza silhoutte score para determinar los eps y min_samples óptimos para el algoritmo DBSCAN\n",
        "silhouette = []\n",
        "for eps in range(1, 11):\n",
        "    for min_samples in range(2, 11):\n",
        "        dbscan = DBSCAN(eps=eps, min_samples=min_samples)\n",
        "        dbscan.fit(X)\n",
        "        if len(set(dbscan.labels_)) > 1:\n",
        "            silhouette.append((eps, min_samples, silhouette_score(X, dbscan.labels_)))\n",
        "            \n",
        "optimal_eps, optimal_min_samples, optimal_silhouette = max(silhouette, key=lambda x: x[2])\n",
        "print(f\"Optimal eps: {optimal_eps}\")\n",
        "print(f\"Optimal min_samples: {optimal_min_samples}\")"
      ],
      "metadata": {
        "colab": {
          "base_uri": "https://localhost:8080/"
        },
        "id": "hMMOO2zpDLfy",
        "outputId": "658896f5-ab78-49d3-b0cf-9c7823921814"
      },
      "execution_count": 22,
      "outputs": [
        {
          "output_type": "stream",
          "name": "stdout",
          "text": [
            "Optimal eps: 10\n",
            "Optimal min_samples: 8\n"
          ]
        }
      ]
    },
    {
      "cell_type": "code",
      "source": [
        "# Se corre de nuevo algoritmo DBSCAN pero con los parametros optimos\n",
        "dbscan = DBSCAN(eps=optimal_eps, min_samples=optimal_min_samples)\n",
        "dbscan.fit(X)"
      ],
      "metadata": {
        "colab": {
          "base_uri": "https://localhost:8080/",
          "height": 75
        },
        "id": "wHo2KRQfGAB2",
        "outputId": "98ea7756-bb97-43f5-f35c-a3692622ca5c"
      },
      "execution_count": 23,
      "outputs": [
        {
          "output_type": "execute_result",
          "data": {
            "text/plain": [
              "DBSCAN(eps=10, min_samples=8)"
            ],
            "text/html": [
              "<style>#sk-container-id-4 {color: black;background-color: white;}#sk-container-id-4 pre{padding: 0;}#sk-container-id-4 div.sk-toggleable {background-color: white;}#sk-container-id-4 label.sk-toggleable__label {cursor: pointer;display: block;width: 100%;margin-bottom: 0;padding: 0.3em;box-sizing: border-box;text-align: center;}#sk-container-id-4 label.sk-toggleable__label-arrow:before {content: \"▸\";float: left;margin-right: 0.25em;color: #696969;}#sk-container-id-4 label.sk-toggleable__label-arrow:hover:before {color: black;}#sk-container-id-4 div.sk-estimator:hover label.sk-toggleable__label-arrow:before {color: black;}#sk-container-id-4 div.sk-toggleable__content {max-height: 0;max-width: 0;overflow: hidden;text-align: left;background-color: #f0f8ff;}#sk-container-id-4 div.sk-toggleable__content pre {margin: 0.2em;color: black;border-radius: 0.25em;background-color: #f0f8ff;}#sk-container-id-4 input.sk-toggleable__control:checked~div.sk-toggleable__content {max-height: 200px;max-width: 100%;overflow: auto;}#sk-container-id-4 input.sk-toggleable__control:checked~label.sk-toggleable__label-arrow:before {content: \"▾\";}#sk-container-id-4 div.sk-estimator input.sk-toggleable__control:checked~label.sk-toggleable__label {background-color: #d4ebff;}#sk-container-id-4 div.sk-label input.sk-toggleable__control:checked~label.sk-toggleable__label {background-color: #d4ebff;}#sk-container-id-4 input.sk-hidden--visually {border: 0;clip: rect(1px 1px 1px 1px);clip: rect(1px, 1px, 1px, 1px);height: 1px;margin: -1px;overflow: hidden;padding: 0;position: absolute;width: 1px;}#sk-container-id-4 div.sk-estimator {font-family: monospace;background-color: #f0f8ff;border: 1px dotted black;border-radius: 0.25em;box-sizing: border-box;margin-bottom: 0.5em;}#sk-container-id-4 div.sk-estimator:hover {background-color: #d4ebff;}#sk-container-id-4 div.sk-parallel-item::after {content: \"\";width: 100%;border-bottom: 1px solid gray;flex-grow: 1;}#sk-container-id-4 div.sk-label:hover label.sk-toggleable__label {background-color: #d4ebff;}#sk-container-id-4 div.sk-serial::before {content: \"\";position: absolute;border-left: 1px solid gray;box-sizing: border-box;top: 0;bottom: 0;left: 50%;z-index: 0;}#sk-container-id-4 div.sk-serial {display: flex;flex-direction: column;align-items: center;background-color: white;padding-right: 0.2em;padding-left: 0.2em;position: relative;}#sk-container-id-4 div.sk-item {position: relative;z-index: 1;}#sk-container-id-4 div.sk-parallel {display: flex;align-items: stretch;justify-content: center;background-color: white;position: relative;}#sk-container-id-4 div.sk-item::before, #sk-container-id-4 div.sk-parallel-item::before {content: \"\";position: absolute;border-left: 1px solid gray;box-sizing: border-box;top: 0;bottom: 0;left: 50%;z-index: -1;}#sk-container-id-4 div.sk-parallel-item {display: flex;flex-direction: column;z-index: 1;position: relative;background-color: white;}#sk-container-id-4 div.sk-parallel-item:first-child::after {align-self: flex-end;width: 50%;}#sk-container-id-4 div.sk-parallel-item:last-child::after {align-self: flex-start;width: 50%;}#sk-container-id-4 div.sk-parallel-item:only-child::after {width: 0;}#sk-container-id-4 div.sk-dashed-wrapped {border: 1px dashed gray;margin: 0 0.4em 0.5em 0.4em;box-sizing: border-box;padding-bottom: 0.4em;background-color: white;}#sk-container-id-4 div.sk-label label {font-family: monospace;font-weight: bold;display: inline-block;line-height: 1.2em;}#sk-container-id-4 div.sk-label-container {text-align: center;}#sk-container-id-4 div.sk-container {/* jupyter's `normalize.less` sets `[hidden] { display: none; }` but bootstrap.min.css set `[hidden] { display: none !important; }` so we also need the `!important` here to be able to override the default hidden behavior on the sphinx rendered scikit-learn.org. See: https://github.com/scikit-learn/scikit-learn/issues/21755 */display: inline-block !important;position: relative;}#sk-container-id-4 div.sk-text-repr-fallback {display: none;}</style><div id=\"sk-container-id-4\" class=\"sk-top-container\"><div class=\"sk-text-repr-fallback\"><pre>DBSCAN(eps=10, min_samples=8)</pre><b>In a Jupyter environment, please rerun this cell to show the HTML representation or trust the notebook. <br />On GitHub, the HTML representation is unable to render, please try loading this page with nbviewer.org.</b></div><div class=\"sk-container\" hidden><div class=\"sk-item\"><div class=\"sk-estimator sk-toggleable\"><input class=\"sk-toggleable__control sk-hidden--visually\" id=\"sk-estimator-id-4\" type=\"checkbox\" checked><label for=\"sk-estimator-id-4\" class=\"sk-toggleable__label sk-toggleable__label-arrow\">DBSCAN</label><div class=\"sk-toggleable__content\"><pre>DBSCAN(eps=10, min_samples=8)</pre></div></div></div></div></div>"
            ]
          },
          "metadata": {},
          "execution_count": 23
        }
      ]
    },
    {
      "cell_type": "code",
      "source": [
        "# Agglometrative clustering\n",
        "agg = AgglomerativeClustering(n_clusters=3)\n",
        "agg.fit(X)"
      ],
      "metadata": {
        "colab": {
          "base_uri": "https://localhost:8080/",
          "height": 75
        },
        "id": "HhsO30a1GJ_Q",
        "outputId": "f5ff0dc9-bd64-45b9-c4ed-c80d4e36ad7e"
      },
      "execution_count": 24,
      "outputs": [
        {
          "output_type": "execute_result",
          "data": {
            "text/plain": [
              "AgglomerativeClustering(n_clusters=3)"
            ],
            "text/html": [
              "<style>#sk-container-id-5 {color: black;background-color: white;}#sk-container-id-5 pre{padding: 0;}#sk-container-id-5 div.sk-toggleable {background-color: white;}#sk-container-id-5 label.sk-toggleable__label {cursor: pointer;display: block;width: 100%;margin-bottom: 0;padding: 0.3em;box-sizing: border-box;text-align: center;}#sk-container-id-5 label.sk-toggleable__label-arrow:before {content: \"▸\";float: left;margin-right: 0.25em;color: #696969;}#sk-container-id-5 label.sk-toggleable__label-arrow:hover:before {color: black;}#sk-container-id-5 div.sk-estimator:hover label.sk-toggleable__label-arrow:before {color: black;}#sk-container-id-5 div.sk-toggleable__content {max-height: 0;max-width: 0;overflow: hidden;text-align: left;background-color: #f0f8ff;}#sk-container-id-5 div.sk-toggleable__content pre {margin: 0.2em;color: black;border-radius: 0.25em;background-color: #f0f8ff;}#sk-container-id-5 input.sk-toggleable__control:checked~div.sk-toggleable__content {max-height: 200px;max-width: 100%;overflow: auto;}#sk-container-id-5 input.sk-toggleable__control:checked~label.sk-toggleable__label-arrow:before {content: \"▾\";}#sk-container-id-5 div.sk-estimator input.sk-toggleable__control:checked~label.sk-toggleable__label {background-color: #d4ebff;}#sk-container-id-5 div.sk-label input.sk-toggleable__control:checked~label.sk-toggleable__label {background-color: #d4ebff;}#sk-container-id-5 input.sk-hidden--visually {border: 0;clip: rect(1px 1px 1px 1px);clip: rect(1px, 1px, 1px, 1px);height: 1px;margin: -1px;overflow: hidden;padding: 0;position: absolute;width: 1px;}#sk-container-id-5 div.sk-estimator {font-family: monospace;background-color: #f0f8ff;border: 1px dotted black;border-radius: 0.25em;box-sizing: border-box;margin-bottom: 0.5em;}#sk-container-id-5 div.sk-estimator:hover {background-color: #d4ebff;}#sk-container-id-5 div.sk-parallel-item::after {content: \"\";width: 100%;border-bottom: 1px solid gray;flex-grow: 1;}#sk-container-id-5 div.sk-label:hover label.sk-toggleable__label {background-color: #d4ebff;}#sk-container-id-5 div.sk-serial::before {content: \"\";position: absolute;border-left: 1px solid gray;box-sizing: border-box;top: 0;bottom: 0;left: 50%;z-index: 0;}#sk-container-id-5 div.sk-serial {display: flex;flex-direction: column;align-items: center;background-color: white;padding-right: 0.2em;padding-left: 0.2em;position: relative;}#sk-container-id-5 div.sk-item {position: relative;z-index: 1;}#sk-container-id-5 div.sk-parallel {display: flex;align-items: stretch;justify-content: center;background-color: white;position: relative;}#sk-container-id-5 div.sk-item::before, #sk-container-id-5 div.sk-parallel-item::before {content: \"\";position: absolute;border-left: 1px solid gray;box-sizing: border-box;top: 0;bottom: 0;left: 50%;z-index: -1;}#sk-container-id-5 div.sk-parallel-item {display: flex;flex-direction: column;z-index: 1;position: relative;background-color: white;}#sk-container-id-5 div.sk-parallel-item:first-child::after {align-self: flex-end;width: 50%;}#sk-container-id-5 div.sk-parallel-item:last-child::after {align-self: flex-start;width: 50%;}#sk-container-id-5 div.sk-parallel-item:only-child::after {width: 0;}#sk-container-id-5 div.sk-dashed-wrapped {border: 1px dashed gray;margin: 0 0.4em 0.5em 0.4em;box-sizing: border-box;padding-bottom: 0.4em;background-color: white;}#sk-container-id-5 div.sk-label label {font-family: monospace;font-weight: bold;display: inline-block;line-height: 1.2em;}#sk-container-id-5 div.sk-label-container {text-align: center;}#sk-container-id-5 div.sk-container {/* jupyter's `normalize.less` sets `[hidden] { display: none; }` but bootstrap.min.css set `[hidden] { display: none !important; }` so we also need the `!important` here to be able to override the default hidden behavior on the sphinx rendered scikit-learn.org. See: https://github.com/scikit-learn/scikit-learn/issues/21755 */display: inline-block !important;position: relative;}#sk-container-id-5 div.sk-text-repr-fallback {display: none;}</style><div id=\"sk-container-id-5\" class=\"sk-top-container\"><div class=\"sk-text-repr-fallback\"><pre>AgglomerativeClustering(n_clusters=3)</pre><b>In a Jupyter environment, please rerun this cell to show the HTML representation or trust the notebook. <br />On GitHub, the HTML representation is unable to render, please try loading this page with nbviewer.org.</b></div><div class=\"sk-container\" hidden><div class=\"sk-item\"><div class=\"sk-estimator sk-toggleable\"><input class=\"sk-toggleable__control sk-hidden--visually\" id=\"sk-estimator-id-5\" type=\"checkbox\" checked><label for=\"sk-estimator-id-5\" class=\"sk-toggleable__label sk-toggleable__label-arrow\">AgglomerativeClustering</label><div class=\"sk-toggleable__content\"><pre>AgglomerativeClustering(n_clusters=3)</pre></div></div></div></div></div>"
            ]
          },
          "metadata": {},
          "execution_count": 24
        }
      ]
    },
    {
      "cell_type": "code",
      "source": [
        "# Se evalua el modelo K-Means con el silhouette score\n",
        "kmeans_silhouette = silhouette_score(X, kmeans.labels_)\n",
        "print(f\"K-Means silhouette score: {kmeans_silhouette}\")"
      ],
      "metadata": {
        "colab": {
          "base_uri": "https://localhost:8080/"
        },
        "id": "RhsrvsbvGTjO",
        "outputId": "71f03209-2355-4fc4-dcd4-3b02b2936845"
      },
      "execution_count": 25,
      "outputs": [
        {
          "output_type": "stream",
          "name": "stdout",
          "text": [
            "K-Means silhouette score: 0.36578495957720514\n"
          ]
        }
      ]
    },
    {
      "cell_type": "code",
      "source": [
        "# Se evalua el modelo DBSCAN con el silhouette score\n",
        "dbscan_silhouette = silhouette_score(X, dbscan.labels_)\n",
        "print(f\"DBSCAN silhouette score: {dbscan_silhouette}\")"
      ],
      "metadata": {
        "colab": {
          "base_uri": "https://localhost:8080/"
        },
        "id": "Ie4okBC_Gb-q",
        "outputId": "7e293f8d-fbc2-4e8f-ef1e-17b6e257f3eb"
      },
      "execution_count": 26,
      "outputs": [
        {
          "output_type": "stream",
          "name": "stdout",
          "text": [
            "DBSCAN silhouette score: 0.37639724559664395\n"
          ]
        }
      ]
    },
    {
      "cell_type": "code",
      "source": [
        "# Se evalua el modelo Agglomerative clustering con el silhoutte score\n",
        "agg_silhouette = silhouette_score(X, agg.labels_)\n",
        "print(f\"Agglomerative clustering silhouette score: {agg_silhouette}\")"
      ],
      "metadata": {
        "colab": {
          "base_uri": "https://localhost:8080/"
        },
        "id": "2_peDIphGkFx",
        "outputId": "cdd1da8d-9d64-4d4b-bf60-85f95da91863"
      },
      "execution_count": 27,
      "outputs": [
        {
          "output_type": "stream",
          "name": "stdout",
          "text": [
            "Agglomerative clustering silhouette score: 0.2937955090484408\n"
          ]
        }
      ]
    },
    {
      "cell_type": "code",
      "source": [
        "# Ajuste del modelo de Gaussian Mixture a los datos\n",
        "gmm = GaussianMixture(n_components=3)\n",
        "gmm.fit(X)"
      ],
      "metadata": {
        "colab": {
          "base_uri": "https://localhost:8080/",
          "height": 75
        },
        "id": "sqhT2Nv8Gs_d",
        "outputId": "ffa5698b-0515-401c-9bad-275db6bff2d2"
      },
      "execution_count": 28,
      "outputs": [
        {
          "output_type": "execute_result",
          "data": {
            "text/plain": [
              "GaussianMixture(n_components=3)"
            ],
            "text/html": [
              "<style>#sk-container-id-6 {color: black;background-color: white;}#sk-container-id-6 pre{padding: 0;}#sk-container-id-6 div.sk-toggleable {background-color: white;}#sk-container-id-6 label.sk-toggleable__label {cursor: pointer;display: block;width: 100%;margin-bottom: 0;padding: 0.3em;box-sizing: border-box;text-align: center;}#sk-container-id-6 label.sk-toggleable__label-arrow:before {content: \"▸\";float: left;margin-right: 0.25em;color: #696969;}#sk-container-id-6 label.sk-toggleable__label-arrow:hover:before {color: black;}#sk-container-id-6 div.sk-estimator:hover label.sk-toggleable__label-arrow:before {color: black;}#sk-container-id-6 div.sk-toggleable__content {max-height: 0;max-width: 0;overflow: hidden;text-align: left;background-color: #f0f8ff;}#sk-container-id-6 div.sk-toggleable__content pre {margin: 0.2em;color: black;border-radius: 0.25em;background-color: #f0f8ff;}#sk-container-id-6 input.sk-toggleable__control:checked~div.sk-toggleable__content {max-height: 200px;max-width: 100%;overflow: auto;}#sk-container-id-6 input.sk-toggleable__control:checked~label.sk-toggleable__label-arrow:before {content: \"▾\";}#sk-container-id-6 div.sk-estimator input.sk-toggleable__control:checked~label.sk-toggleable__label {background-color: #d4ebff;}#sk-container-id-6 div.sk-label input.sk-toggleable__control:checked~label.sk-toggleable__label {background-color: #d4ebff;}#sk-container-id-6 input.sk-hidden--visually {border: 0;clip: rect(1px 1px 1px 1px);clip: rect(1px, 1px, 1px, 1px);height: 1px;margin: -1px;overflow: hidden;padding: 0;position: absolute;width: 1px;}#sk-container-id-6 div.sk-estimator {font-family: monospace;background-color: #f0f8ff;border: 1px dotted black;border-radius: 0.25em;box-sizing: border-box;margin-bottom: 0.5em;}#sk-container-id-6 div.sk-estimator:hover {background-color: #d4ebff;}#sk-container-id-6 div.sk-parallel-item::after {content: \"\";width: 100%;border-bottom: 1px solid gray;flex-grow: 1;}#sk-container-id-6 div.sk-label:hover label.sk-toggleable__label {background-color: #d4ebff;}#sk-container-id-6 div.sk-serial::before {content: \"\";position: absolute;border-left: 1px solid gray;box-sizing: border-box;top: 0;bottom: 0;left: 50%;z-index: 0;}#sk-container-id-6 div.sk-serial {display: flex;flex-direction: column;align-items: center;background-color: white;padding-right: 0.2em;padding-left: 0.2em;position: relative;}#sk-container-id-6 div.sk-item {position: relative;z-index: 1;}#sk-container-id-6 div.sk-parallel {display: flex;align-items: stretch;justify-content: center;background-color: white;position: relative;}#sk-container-id-6 div.sk-item::before, #sk-container-id-6 div.sk-parallel-item::before {content: \"\";position: absolute;border-left: 1px solid gray;box-sizing: border-box;top: 0;bottom: 0;left: 50%;z-index: -1;}#sk-container-id-6 div.sk-parallel-item {display: flex;flex-direction: column;z-index: 1;position: relative;background-color: white;}#sk-container-id-6 div.sk-parallel-item:first-child::after {align-self: flex-end;width: 50%;}#sk-container-id-6 div.sk-parallel-item:last-child::after {align-self: flex-start;width: 50%;}#sk-container-id-6 div.sk-parallel-item:only-child::after {width: 0;}#sk-container-id-6 div.sk-dashed-wrapped {border: 1px dashed gray;margin: 0 0.4em 0.5em 0.4em;box-sizing: border-box;padding-bottom: 0.4em;background-color: white;}#sk-container-id-6 div.sk-label label {font-family: monospace;font-weight: bold;display: inline-block;line-height: 1.2em;}#sk-container-id-6 div.sk-label-container {text-align: center;}#sk-container-id-6 div.sk-container {/* jupyter's `normalize.less` sets `[hidden] { display: none; }` but bootstrap.min.css set `[hidden] { display: none !important; }` so we also need the `!important` here to be able to override the default hidden behavior on the sphinx rendered scikit-learn.org. See: https://github.com/scikit-learn/scikit-learn/issues/21755 */display: inline-block !important;position: relative;}#sk-container-id-6 div.sk-text-repr-fallback {display: none;}</style><div id=\"sk-container-id-6\" class=\"sk-top-container\"><div class=\"sk-text-repr-fallback\"><pre>GaussianMixture(n_components=3)</pre><b>In a Jupyter environment, please rerun this cell to show the HTML representation or trust the notebook. <br />On GitHub, the HTML representation is unable to render, please try loading this page with nbviewer.org.</b></div><div class=\"sk-container\" hidden><div class=\"sk-item\"><div class=\"sk-estimator sk-toggleable\"><input class=\"sk-toggleable__control sk-hidden--visually\" id=\"sk-estimator-id-6\" type=\"checkbox\" checked><label for=\"sk-estimator-id-6\" class=\"sk-toggleable__label sk-toggleable__label-arrow\">GaussianMixture</label><div class=\"sk-toggleable__content\"><pre>GaussianMixture(n_components=3)</pre></div></div></div></div></div>"
            ]
          },
          "metadata": {},
          "execution_count": 28
        }
      ]
    },
    {
      "cell_type": "code",
      "source": [
        "# Se evalua el modelo Gaussian Mixture con el silhoutte score\n",
        "gmm_silhouette = silhouette_score(X, gmm.predict(X))\n",
        "print(f\"Gaussian Mixture Model silhouette score: {gmm_silhouette}\")"
      ],
      "metadata": {
        "colab": {
          "base_uri": "https://localhost:8080/"
        },
        "id": "uBIxmHe9G4TH",
        "outputId": "ac16fb0b-bdd8-4e0d-f2c4-1a0f680288c7"
      },
      "execution_count": 29,
      "outputs": [
        {
          "output_type": "stream",
          "name": "stdout",
          "text": [
            "Gaussian Mixture Model silhouette score: 0.035403066886578995\n"
          ]
        }
      ]
    },
    {
      "cell_type": "code",
      "source": [
        "print(\"K-Means silhouette score:         \", kmeans_silhouette)\n",
        "print(\"DBSCAN silhouette score:          \", dbscan_silhouette)\n",
        "print(\"Agglomerative clustering score:   \", agg_silhouette)\n",
        "print(\"Gaussian Mixture Model score:     \", gmm_silhouette)"
      ],
      "metadata": {
        "colab": {
          "base_uri": "https://localhost:8080/"
        },
        "id": "lCtCP2mGBQQf",
        "outputId": "d3d05855-ed6d-4eab-8a0c-ba2398d9e3d2"
      },
      "execution_count": 44,
      "outputs": [
        {
          "output_type": "stream",
          "name": "stdout",
          "text": [
            "K-Means silhouette score:          0.36578495957720514\n",
            "DBSCAN silhouette score:           0.37639724559664395\n",
            "Agglomerative clustering score:    0.2937955090484408\n",
            "Gaussian Mixture Model score:      0.035403066886578995\n"
          ]
        }
      ]
    },
    {
      "cell_type": "code",
      "source": [
        "# Se obtienen las etiquetas de clúster para k-Means\n",
        "kmeans_labels = kmeans.predict(X)\n",
        "\n",
        "# Creacion del diagrama de dispersión, coloreados por su etiqueta de grupo\n",
        "plt.scatter(X.iloc[:,0], X.iloc[:,1], c=kmeans_labels, cmap='viridis')\n",
        "\n",
        "# Se agregan las etiquetas de ejes y un título a la gráfica\n",
        "plt.xlabel('XDelito')\n",
        "plt.ylabel('XSubDelito')\n",
        "plt.title('K-Means Clustering Results')\n",
        "\n",
        "# Mostrar el grafico\n",
        "plt.show()"
      ],
      "metadata": {
        "colab": {
          "base_uri": "https://localhost:8080/",
          "height": 472
        },
        "id": "h0jTi-UiHTnS",
        "outputId": "27764833-0261-4a4b-ea9e-963c34181ad3"
      },
      "execution_count": 30,
      "outputs": [
        {
          "output_type": "display_data",
          "data": {
            "text/plain": [
              "<Figure size 640x480 with 1 Axes>"
            ],
            "image/png": "[encoded data removed]"
          },
          "metadata": {}
        }
      ]
    },
    {
      "cell_type": "code",
      "source": [
        "# Se obtienen las etiquetas de clúster para Agglomerative Clustering\n",
        "agg_labels = agg.labels_\n",
        "\n",
        "# Creacion del diagrama de dispersión, coloreados por su etiqueta de grupo\n",
        "plt.scatter(X.iloc[:,0], X.iloc[:,1], c=agg_labels, cmap='viridis')\n",
        "\n",
        "# Se agregan las etiquetas de ejes y un título a la gráfica\n",
        "plt.xlabel('XDelito')\n",
        "plt.ylabel('XSubDelito')\n",
        "plt.title('Agglomerative Clustering Results')\n",
        "\n",
        "# Mostrar el grafico\n",
        "plt.show()"
      ],
      "metadata": {
        "colab": {
          "base_uri": "https://localhost:8080/",
          "height": 472
        },
        "id": "GYlL5AvBJcDk",
        "outputId": "d5b053d7-74f8-4fb6-8bd0-bc6af934e49b"
      },
      "execution_count": 31,
      "outputs": [
        {
          "output_type": "display_data",
          "data": {
            "text/plain": [
              "<Figure size 640x480 with 1 Axes>"
            ],
            "image/png": "[encoded data removed]"
          },
          "metadata": {}
        }
      ]
    },
    {
      "cell_type": "code",
      "source": [
        "# Se crea una matriz de vinculación usando el método 'ward'\n",
        "Z = linkage(X, method='ward')\n",
        "\n",
        "# Creacion del dendrograma\n",
        "plt.figure(figsize=(10, 5))\n",
        "dendrogram(Z)\n",
        "plt.xlabel('Sample Index')\n",
        "plt.ylabel('Distance')\n",
        "plt.title('Dendrogram')\n",
        "plt.show()"
      ],
      "metadata": {
        "colab": {
          "base_uri": "https://localhost:8080/",
          "height": 496
        },
        "id": "O2SsB9J9LFVG",
        "outputId": "4ab06366-476e-46b8-b3c7-b6709afff008"
      },
      "execution_count": 32,
      "outputs": [
        {
          "output_type": "display_data",
          "data": {
            "text/plain": [
              "<Figure size 1000x500 with 1 Axes>"
            ],
            "image/png": "[encoded data removed]"
          },
          "metadata": {}
        }
      ]
    },
    {
      "cell_type": "markdown",
      "source": [
        "***El eje x en el dendrograma representa los puntos de datos o grupos que se analizan, mientras que el eje y representa la distancia o similitud entre ellos***\n",
        "\n",
        "Eldendrograma es un diagrama en forma de árbol que muestra las relaciones entre los puntos de datos, basado tanto como en sus similitudes o como en sus diferencias. \n",
        "\n",
        "Se utiliza comúnmente en el análisis de datos y el aprendizaje automático para visualizar resultados de clusterin y para identificar patrones en conjuntos de datos grandes. Las ramas representan los grupos de puntos de datos, y la longitud de las ramas logran indicar el nivel de similitud o distancia entre los grupos. Al analizar este dendrograma, se pueden obtener ideas sobre la estructura y organización de los datos a trabajar.\n"
      ],
      "metadata": {
        "id": "p8O8DsCiUOYe"
      }
    },
    {
      "cell_type": "code",
      "source": [
        "# Generar etiquetas de los clusters para cada algoritmo\n",
        "kmeans_labels = kmeans.labels_\n",
        "dbscan_labels = dbscan.labels_\n",
        "agg_labels = agg.labels_\n",
        "gmm_labels = gmm.predict(X)"
      ],
      "metadata": {
        "id": "1fI9QzVKM7wf"
      },
      "execution_count": 33,
      "outputs": []
    },
    {
      "cell_type": "code",
      "source": [
        "# Se agregan las etiquetas al dataframe original\n",
        "df[\"KMeans_Cluster\"] = kmeans_labels\n",
        "df[\"DBSCAN_Cluster\"] = dbscan_labels\n",
        "df[\"Agglomerative_Cluster\"] = agg_labels\n",
        "df[\"GMM_Cluster\"] = gmm_labels"
      ],
      "metadata": {
        "id": "V7pAP0B1NDUa"
      },
      "execution_count": 34,
      "outputs": []
    },
    {
      "cell_type": "code",
      "source": [
        "# Se guarda el DataFrame con las etiquetas como un archivo CSV\n",
        "df.to_csv(\"labeled_dataset.csv\", index=False)"
      ],
      "metadata": {
        "id": "BTqzCO8KNLpg"
      },
      "execution_count": 35,
      "outputs": []
    },
    {
      "cell_type": "code",
      "source": [
        "# Mostrar conjunto de datos final\n",
        "df"
      ],
      "metadata": {
        "colab": {
          "base_uri": "https://localhost:8080/",
          "height": 870
        },
        "id": "xpLmI6inNVcd",
        "outputId": "3b574d0c-6e14-412f-eddf-197e574d14da"
      },
      "execution_count": 36,
      "outputs": [
        {
          "output_type": "execute_result",
          "data": {
            "text/plain": [
              "                  Delito          SubDelito      Fecha              Victima  \\\n",
              "0                 ASALTO        ARMA BLANCA 2023-01-03  12:00:00 - 14:59:59   \n",
              "1                 ASALTO        ARMA BLANCA 2023-01-03  18:00:00 - 20:59:59   \n",
              "2                 ASALTO        ARMA BLANCA 2023-01-07  21:00:00 - 23:59:59   \n",
              "3                 ASALTO        ARMA BLANCA 2023-01-08  18:00:00 - 20:59:59   \n",
              "4                 ASALTO        ARMA BLANCA 2023-01-11  15:00:00 - 17:59:59   \n",
              "...                  ...                ...        ...                  ...   \n",
              "19576  TACHA DE VEHICULO  TACHA DE VEHICULO 2023-05-19  21:00:00 - 23:59:59   \n",
              "19577  TACHA DE VEHICULO  TACHA DE VEHICULO 2023-05-19  15:00:00 - 17:59:59   \n",
              "19578  TACHA DE VEHICULO  TACHA DE VEHICULO 2023-05-22  18:00:00 - 20:59:59   \n",
              "19579  TACHA DE VEHICULO  TACHA DE VEHICULO 2023-05-22  18:00:00 - 20:59:59   \n",
              "19580  TACHA DE VEHICULO  TACHA DE VEHICULO 2023-03-26  18:00:00 - 20:59:59   \n",
              "\n",
              "      SubVictima                                               Edad  \\\n",
              "0        PERSONA                                   PEATON [PERSONA]   \n",
              "1        PERSONA                            MENOR DE EDAD [PERSONA]   \n",
              "2        PERSONA                                   PEATON [PERSONA]   \n",
              "3       VIVIENDA                               NO APLICA [VIVIENDA]   \n",
              "4        PERSONA                                   PEATON [PERSONA]   \n",
              "...          ...                                                ...   \n",
              "19576   VEHICULO                               AUTOMOVIL [VEHICULO]   \n",
              "19577   VEHICULO                               AUTOMOVIL [VEHICULO]   \n",
              "19578   VEHICULO                               AUTOMOVIL [VEHICULO]   \n",
              "19579   VEHICULO                               AUTOMOVIL [VEHICULO]   \n",
              "19580   VEHICULO  SERVICIO PUBLICO/TAXI LEGAL O PIRATA/AUTOBUS [...   \n",
              "\n",
              "              Genero Nacionalidad    Provincia      Canton  ... XEdad  \\\n",
              "0      Menor de edad       HOMBRE   COSTA RICA       LIMON  ...   0.0   \n",
              "1      Menor de edad       HOMBRE   COSTA RICA    ALAJUELA  ...   1.0   \n",
              "2      Mayor de edad       HOMBRE    NICARAGUA     HEREDIA  ...   0.0   \n",
              "3      Mayor de edad        MUJER   COSTA RICA  PUNTARENAS  ...   2.0   \n",
              "4        Desconocido  DESCONOCIDO    NICARAGUA     CARTAGO  ...   0.0   \n",
              "...              ...          ...          ...         ...  ...   ...   \n",
              "19576  Mayor de edad       HOMBRE   COSTA RICA    SAN JOSE  ...   9.0   \n",
              "19577   Adulto Mayor       HOMBRE   COSTA RICA     CARTAGO  ...   9.0   \n",
              "19578  Mayor de edad       HOMBRE   COSTA RICA    ALAJUELA  ...   9.0   \n",
              "19579  Mayor de edad       HOMBRE   COSTA RICA    SAN JOSE  ...   9.0   \n",
              "19580    Desconocido  DESCONOCIDO  Desconocido    SAN JOSE  ...   7.0   \n",
              "\n",
              "       XGenero  XNacionalidad  XProvincia  XCanton  XDistrito  KMeans_Cluster  \\\n",
              "0          0.0            0.0         0.0      0.0        0.0               0   \n",
              "1          0.0            0.0         0.0      1.0        1.0               0   \n",
              "2          1.0            0.0         1.0      2.0        2.0               0   \n",
              "3          1.0            1.0         0.0      3.0        3.0               0   \n",
              "4          2.0            2.0         1.0      4.0        4.0               0   \n",
              "...        ...            ...         ...      ...        ...             ...   \n",
              "19576      1.0            0.0         0.0      5.0        5.0               0   \n",
              "19577      3.0            0.0         0.0      4.0       24.0               2   \n",
              "19578      1.0            0.0         0.0      1.0        6.0               0   \n",
              "19579      1.0            0.0         0.0      5.0       52.0               2   \n",
              "19580      2.0            2.0         2.0      5.0        7.0               0   \n",
              "\n",
              "       DBSCAN_Cluster  Agglomerative_Cluster  GMM_Cluster  \n",
              "0                   0                      1            1  \n",
              "1                   0                      1            1  \n",
              "2                   0                      1            2  \n",
              "3                   0                      1            1  \n",
              "4                   0                      1            0  \n",
              "...               ...                    ...          ...  \n",
              "19576               0                      1            1  \n",
              "19577               0                      2            1  \n",
              "19578               0                      1            1  \n",
              "19579               0                      2            1  \n",
              "19580               0                      1            2  \n",
              "\n",
              "[19581 rows x 25 columns]"
            ],
            "text/html": [
              "\n",
              "  <div id=\"df-60dae078-0545-4c24-bbda-185d0f4653d8\">\n",
              "    <div class=\"colab-df-container\">\n",
              "      <div>\n",
              "<style scoped>\n",
              "    .dataframe tbody tr th:only-of-type {\n",
              "        vertical-align: middle;\n",
              "    }\n",
              "\n",
              "    .dataframe tbody tr th {\n",
              "        vertical-align: top;\n",
              "    }\n",
              "\n",
              "    .dataframe thead th {\n",
              "        text-align: right;\n",
              "    }\n",
              "</style>\n",
              "<table border=\"1\" class=\"dataframe\">\n",
              "  <thead>\n",
              "    <tr style=\"text-align: right;\">\n",
              "      <th></th>\n",
              "      <th>Delito</th>\n",
              "      <th>SubDelito</th>\n",
              "      <th>Fecha</th>\n",
              "      <th>Victima</th>\n",
              "      <th>SubVictima</th>\n",
              "      <th>Edad</th>\n",
              "      <th>Genero</th>\n",
              "      <th>Nacionalidad</th>\n",
              "      <th>Provincia</th>\n",
              "      <th>Canton</th>\n",
              "      <th>...</th>\n",
              "      <th>XEdad</th>\n",
              "      <th>XGenero</th>\n",
              "      <th>XNacionalidad</th>\n",
              "      <th>XProvincia</th>\n",
              "      <th>XCanton</th>\n",
              "      <th>XDistrito</th>\n",
              "      <th>KMeans_Cluster</th>\n",
              "      <th>DBSCAN_Cluster</th>\n",
              "      <th>Agglomerative_Cluster</th>\n",
              "      <th>GMM_Cluster</th>\n",
              "    </tr>\n",
              "  </thead>\n",
              "  <tbody>\n",
              "    <tr>\n",
              "      <th>0</th>\n",
              "      <td>ASALTO</td>\n",
              "      <td>ARMA BLANCA</td>\n",
              "      <td>2023-01-03</td>\n",
              "      <td>12:00:00 - 14:59:59</td>\n",
              "      <td>PERSONA</td>\n",
              "      <td>PEATON [PERSONA]</td>\n",
              "      <td>Menor de edad</td>\n",
              "      <td>HOMBRE</td>\n",
              "      <td>COSTA RICA</td>\n",
              "      <td>LIMON</td>\n",
              "      <td>...</td>\n",
              "      <td>0.0</td>\n",
              "      <td>0.0</td>\n",
              "      <td>0.0</td>\n",
              "      <td>0.0</td>\n",
              "      <td>0.0</td>\n",
              "      <td>0.0</td>\n",
              "      <td>0</td>\n",
              "      <td>0</td>\n",
              "      <td>1</td>\n",
              "      <td>1</td>\n",
              "    </tr>\n",
              "    <tr>\n",
              "      <th>1</th>\n",
              "      <td>ASALTO</td>\n",
              "      <td>ARMA BLANCA</td>\n",
              "      <td>2023-01-03</td>\n",
              "      <td>18:00:00 - 20:59:59</td>\n",
              "      <td>PERSONA</td>\n",
              "      <td>MENOR DE EDAD [PERSONA]</td>\n",
              "      <td>Menor de edad</td>\n",
              "      <td>HOMBRE</td>\n",
              "      <td>COSTA RICA</td>\n",
              "      <td>ALAJUELA</td>\n",
              "      <td>...</td>\n",
              "      <td>1.0</td>\n",
              "      <td>0.0</td>\n",
              "      <td>0.0</td>\n",
              "      <td>0.0</td>\n",
              "      <td>1.0</td>\n",
              "      <td>1.0</td>\n",
              "      <td>0</td>\n",
              "      <td>0</td>\n",
              "      <td>1</td>\n",
              "      <td>1</td>\n",
              "    </tr>\n",
              "    <tr>\n",
              "      <th>2</th>\n",
              "      <td>ASALTO</td>\n",
              "      <td>ARMA BLANCA</td>\n",
              "      <td>2023-01-07</td>\n",
              "      <td>21:00:00 - 23:59:59</td>\n",
              "      <td>PERSONA</td>\n",
              "      <td>PEATON [PERSONA]</td>\n",
              "      <td>Mayor de edad</td>\n",
              "      <td>HOMBRE</td>\n",
              "      <td>NICARAGUA</td>\n",
              "      <td>HEREDIA</td>\n",
              "      <td>...</td>\n",
              "      <td>0.0</td>\n",
              "      <td>1.0</td>\n",
              "      <td>0.0</td>\n",
              "      <td>1.0</td>\n",
              "      <td>2.0</td>\n",
              "      <td>2.0</td>\n",
              "      <td>0</td>\n",
              "      <td>0</td>\n",
              "      <td>1</td>\n",
              "      <td>2</td>\n",
              "    </tr>\n",
              "    <tr>\n",
              "      <th>3</th>\n",
              "      <td>ASALTO</td>\n",
              "      <td>ARMA BLANCA</td>\n",
              "      <td>2023-01-08</td>\n",
              "      <td>18:00:00 - 20:59:59</td>\n",
              "      <td>VIVIENDA</td>\n",
              "      <td>NO APLICA [VIVIENDA]</td>\n",
              "      <td>Mayor de edad</td>\n",
              "      <td>MUJER</td>\n",
              "      <td>COSTA RICA</td>\n",
              "      <td>PUNTARENAS</td>\n",
              "      <td>...</td>\n",
              "      <td>2.0</td>\n",
              "      <td>1.0</td>\n",
              "      <td>1.0</td>\n",
              "      <td>0.0</td>\n",
              "      <td>3.0</td>\n",
              "      <td>3.0</td>\n",
              "      <td>0</td>\n",
              "      <td>0</td>\n",
              "      <td>1</td>\n",
              "      <td>1</td>\n",
              "    </tr>\n",
              "    <tr>\n",
              "      <th>4</th>\n",
              "      <td>ASALTO</td>\n",
              "      <td>ARMA BLANCA</td>\n",
              "      <td>2023-01-11</td>\n",
              "      <td>15:00:00 - 17:59:59</td>\n",
              "      <td>PERSONA</td>\n",
              "      <td>PEATON [PERSONA]</td>\n",
              "      <td>Desconocido</td>\n",
              "      <td>DESCONOCIDO</td>\n",
              "      <td>NICARAGUA</td>\n",
              "      <td>CARTAGO</td>\n",
              "      <td>...</td>\n",
              "      <td>0.0</td>\n",
              "      <td>2.0</td>\n",
              "      <td>2.0</td>\n",
              "      <td>1.0</td>\n",
              "      <td>4.0</td>\n",
              "      <td>4.0</td>\n",
              "      <td>0</td>\n",
              "      <td>0</td>\n",
              "      <td>1</td>\n",
              "      <td>0</td>\n",
              "    </tr>\n",
              "    <tr>\n",
              "      <th>...</th>\n",
              "      <td>...</td>\n",
              "      <td>...</td>\n",
              "      <td>...</td>\n",
              "      <td>...</td>\n",
              "      <td>...</td>\n",
              "      <td>...</td>\n",
              "      <td>...</td>\n",
              "      <td>...</td>\n",
              "      <td>...</td>\n",
              "      <td>...</td>\n",
              "      <td>...</td>\n",
              "      <td>...</td>\n",
              "      <td>...</td>\n",
              "      <td>...</td>\n",
              "      <td>...</td>\n",
              "      <td>...</td>\n",
              "      <td>...</td>\n",
              "      <td>...</td>\n",
              "      <td>...</td>\n",
              "      <td>...</td>\n",
              "      <td>...</td>\n",
              "    </tr>\n",
              "    <tr>\n",
              "      <th>19576</th>\n",
              "      <td>TACHA DE VEHICULO</td>\n",
              "      <td>TACHA DE VEHICULO</td>\n",
              "      <td>2023-05-19</td>\n",
              "      <td>21:00:00 - 23:59:59</td>\n",
              "      <td>VEHICULO</td>\n",
              "      <td>AUTOMOVIL [VEHICULO]</td>\n",
              "      <td>Mayor de edad</td>\n",
              "      <td>HOMBRE</td>\n",
              "      <td>COSTA RICA</td>\n",
              "      <td>SAN JOSE</td>\n",
              "      <td>...</td>\n",
              "      <td>9.0</td>\n",
              "      <td>1.0</td>\n",
              "      <td>0.0</td>\n",
              "      <td>0.0</td>\n",
              "      <td>5.0</td>\n",
              "      <td>5.0</td>\n",
              "      <td>0</td>\n",
              "      <td>0</td>\n",
              "      <td>1</td>\n",
              "      <td>1</td>\n",
              "    </tr>\n",
              "    <tr>\n",
              "      <th>19577</th>\n",
              "      <td>TACHA DE VEHICULO</td>\n",
              "      <td>TACHA DE VEHICULO</td>\n",
              "      <td>2023-05-19</td>\n",
              "      <td>15:00:00 - 17:59:59</td>\n",
              "      <td>VEHICULO</td>\n",
              "      <td>AUTOMOVIL [VEHICULO]</td>\n",
              "      <td>Adulto Mayor</td>\n",
              "      <td>HOMBRE</td>\n",
              "      <td>COSTA RICA</td>\n",
              "      <td>CARTAGO</td>\n",
              "      <td>...</td>\n",
              "      <td>9.0</td>\n",
              "      <td>3.0</td>\n",
              "      <td>0.0</td>\n",
              "      <td>0.0</td>\n",
              "      <td>4.0</td>\n",
              "      <td>24.0</td>\n",
              "      <td>2</td>\n",
              "      <td>0</td>\n",
              "      <td>2</td>\n",
              "      <td>1</td>\n",
              "    </tr>\n",
              "    <tr>\n",
              "      <th>19578</th>\n",
              "      <td>TACHA DE VEHICULO</td>\n",
              "      <td>TACHA DE VEHICULO</td>\n",
              "      <td>2023-05-22</td>\n",
              "      <td>18:00:00 - 20:59:59</td>\n",
              "      <td>VEHICULO</td>\n",
              "      <td>AUTOMOVIL [VEHICULO]</td>\n",
              "      <td>Mayor de edad</td>\n",
              "      <td>HOMBRE</td>\n",
              "      <td>COSTA RICA</td>\n",
              "      <td>ALAJUELA</td>\n",
              "      <td>...</td>\n",
              "      <td>9.0</td>\n",
              "      <td>1.0</td>\n",
              "      <td>0.0</td>\n",
              "      <td>0.0</td>\n",
              "      <td>1.0</td>\n",
              "      <td>6.0</td>\n",
              "      <td>0</td>\n",
              "      <td>0</td>\n",
              "      <td>1</td>\n",
              "      <td>1</td>\n",
              "    </tr>\n",
              "    <tr>\n",
              "      <th>19579</th>\n",
              "      <td>TACHA DE VEHICULO</td>\n",
              "      <td>TACHA DE VEHICULO</td>\n",
              "      <td>2023-05-22</td>\n",
              "      <td>18:00:00 - 20:59:59</td>\n",
              "      <td>VEHICULO</td>\n",
              "      <td>AUTOMOVIL [VEHICULO]</td>\n",
              "      <td>Mayor de edad</td>\n",
              "      <td>HOMBRE</td>\n",
              "      <td>COSTA RICA</td>\n",
              "      <td>SAN JOSE</td>\n",
              "      <td>...</td>\n",
              "      <td>9.0</td>\n",
              "      <td>1.0</td>\n",
              "      <td>0.0</td>\n",
              "      <td>0.0</td>\n",
              "      <td>5.0</td>\n",
              "      <td>52.0</td>\n",
              "      <td>2</td>\n",
              "      <td>0</td>\n",
              "      <td>2</td>\n",
              "      <td>1</td>\n",
              "    </tr>\n",
              "    <tr>\n",
              "      <th>19580</th>\n",
              "      <td>TACHA DE VEHICULO</td>\n",
              "      <td>TACHA DE VEHICULO</td>\n",
              "      <td>2023-03-26</td>\n",
              "      <td>18:00:00 - 20:59:59</td>\n",
              "      <td>VEHICULO</td>\n",
              "      <td>SERVICIO PUBLICO/TAXI LEGAL O PIRATA/AUTOBUS [...</td>\n",
              "      <td>Desconocido</td>\n",
              "      <td>DESCONOCIDO</td>\n",
              "      <td>Desconocido</td>\n",
              "      <td>SAN JOSE</td>\n",
              "      <td>...</td>\n",
              "      <td>7.0</td>\n",
              "      <td>2.0</td>\n",
              "      <td>2.0</td>\n",
              "      <td>2.0</td>\n",
              "      <td>5.0</td>\n",
              "      <td>7.0</td>\n",
              "      <td>0</td>\n",
              "      <td>0</td>\n",
              "      <td>1</td>\n",
              "      <td>2</td>\n",
              "    </tr>\n",
              "  </tbody>\n",
              "</table>\n",
              "<p>19581 rows × 25 columns</p>\n",
              "</div>\n",
              "      <button class=\"colab-df-convert\" onclick=\"convertToInteractive('df-60dae078-0545-4c24-bbda-185d0f4653d8')\"\n",
              "              title=\"Convert this dataframe to an interactive table.\"\n",
              "              style=\"display:none;\">\n",
              "        \n",
              "  <svg xmlns=\"http://www.w3.org/2000/svg\" height=\"24px\"viewBox=\"0 0 24 24\"\n",
              "       width=\"24px\">\n",
              "    <path d=\"M0 0h24v24H0V0z\" fill=\"none\"/>\n",
              "    <path d=\"M18.56 5.44l.94 2.06.94-2.06 2.06-.94-2.06-.94-.94-2.06-.94 2.06-2.06.94zm-11 1L8.5 8.5l.94-2.06 2.06-.94-2.06-.94L8.5 2.5l-.94 2.06-2.06.94zm10 10l.94 2.06.94-2.06 2.06-.94-2.06-.94-.94-2.06-.94 2.06-2.06.94z\"/><path d=\"M17.41 7.96l-1.37-1.37c-.4-.4-.92-.59-1.43-.59-.52 0-1.04.2-1.43.59L10.3 9.45l-7.72 7.72c-.78.78-.78 2.05 0 2.83L4 21.41c.39.39.9.59 1.41.59.51 0 1.02-.2 1.41-.59l7.78-7.78 2.81-2.81c.8-.78.8-2.07 0-2.86zM5.41 20L4 18.59l7.72-7.72 1.47 1.35L5.41 20z\"/>\n",
              "  </svg>\n",
              "      </button>\n",
              "      \n",
              "  <style>\n",
              "    .colab-df-container {\n",
              "      display:flex;\n",
              "      flex-wrap:wrap;\n",
              "      gap: 12px;\n",
              "    }\n",
              "\n",
              "    .colab-df-convert {\n",
              "      background-color: #E8F0FE;\n",
              "      border: none;\n",
              "      border-radius: 50%;\n",
              "      cursor: pointer;\n",
              "      display: none;\n",
              "      fill: #1967D2;\n",
              "      height: 32px;\n",
              "      padding: 0 0 0 0;\n",
              "      width: 32px;\n",
              "    }\n",
              "\n",
              "    .colab-df-convert:hover {\n",
              "      background-color: #E2EBFA;\n",
              "      box-shadow: 0px 1px 2px rgba(60, 64, 67, 0.3), 0px 1px 3px 1px rgba(60, 64, 67, 0.15);\n",
              "      fill: #174EA6;\n",
              "    }\n",
              "\n",
              "    [theme=dark] .colab-df-convert {\n",
              "      background-color: #3B4455;\n",
              "      fill: #D2E3FC;\n",
              "    }\n",
              "\n",
              "    [theme=dark] .colab-df-convert:hover {\n",
              "      background-color: #434B5C;\n",
              "      box-shadow: 0px 1px 3px 1px rgba(0, 0, 0, 0.15);\n",
              "      filter: drop-shadow(0px 1px 2px rgba(0, 0, 0, 0.3));\n",
              "      fill: #FFFFFF;\n",
              "    }\n",
              "  </style>\n",
              "\n",
              "      <script>\n",
              "        const buttonEl =\n",
              "          document.querySelector('#df-60dae078-0545-4c24-bbda-185d0f4653d8 button.colab-df-convert');\n",
              "        buttonEl.style.display =\n",
              "          google.colab.kernel.accessAllowed ? 'block' : 'none';\n",
              "\n",
              "        async function convertToInteractive(key) {\n",
              "          const element = document.querySelector('#df-60dae078-0545-4c24-bbda-185d0f4653d8');\n",
              "          const dataTable =\n",
              "            await google.colab.kernel.invokeFunction('convertToInteractive',\n",
              "                                                     [key], {});\n",
              "          if (!dataTable) return;\n",
              "\n",
              "          const docLinkHtml = 'Like what you see? Visit the ' +\n",
              "            '<a target=\"_blank\" href=https://colab.research.google.com/notebooks/data_table.ipynb>data table notebook</a>'\n",
              "            + ' to learn more about interactive tables.';\n",
              "          element.innerHTML = '';\n",
              "          dataTable['output_type'] = 'display_data';\n",
              "          await google.colab.output.renderOutput(dataTable, element);\n",
              "          const docLink = document.createElement('div');\n",
              "          docLink.innerHTML = docLinkHtml;\n",
              "          element.appendChild(docLink);\n",
              "        }\n",
              "      </script>\n",
              "    </div>\n",
              "  </div>\n",
              "  "
            ]
          },
          "metadata": {},
          "execution_count": 36
        }
      ]
    },
    {
      "cell_type": "markdown",
      "source": [
        "# Conclusiones\n",
        "\n",
        "En este ejercicio, se aplicaron cuatro algoritmos de clustering diferentes: KMeans, DBSCAN, Agglomerative Clustering y Gaussian Mixture Model, a un conjunto de datos de reportes de delincuencia en Costa Rica. El objetivo del análisis fue determinar el algoritmo más apropiado para caracterizar el conjunto de datos y obtener conclusiones sobre la naturaleza de los datos en función de los grupos resultantes.\n",
        "\n",
        "Luego del preprocesamiento y limpieza de los datos, se seleccionaron diez variables relevantes, entre ellas, tipo de delito, subtipo de delito, fecha, información de la víctima, subtipo de víctima, edad, género, nacionalidad, provincia y cantón. Luego se le fue aplicado cada algoritmo al conjunto de datos, ajustando los hiperparámetros para optimizar el rendimiento de cada algoritmo. Se usaron los métodos de codo y silueta para determinar el número óptimo de grupos para el algoritmo KMeans y los valores óptimos para los parámetros *eps* y *min_samples* para el algoritmo DBSCAN. Para el algoritmo Agglomerative Clustering, se uso un dendrograma para determinar el número óptimo de clusters. Finalmente, se usa el criterio de información bayesiano para determinar el número óptimo de componentes para el algoritmo de Gaussian Mixture.\n",
        "\n",
        "Para evaluar el rendimiento de cada algoritmo, se calcularon los puntajes de silueta para cada grupo resultante. El algoritmo DBSCAN obtuvo la puntuación de silueta más alta, lo que indica que produjo los grupos más distintos y mejor separados. El algoritmo KMeans obtuvo el segundo puntaje de silueta más alto, pero los grupos que produjo fueron menos distintos y más superpuestos que los producidos por DBSCAN. El algoritmo Agglomerative Clustering tuvo una puntuación de silueta moderada, lo que indica que no fue tan efectivo como los otros algoritmos para agrupar los datosm y por ultimo, el algoritmo de Gaussian Mixture obtuvo la puntuación de silueta muy baja, lo que sugiere que no era adecuado para agrupar este conjunto de datos en particular.\n",
        "\n",
        "Con base en estos resultados, se concluye que DBSCAN fue el algoritmo más apropiado para caracterizar el conjunto de datos de Costa Rica utilizado en este ejercicio. Sin embargo, es importante tener en cuenta que la elección del algoritmo más adecuado depende del problema específico y de los datos disponibles y siempre es recomendable probar varios algoritmos y evaluar su rendimiento utilizando métricas relevantes antes de tomar una decisión final."
      ],
      "metadata": {
        "id": "f4eSytt4Nd-S"
      }
    },
    {
      "cell_type": "markdown",
      "source": [
        "# Resumen de Resultados\n",
        "\n",
        "- El algoritmo DBSCAN produjo los clusters más distintos y mejor separados, lo que indica que es el algoritmo más apropiado para caracterizar el conjunto de datos utilizado en este ejercicio. Lo que sugiere que los patrones subyacentes en los datos están bien definidos y se pueden agrupar en una pequeña cantidad de grupos.\n",
        "\n",
        "- El algoritmo KMeans tuvo la segunda puntuación de silueta más alta, pero los grupos que produjo fueron menos distintos y más superpuestos que los producidos por DBSCAN. Esto sugiere que los patrones subyacentes en los datos están menos definidos que los capturados por DBSCAN.\n",
        "\n",
        "- El algoritmo Agglomerative Clustering tuvo una puntuación de silueta moderada, lo que indica que no fue tan efectivo como los otros algoritmos para agrupar los datos. Esto sugiere que la naturaleza jerárquica del algoritmo puede no ser adecuada para la estructura de los datos.\n",
        "\n",
        "- El algoritmo de Gaussian Mixture tuvo una puntuación de silueta muy baja, lo que sugiere que los patrones subyacentes en los datos no están bien capturados por las suposiciones del modelo de mezcla gaussiana."
      ],
      "metadata": {
        "id": "BgJuVd4GSX5R"
      }
    },
    {
      "cell_type": "markdown",
      "source": [
        "# Referencias\n",
        "\n",
        "1.  McKinney, W., & Others. (2010). Data structures for statistical computing in Python. In Proceedings of the 9th Python in Science Conference (pp. 51-56).\n",
        "\n",
        "2. Pedregosa, F., Varoquaux, G., Gramfort, A., Michel, V., Thirion, B., Grisel, O., ... & Vanderplas, J. (2011). Scikit-learn: Machine learning in Python. Journal of Machine Learning Research, 12(Oct), 2825-2830.\n",
        "\n",
        "3. Hunter, J. D. (2007). Matplotlib: A 2D graphics environment. Computing in Science & Engineering, 9(3), 90-95.\n",
        "\n",
        "4. Mora, M. (2023). IA-2023-1 Clustering video1330559580 [Video]. YouTube. Retrieved from https://www.youtube.com/watch?v=VU_mPGMXT-Y\n",
        "\n",
        "5. TEC Digital. (2023). 02_K-Means.ipynb [Notebook file]. Retrieved from https://tecdigital.tec.ac.cr/dotlrn/classes/CA/IC6200/S-1-2023.AL.IC6200.20/file-storage/view/clases%2Fsemana13-clustering-y-metodos-de-instancias%2F02_K-Means.ipynb\n",
        "\n",
        "6. TEC Digital. (2023). 03_clustering_introduction.ipynb [Notebook file]. Retrieved from https://tecdigital.tec.ac.cr/dotlrn/classes/CA/IC6200/S-1-2023.AL.IC6200.20/file-storage/view/clases%2Fsemana13-clustering-y-metodos-de-instancias%2F03_clustering_introduction.ipynb"
      ],
      "metadata": {
        "id": "XpLaBi61TJQH"
      }
    }
  ]
}